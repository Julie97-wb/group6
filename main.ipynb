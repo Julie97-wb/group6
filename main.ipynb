{
 "cells": [
  {
   "cell_type": "markdown",
   "id": "dd8ba154",
   "metadata": {},
   "source": [
    "## **DATA CLEANING**"
   ]
  },
  {
   "cell_type": "code",
   "execution_count": 98,
   "id": "7a626c29",
   "metadata": {},
   "outputs": [],
   "source": [
    "# Import the necessary libraries \n",
    "import pandas as pd\n",
    "pd.options.mode.chained_assignment = None          #prevent unnecessary warnings from pandas so our noteboopk looks cleaner\n",
    "import sqlite3"
   ]
  },
  {
   "cell_type": "markdown",
   "id": "304c9df5",
   "metadata": {},
   "source": [
    "**1. tn.movie_budgets.csv**"
   ]
  },
  {
   "cell_type": "code",
   "execution_count": 99,
   "id": "e8ceaa04",
   "metadata": {},
   "outputs": [
    {
     "data": {
      "text/html": [
       "<div>\n",
       "<style scoped>\n",
       "    .dataframe tbody tr th:only-of-type {\n",
       "        vertical-align: middle;\n",
       "    }\n",
       "\n",
       "    .dataframe tbody tr th {\n",
       "        vertical-align: top;\n",
       "    }\n",
       "\n",
       "    .dataframe thead th {\n",
       "        text-align: right;\n",
       "    }\n",
       "</style>\n",
       "<table border=\"1\" class=\"dataframe\">\n",
       "  <thead>\n",
       "    <tr style=\"text-align: right;\">\n",
       "      <th></th>\n",
       "      <th>id</th>\n",
       "      <th>release_date</th>\n",
       "      <th>movie</th>\n",
       "      <th>production_budget</th>\n",
       "      <th>domestic_gross</th>\n",
       "      <th>worldwide_gross</th>\n",
       "    </tr>\n",
       "  </thead>\n",
       "  <tbody>\n",
       "    <tr>\n",
       "      <th>0</th>\n",
       "      <td>1</td>\n",
       "      <td>Dec 18, 2009</td>\n",
       "      <td>Avatar</td>\n",
       "      <td>$425,000,000</td>\n",
       "      <td>$760,507,625</td>\n",
       "      <td>$2,776,345,279</td>\n",
       "    </tr>\n",
       "    <tr>\n",
       "      <th>1</th>\n",
       "      <td>2</td>\n",
       "      <td>May 20, 2011</td>\n",
       "      <td>Pirates of the Caribbean: On Stranger Tides</td>\n",
       "      <td>$410,600,000</td>\n",
       "      <td>$241,063,875</td>\n",
       "      <td>$1,045,663,875</td>\n",
       "    </tr>\n",
       "    <tr>\n",
       "      <th>2</th>\n",
       "      <td>3</td>\n",
       "      <td>Jun 7, 2019</td>\n",
       "      <td>Dark Phoenix</td>\n",
       "      <td>$350,000,000</td>\n",
       "      <td>$42,762,350</td>\n",
       "      <td>$149,762,350</td>\n",
       "    </tr>\n",
       "    <tr>\n",
       "      <th>3</th>\n",
       "      <td>4</td>\n",
       "      <td>May 1, 2015</td>\n",
       "      <td>Avengers: Age of Ultron</td>\n",
       "      <td>$330,600,000</td>\n",
       "      <td>$459,005,868</td>\n",
       "      <td>$1,403,013,963</td>\n",
       "    </tr>\n",
       "    <tr>\n",
       "      <th>4</th>\n",
       "      <td>5</td>\n",
       "      <td>Dec 15, 2017</td>\n",
       "      <td>Star Wars Ep. VIII: The Last Jedi</td>\n",
       "      <td>$317,000,000</td>\n",
       "      <td>$620,181,382</td>\n",
       "      <td>$1,316,721,747</td>\n",
       "    </tr>\n",
       "  </tbody>\n",
       "</table>\n",
       "</div>"
      ],
      "text/plain": [
       "   id  release_date                                        movie  \\\n",
       "0   1  Dec 18, 2009                                       Avatar   \n",
       "1   2  May 20, 2011  Pirates of the Caribbean: On Stranger Tides   \n",
       "2   3   Jun 7, 2019                                 Dark Phoenix   \n",
       "3   4   May 1, 2015                      Avengers: Age of Ultron   \n",
       "4   5  Dec 15, 2017            Star Wars Ep. VIII: The Last Jedi   \n",
       "\n",
       "  production_budget domestic_gross worldwide_gross  \n",
       "0      $425,000,000   $760,507,625  $2,776,345,279  \n",
       "1      $410,600,000   $241,063,875  $1,045,663,875  \n",
       "2      $350,000,000    $42,762,350    $149,762,350  \n",
       "3      $330,600,000   $459,005,868  $1,403,013,963  \n",
       "4      $317,000,000   $620,181,382  $1,316,721,747  "
      ]
     },
     "execution_count": 99,
     "metadata": {},
     "output_type": "execute_result"
    }
   ],
   "source": [
    "# Load the dataframe\n",
    "tn_df = pd.read_csv('./zippedData/tn.movie_budgets.csv.gz')\n",
    "tn_df.head()\n",
    "\n"
   ]
  },
  {
   "cell_type": "code",
   "execution_count": 100,
   "id": "efe32c71",
   "metadata": {},
   "outputs": [
    {
     "name": "stdout",
     "output_type": "stream",
     "text": [
      "<class 'pandas.core.frame.DataFrame'>\n",
      "RangeIndex: 5782 entries, 0 to 5781\n",
      "Data columns (total 6 columns):\n",
      " #   Column             Non-Null Count  Dtype \n",
      "---  ------             --------------  ----- \n",
      " 0   id                 5782 non-null   int64 \n",
      " 1   release_date       5782 non-null   object\n",
      " 2   movie              5782 non-null   object\n",
      " 3   production_budget  5782 non-null   object\n",
      " 4   domestic_gross     5782 non-null   object\n",
      " 5   worldwide_gross    5782 non-null   object\n",
      "dtypes: int64(1), object(5)\n",
      "memory usage: 271.2+ KB\n"
     ]
    }
   ],
   "source": [
    "# Gives us a concise summary of our dataframe by giving us basic information of the dataframe\n",
    "tn_df.info()"
   ]
  },
  {
   "cell_type": "markdown",
   "id": "4e1a2e75",
   "metadata": {},
   "source": [
    "From our findings above, we can see that our dataframe has 5782 entries and 36 columns in total. We have 5 columns in the string format and one other column in the integer format(int64). "
   ]
  },
  {
   "cell_type": "code",
   "execution_count": 101,
   "id": "19940949",
   "metadata": {},
   "outputs": [
    {
     "data": {
      "text/html": [
       "<div>\n",
       "<style scoped>\n",
       "    .dataframe tbody tr th:only-of-type {\n",
       "        vertical-align: middle;\n",
       "    }\n",
       "\n",
       "    .dataframe tbody tr th {\n",
       "        vertical-align: top;\n",
       "    }\n",
       "\n",
       "    .dataframe thead th {\n",
       "        text-align: right;\n",
       "    }\n",
       "</style>\n",
       "<table border=\"1\" class=\"dataframe\">\n",
       "  <thead>\n",
       "    <tr style=\"text-align: right;\">\n",
       "      <th></th>\n",
       "      <th>id</th>\n",
       "    </tr>\n",
       "  </thead>\n",
       "  <tbody>\n",
       "    <tr>\n",
       "      <th>count</th>\n",
       "      <td>5782.000000</td>\n",
       "    </tr>\n",
       "    <tr>\n",
       "      <th>mean</th>\n",
       "      <td>50.372363</td>\n",
       "    </tr>\n",
       "    <tr>\n",
       "      <th>std</th>\n",
       "      <td>28.821076</td>\n",
       "    </tr>\n",
       "    <tr>\n",
       "      <th>min</th>\n",
       "      <td>1.000000</td>\n",
       "    </tr>\n",
       "    <tr>\n",
       "      <th>25%</th>\n",
       "      <td>25.000000</td>\n",
       "    </tr>\n",
       "    <tr>\n",
       "      <th>50%</th>\n",
       "      <td>50.000000</td>\n",
       "    </tr>\n",
       "    <tr>\n",
       "      <th>75%</th>\n",
       "      <td>75.000000</td>\n",
       "    </tr>\n",
       "    <tr>\n",
       "      <th>max</th>\n",
       "      <td>100.000000</td>\n",
       "    </tr>\n",
       "  </tbody>\n",
       "</table>\n",
       "</div>"
      ],
      "text/plain": [
       "                id\n",
       "count  5782.000000\n",
       "mean     50.372363\n",
       "std      28.821076\n",
       "min       1.000000\n",
       "25%      25.000000\n",
       "50%      50.000000\n",
       "75%      75.000000\n",
       "max     100.000000"
      ]
     },
     "execution_count": 101,
     "metadata": {},
     "output_type": "execute_result"
    }
   ],
   "source": [
    "# Check the summary statistics of our dataframe\n",
    "tn_df.describe()"
   ]
  },
  {
   "cell_type": "code",
   "execution_count": 102,
   "id": "44e6eef1",
   "metadata": {},
   "outputs": [
    {
     "name": "stdout",
     "output_type": "stream",
     "text": [
      "The dataframe contains: 5782 rows\n",
      "The dataframe contains: 6 columns\n"
     ]
    }
   ],
   "source": [
    "# Shows us the number of rows and columns in our dataframe\n",
    "print('The dataframe contains:', tn_df.shape[0],'rows')\n",
    "print('The dataframe contains:', tn_df.shape[1],'columns')\n"
   ]
  },
  {
   "cell_type": "markdown",
   "id": "b5450dcc",
   "metadata": {},
   "source": [
    "**Handling missing values and duplicate values**"
   ]
  },
  {
   "cell_type": "code",
   "execution_count": 103,
   "id": "7bdee8b1",
   "metadata": {},
   "outputs": [
    {
     "data": {
      "text/plain": [
       "id                   0\n",
       "release_date         0\n",
       "movie                0\n",
       "production_budget    0\n",
       "domestic_gross       0\n",
       "worldwide_gross      0\n",
       "dtype: int64"
      ]
     },
     "execution_count": 103,
     "metadata": {},
     "output_type": "execute_result"
    }
   ],
   "source": [
    "#First check for null values\n",
    "tn_df.isnull().sum()"
   ]
  },
  {
   "cell_type": "markdown",
   "id": "44f21976",
   "metadata": {},
   "source": [
    "There are no missing values in our dataframe."
   ]
  },
  {
   "cell_type": "code",
   "execution_count": 104,
   "id": "5c15fc5c",
   "metadata": {},
   "outputs": [
    {
     "data": {
      "text/plain": [
       "0"
      ]
     },
     "execution_count": 104,
     "metadata": {},
     "output_type": "execute_result"
    }
   ],
   "source": [
    "#Check for duplicates\n",
    "tn_df.duplicated().sum()"
   ]
  },
  {
   "cell_type": "markdown",
   "id": "820e4cd6",
   "metadata": {},
   "source": [
    "We can also see that our dataframe has no duplicates.We also have no need for the release date column in our dataframe so we will drop it. "
   ]
  },
  {
   "cell_type": "code",
   "execution_count": 105,
   "id": "bb5227a1",
   "metadata": {},
   "outputs": [
    {
     "data": {
      "text/html": [
       "<div>\n",
       "<style scoped>\n",
       "    .dataframe tbody tr th:only-of-type {\n",
       "        vertical-align: middle;\n",
       "    }\n",
       "\n",
       "    .dataframe tbody tr th {\n",
       "        vertical-align: top;\n",
       "    }\n",
       "\n",
       "    .dataframe thead th {\n",
       "        text-align: right;\n",
       "    }\n",
       "</style>\n",
       "<table border=\"1\" class=\"dataframe\">\n",
       "  <thead>\n",
       "    <tr style=\"text-align: right;\">\n",
       "      <th></th>\n",
       "      <th>id</th>\n",
       "      <th>movie</th>\n",
       "      <th>production_budget</th>\n",
       "      <th>domestic_gross</th>\n",
       "      <th>worldwide_gross</th>\n",
       "    </tr>\n",
       "  </thead>\n",
       "  <tbody>\n",
       "    <tr>\n",
       "      <th>0</th>\n",
       "      <td>1</td>\n",
       "      <td>Avatar</td>\n",
       "      <td>$425,000,000</td>\n",
       "      <td>$760,507,625</td>\n",
       "      <td>$2,776,345,279</td>\n",
       "    </tr>\n",
       "    <tr>\n",
       "      <th>1</th>\n",
       "      <td>2</td>\n",
       "      <td>Pirates of the Caribbean: On Stranger Tides</td>\n",
       "      <td>$410,600,000</td>\n",
       "      <td>$241,063,875</td>\n",
       "      <td>$1,045,663,875</td>\n",
       "    </tr>\n",
       "    <tr>\n",
       "      <th>2</th>\n",
       "      <td>3</td>\n",
       "      <td>Dark Phoenix</td>\n",
       "      <td>$350,000,000</td>\n",
       "      <td>$42,762,350</td>\n",
       "      <td>$149,762,350</td>\n",
       "    </tr>\n",
       "    <tr>\n",
       "      <th>3</th>\n",
       "      <td>4</td>\n",
       "      <td>Avengers: Age of Ultron</td>\n",
       "      <td>$330,600,000</td>\n",
       "      <td>$459,005,868</td>\n",
       "      <td>$1,403,013,963</td>\n",
       "    </tr>\n",
       "    <tr>\n",
       "      <th>4</th>\n",
       "      <td>5</td>\n",
       "      <td>Star Wars Ep. VIII: The Last Jedi</td>\n",
       "      <td>$317,000,000</td>\n",
       "      <td>$620,181,382</td>\n",
       "      <td>$1,316,721,747</td>\n",
       "    </tr>\n",
       "    <tr>\n",
       "      <th>...</th>\n",
       "      <td>...</td>\n",
       "      <td>...</td>\n",
       "      <td>...</td>\n",
       "      <td>...</td>\n",
       "      <td>...</td>\n",
       "    </tr>\n",
       "    <tr>\n",
       "      <th>5777</th>\n",
       "      <td>78</td>\n",
       "      <td>Red 11</td>\n",
       "      <td>$7,000</td>\n",
       "      <td>$0</td>\n",
       "      <td>$0</td>\n",
       "    </tr>\n",
       "    <tr>\n",
       "      <th>5778</th>\n",
       "      <td>79</td>\n",
       "      <td>Following</td>\n",
       "      <td>$6,000</td>\n",
       "      <td>$48,482</td>\n",
       "      <td>$240,495</td>\n",
       "    </tr>\n",
       "    <tr>\n",
       "      <th>5779</th>\n",
       "      <td>80</td>\n",
       "      <td>Return to the Land of Wonders</td>\n",
       "      <td>$5,000</td>\n",
       "      <td>$1,338</td>\n",
       "      <td>$1,338</td>\n",
       "    </tr>\n",
       "    <tr>\n",
       "      <th>5780</th>\n",
       "      <td>81</td>\n",
       "      <td>A Plague So Pleasant</td>\n",
       "      <td>$1,400</td>\n",
       "      <td>$0</td>\n",
       "      <td>$0</td>\n",
       "    </tr>\n",
       "    <tr>\n",
       "      <th>5781</th>\n",
       "      <td>82</td>\n",
       "      <td>My Date With Drew</td>\n",
       "      <td>$1,100</td>\n",
       "      <td>$181,041</td>\n",
       "      <td>$181,041</td>\n",
       "    </tr>\n",
       "  </tbody>\n",
       "</table>\n",
       "<p>5782 rows × 5 columns</p>\n",
       "</div>"
      ],
      "text/plain": [
       "      id                                        movie production_budget  \\\n",
       "0      1                                       Avatar      $425,000,000   \n",
       "1      2  Pirates of the Caribbean: On Stranger Tides      $410,600,000   \n",
       "2      3                                 Dark Phoenix      $350,000,000   \n",
       "3      4                      Avengers: Age of Ultron      $330,600,000   \n",
       "4      5            Star Wars Ep. VIII: The Last Jedi      $317,000,000   \n",
       "...   ..                                          ...               ...   \n",
       "5777  78                                       Red 11            $7,000   \n",
       "5778  79                                    Following            $6,000   \n",
       "5779  80                Return to the Land of Wonders            $5,000   \n",
       "5780  81                         A Plague So Pleasant            $1,400   \n",
       "5781  82                            My Date With Drew            $1,100   \n",
       "\n",
       "     domestic_gross worldwide_gross  \n",
       "0      $760,507,625  $2,776,345,279  \n",
       "1      $241,063,875  $1,045,663,875  \n",
       "2       $42,762,350    $149,762,350  \n",
       "3      $459,005,868  $1,403,013,963  \n",
       "4      $620,181,382  $1,316,721,747  \n",
       "...             ...             ...  \n",
       "5777             $0              $0  \n",
       "5778        $48,482        $240,495  \n",
       "5779         $1,338          $1,338  \n",
       "5780             $0              $0  \n",
       "5781       $181,041        $181,041  \n",
       "\n",
       "[5782 rows x 5 columns]"
      ]
     },
     "execution_count": 105,
     "metadata": {},
     "output_type": "execute_result"
    }
   ],
   "source": [
    "# Dropping the release_date column\n",
    "tn_df= tn_df.drop('release_date', axis=1)\n",
    "tn_df"
   ]
  },
  {
   "cell_type": "markdown",
   "id": "2d829eab",
   "metadata": {},
   "source": [
    "**Cleaning the production_budget, domestic_gross and worldwide_gross columns**"
   ]
  },
  {
   "cell_type": "code",
   "execution_count": 106,
   "id": "079df781",
   "metadata": {},
   "outputs": [
    {
     "data": {
      "text/plain": [
       "id                    int64\n",
       "movie                object\n",
       "production_budget    object\n",
       "domestic_gross       object\n",
       "worldwide_gross      object\n",
       "dtype: object"
      ]
     },
     "execution_count": 106,
     "metadata": {},
     "output_type": "execute_result"
    }
   ],
   "source": [
    "# Checking the datatypes\n",
    "tn_df.dtypes"
   ]
  },
  {
   "cell_type": "markdown",
   "id": "09d838f0",
   "metadata": {},
   "source": [
    "Our columns represent financial information so its important for us to work with them in integer or float form so that we are able to perform mathematical operations on them. Since the three columns have object data types, we will convert them into integers."
   ]
  },
  {
   "cell_type": "code",
   "execution_count": 107,
   "id": "d445f38a",
   "metadata": {},
   "outputs": [
    {
     "data": {
      "text/html": [
       "<div>\n",
       "<style scoped>\n",
       "    .dataframe tbody tr th:only-of-type {\n",
       "        vertical-align: middle;\n",
       "    }\n",
       "\n",
       "    .dataframe tbody tr th {\n",
       "        vertical-align: top;\n",
       "    }\n",
       "\n",
       "    .dataframe thead th {\n",
       "        text-align: right;\n",
       "    }\n",
       "</style>\n",
       "<table border=\"1\" class=\"dataframe\">\n",
       "  <thead>\n",
       "    <tr style=\"text-align: right;\">\n",
       "      <th></th>\n",
       "      <th>id</th>\n",
       "      <th>movie</th>\n",
       "      <th>production_budget</th>\n",
       "      <th>domestic_gross</th>\n",
       "      <th>worldwide_gross</th>\n",
       "    </tr>\n",
       "  </thead>\n",
       "  <tbody>\n",
       "    <tr>\n",
       "      <th>0</th>\n",
       "      <td>1</td>\n",
       "      <td>Avatar</td>\n",
       "      <td>425000000</td>\n",
       "      <td>760507625</td>\n",
       "      <td>2776345279</td>\n",
       "    </tr>\n",
       "    <tr>\n",
       "      <th>1</th>\n",
       "      <td>2</td>\n",
       "      <td>Pirates of the Caribbean: On Stranger Tides</td>\n",
       "      <td>410600000</td>\n",
       "      <td>241063875</td>\n",
       "      <td>1045663875</td>\n",
       "    </tr>\n",
       "    <tr>\n",
       "      <th>2</th>\n",
       "      <td>3</td>\n",
       "      <td>Dark Phoenix</td>\n",
       "      <td>350000000</td>\n",
       "      <td>42762350</td>\n",
       "      <td>149762350</td>\n",
       "    </tr>\n",
       "    <tr>\n",
       "      <th>3</th>\n",
       "      <td>4</td>\n",
       "      <td>Avengers: Age of Ultron</td>\n",
       "      <td>330600000</td>\n",
       "      <td>459005868</td>\n",
       "      <td>1403013963</td>\n",
       "    </tr>\n",
       "    <tr>\n",
       "      <th>4</th>\n",
       "      <td>5</td>\n",
       "      <td>Star Wars Ep. VIII: The Last Jedi</td>\n",
       "      <td>317000000</td>\n",
       "      <td>620181382</td>\n",
       "      <td>1316721747</td>\n",
       "    </tr>\n",
       "  </tbody>\n",
       "</table>\n",
       "</div>"
      ],
      "text/plain": [
       "   id                                        movie  production_budget  \\\n",
       "0   1                                       Avatar          425000000   \n",
       "1   2  Pirates of the Caribbean: On Stranger Tides          410600000   \n",
       "2   3                                 Dark Phoenix          350000000   \n",
       "3   4                      Avengers: Age of Ultron          330600000   \n",
       "4   5            Star Wars Ep. VIII: The Last Jedi          317000000   \n",
       "\n",
       "   domestic_gross  worldwide_gross  \n",
       "0       760507625       2776345279  \n",
       "1       241063875       1045663875  \n",
       "2        42762350        149762350  \n",
       "3       459005868       1403013963  \n",
       "4       620181382       1316721747  "
      ]
     },
     "execution_count": 107,
     "metadata": {},
     "output_type": "execute_result"
    }
   ],
   "source": [
    "# Removing the dollar signs and commas from the columns\n",
    "tn_df['worldwide_gross']= tn_df['worldwide_gross'].replace('[\\$,]', '', regex= True)\n",
    "tn_df['production_budget']= tn_df['production_budget'].replace('[\\$,]', '', regex= True)\n",
    "tn_df['domestic_gross']= tn_df['domestic_gross'].replace('[\\$,]', '', regex= True)\n",
    "\n",
    "# Converting the columns into integers\n",
    "tn_df['worldwide_gross']= tn_df['worldwide_gross'].astype('int64')\n",
    "tn_df['production_budget']= tn_df['production_budget'].astype('int64')\n",
    "tn_df['domestic_gross']= tn_df['domestic_gross'].astype('int64')\n",
    "\n",
    "# Previewing the first five results\n",
    "tn_df.head()\n"
   ]
  },
  {
   "cell_type": "code",
   "execution_count": 108,
   "id": "d7580c0a",
   "metadata": {},
   "outputs": [
    {
     "data": {
      "text/plain": [
       "367"
      ]
     },
     "execution_count": 108,
     "metadata": {},
     "output_type": "execute_result"
    }
   ],
   "source": [
    "# Checking to see if there are any 0 values in our worldwide_gross column\n",
    "(tn_df['worldwide_gross'] == 0).sum()"
   ]
  },
  {
   "cell_type": "markdown",
   "id": "82863f8c",
   "metadata": {},
   "source": [
    "We have 367 zero values in our column, we will drop these records and retain the rest."
   ]
  },
  {
   "cell_type": "code",
   "execution_count": 109,
   "id": "eb401494",
   "metadata": {},
   "outputs": [],
   "source": [
    "# Retaining the rows where the values in the worldwide_gross is greater than zero\n",
    "tn_df = tn_df[tn_df['worldwide_gross'] > 0]\n",
    "\n",
    "# Checking that the zero values have been dropped\n",
    "assert (tn_df['worldwide_gross']== 0).sum() == 0"
   ]
  },
  {
   "cell_type": "markdown",
   "id": "2c1065ef",
   "metadata": {},
   "source": [
    "**Checking for outliers in the production_budget column**"
   ]
  },
  {
   "cell_type": "code",
   "execution_count": 110,
   "id": "198df36a",
   "metadata": {},
   "outputs": [
    {
     "data": {
      "image/png": "[encoded data removed]",
      "text/plain": [
       "<Figure size 432x288 with 1 Axes>"
      ]
     },
     "metadata": {
      "needs_background": "light"
     },
     "output_type": "display_data"
    }
   ],
   "source": [
    "import seaborn as sns\n",
    "sns.histplot(tn_df['production_budget'], bins=50);\n"
   ]
  },
  {
   "cell_type": "markdown",
   "id": "000c1386",
   "metadata": {},
   "source": [
    "The  **production budget** is **left-skewed**, which means:\n",
    "- There are **fewer films with very low budgets**, which pull the **tail to the left**.\n",
    "  \n",
    "- Most films in the  dataset had **large budgets**.\n",
    "- Only a few had **unusually small budgets**, making them the outliers on the lower end."
   ]
  },
  {
   "cell_type": "code",
   "execution_count": 111,
   "id": "ead51558",
   "metadata": {},
   "outputs": [
    {
     "name": "stdout",
     "output_type": "stream",
     "text": [
      "Number of outliers: 411\n",
      "     production_budget\n",
      "0            425000000\n",
      "1            410600000\n",
      "2            350000000\n",
      "3            330600000\n",
      "4            317000000\n",
      "..                 ...\n",
      "407           99000000\n",
      "408           99000000\n",
      "409           98000000\n",
      "410           97000000\n",
      "411           97000000\n",
      "\n",
      "[411 rows x 1 columns]\n"
     ]
    }
   ],
   "source": [
    "# Calculate Q1 (25th percentile) and Q3 (75th percentile)\n",
    "Q1 = tn_df['production_budget'].quantile(0.25)\n",
    "Q3 = tn_df['production_budget'].quantile(0.75)\n",
    "\n",
    "# Calculate IQR\n",
    "IQR = Q3 - Q1\n",
    "\n",
    "# Define lower and upper bounds for outliers\n",
    "lower_bound = Q1 - 1.5 * IQR\n",
    "upper_bound = Q3 + 1.5 * IQR\n",
    "\n",
    "# Find outliers\n",
    "outliers = tn_df[(tn_df['production_budget'] < lower_bound) | (tn_df['production_budget'] > upper_bound)]\n",
    "\n",
    "print(f\"Number of outliers: {len(outliers)}\")\n",
    "print(outliers[['production_budget']])"
   ]
  },
  {
   "cell_type": "markdown",
   "id": "2dacf0c7",
   "metadata": {},
   "source": [
    "We keep the outliers since these are true values. "
   ]
  },
  {
   "cell_type": "markdown",
   "id": "a724d0f1",
   "metadata": {},
   "source": [
    "**Checking for outliers in the worldwide_gross column**"
   ]
  },
  {
   "cell_type": "code",
   "execution_count": 112,
   "id": "5348fdee",
   "metadata": {},
   "outputs": [
    {
     "data": {
      "image/png": "[encoded data removed]",
      "text/plain": [
       "<Figure size 432x288 with 1 Axes>"
      ]
     },
     "metadata": {
      "needs_background": "light"
     },
     "output_type": "display_data"
    }
   ],
   "source": [
    "sns.histplot(tn_df['worldwide_gross'], bins=50);"
   ]
  },
  {
   "cell_type": "markdown",
   "id": "15b07059",
   "metadata": {},
   "source": [
    "The tail is longer to the left.Most films in the dataset likely had high gross earnings, while a few had very low earnings that pull the distribution left."
   ]
  },
  {
   "cell_type": "code",
   "execution_count": 113,
   "id": "f5c10da4",
   "metadata": {},
   "outputs": [
    {
     "name": "stdout",
     "output_type": "stream",
     "text": [
      "Number of outliers: 564\n",
      "      worldwide_gross\n",
      "0          2776345279\n",
      "1          1045663875\n",
      "3          1403013963\n",
      "4          1316721747\n",
      "5          2053311220\n",
      "...               ...\n",
      "4249        278964806\n",
      "4567        390525192\n",
      "4589        261249383\n",
      "4775        263591415\n",
      "5346        268000000\n",
      "\n",
      "[564 rows x 1 columns]\n"
     ]
    }
   ],
   "source": [
    "# Calculate Q1 (25th percentile) and Q3 (75th percentile)\n",
    "Q1 = tn_df['worldwide_gross'].quantile(0.25)\n",
    "Q3 = tn_df['worldwide_gross'].quantile(0.75)\n",
    "\n",
    "# Calculate IQR\n",
    "IQR = Q3 - Q1\n",
    "\n",
    "# Define lower and upper bounds for outliers\n",
    "lower_bound = Q1 - 1.5 * IQR\n",
    "upper_bound = Q3 + 1.5 * IQR\n",
    "\n",
    "# Find outliers\n",
    "outliers = tn_df[(tn_df['worldwide_gross'] < lower_bound) | (tn_df['worldwide_gross'] > upper_bound)]\n",
    "\n",
    "print(f\"Number of outliers: {len(outliers)}\")\n",
    "print(outliers[['worldwide_gross']])"
   ]
  },
  {
   "cell_type": "markdown",
   "id": "2edd35c4",
   "metadata": {},
   "source": [
    "We also keep the outliers in the worldwide_gross column."
   ]
  },
  {
   "cell_type": "markdown",
   "id": "f37cb335",
   "metadata": {},
   "source": [
    "Now we will create a profit column that will allow us to see the profitability of each movie.\n",
    "\n"
   ]
  },
  {
   "cell_type": "code",
   "execution_count": 114,
   "id": "30b56049",
   "metadata": {},
   "outputs": [
    {
     "data": {
      "text/html": [
       "<div>\n",
       "<style scoped>\n",
       "    .dataframe tbody tr th:only-of-type {\n",
       "        vertical-align: middle;\n",
       "    }\n",
       "\n",
       "    .dataframe tbody tr th {\n",
       "        vertical-align: top;\n",
       "    }\n",
       "\n",
       "    .dataframe thead th {\n",
       "        text-align: right;\n",
       "    }\n",
       "</style>\n",
       "<table border=\"1\" class=\"dataframe\">\n",
       "  <thead>\n",
       "    <tr style=\"text-align: right;\">\n",
       "      <th></th>\n",
       "      <th>id</th>\n",
       "      <th>movie</th>\n",
       "      <th>production_budget</th>\n",
       "      <th>domestic_gross</th>\n",
       "      <th>worldwide_gross</th>\n",
       "      <th>profit</th>\n",
       "    </tr>\n",
       "  </thead>\n",
       "  <tbody>\n",
       "    <tr>\n",
       "      <th>0</th>\n",
       "      <td>1</td>\n",
       "      <td>Avatar</td>\n",
       "      <td>425000000</td>\n",
       "      <td>760507625</td>\n",
       "      <td>2776345279</td>\n",
       "      <td>2351345279</td>\n",
       "    </tr>\n",
       "    <tr>\n",
       "      <th>1</th>\n",
       "      <td>2</td>\n",
       "      <td>Pirates of the Caribbean: On Stranger Tides</td>\n",
       "      <td>410600000</td>\n",
       "      <td>241063875</td>\n",
       "      <td>1045663875</td>\n",
       "      <td>635063875</td>\n",
       "    </tr>\n",
       "    <tr>\n",
       "      <th>2</th>\n",
       "      <td>3</td>\n",
       "      <td>Dark Phoenix</td>\n",
       "      <td>350000000</td>\n",
       "      <td>42762350</td>\n",
       "      <td>149762350</td>\n",
       "      <td>-200237650</td>\n",
       "    </tr>\n",
       "    <tr>\n",
       "      <th>3</th>\n",
       "      <td>4</td>\n",
       "      <td>Avengers: Age of Ultron</td>\n",
       "      <td>330600000</td>\n",
       "      <td>459005868</td>\n",
       "      <td>1403013963</td>\n",
       "      <td>1072413963</td>\n",
       "    </tr>\n",
       "    <tr>\n",
       "      <th>4</th>\n",
       "      <td>5</td>\n",
       "      <td>Star Wars Ep. VIII: The Last Jedi</td>\n",
       "      <td>317000000</td>\n",
       "      <td>620181382</td>\n",
       "      <td>1316721747</td>\n",
       "      <td>999721747</td>\n",
       "    </tr>\n",
       "  </tbody>\n",
       "</table>\n",
       "</div>"
      ],
      "text/plain": [
       "   id                                        movie  production_budget  \\\n",
       "0   1                                       Avatar          425000000   \n",
       "1   2  Pirates of the Caribbean: On Stranger Tides          410600000   \n",
       "2   3                                 Dark Phoenix          350000000   \n",
       "3   4                      Avengers: Age of Ultron          330600000   \n",
       "4   5            Star Wars Ep. VIII: The Last Jedi          317000000   \n",
       "\n",
       "   domestic_gross  worldwide_gross      profit  \n",
       "0       760507625       2776345279  2351345279  \n",
       "1       241063875       1045663875   635063875  \n",
       "2        42762350        149762350  -200237650  \n",
       "3       459005868       1403013963  1072413963  \n",
       "4       620181382       1316721747   999721747  "
      ]
     },
     "execution_count": 114,
     "metadata": {},
     "output_type": "execute_result"
    }
   ],
   "source": [
    "# Subtracting the production_budget from the worldwide_gross to calculate profit\n",
    "tn_df['profit'] = tn_df['worldwide_gross'] - tn_df['production_budget']\n",
    "\n",
    "# Previewing the first five rows\n",
    "tn_df.head()\n"
   ]
  },
  {
   "cell_type": "markdown",
   "id": "05cac35e",
   "metadata": {},
   "source": [
    "**2.im.db**"
   ]
  },
  {
   "cell_type": "code",
   "execution_count": 115,
   "id": "df70a48b",
   "metadata": {},
   "outputs": [
    {
     "name": "stdout",
     "output_type": "stream",
     "text": [
      "Tables in the database:\n",
      "            name\n",
      "0   movie_basics\n",
      "1      directors\n",
      "2      known_for\n",
      "3     movie_akas\n",
      "4  movie_ratings\n",
      "5        persons\n",
      "6     principals\n",
      "7        writers\n"
     ]
    }
   ],
   "source": [
    "import zipfile\n",
    "\n",
    "# Extract the database file from the ZIP archive\n",
    "with zipfile.ZipFile('zippedData\\im.db.zip', 'r') as zip_ref:\n",
    "    zip_ref.extractall('zippedData')\n",
    "\n",
    "# Connect to the extracted SQLite database\n",
    "conn = sqlite3.connect('zippedData/im.db')\n",
    "\n",
    "query = \"SELECT name FROM sqlite_master WHERE type='table';\"\n",
    "\n",
    "tables = pd.read_sql_query(query, conn)\n",
    "\n",
    "print(\"Tables in the database:\")\n",
    "print(tables)"
   ]
  },
  {
   "cell_type": "code",
   "execution_count": 116,
   "id": "2ff3aeb4",
   "metadata": {},
   "outputs": [
    {
     "data": {
      "text/html": [
       "<div>\n",
       "<style scoped>\n",
       "    .dataframe tbody tr th:only-of-type {\n",
       "        vertical-align: middle;\n",
       "    }\n",
       "\n",
       "    .dataframe tbody tr th {\n",
       "        vertical-align: top;\n",
       "    }\n",
       "\n",
       "    .dataframe thead th {\n",
       "        text-align: right;\n",
       "    }\n",
       "</style>\n",
       "<table border=\"1\" class=\"dataframe\">\n",
       "  <thead>\n",
       "    <tr style=\"text-align: right;\">\n",
       "      <th></th>\n",
       "      <th>person_id</th>\n",
       "      <th>primary_name</th>\n",
       "      <th>birth_year</th>\n",
       "      <th>death_year</th>\n",
       "      <th>primary_profession</th>\n",
       "      <th>movie_id</th>\n",
       "      <th>primary_title</th>\n",
       "      <th>original_title</th>\n",
       "      <th>start_year</th>\n",
       "      <th>runtime_minutes</th>\n",
       "      <th>genres</th>\n",
       "      <th>averagerating</th>\n",
       "      <th>numvotes</th>\n",
       "    </tr>\n",
       "  </thead>\n",
       "  <tbody>\n",
       "    <tr>\n",
       "      <th>0</th>\n",
       "      <td>nm0062879</td>\n",
       "      <td>Ruel S. Bayani</td>\n",
       "      <td>NaN</td>\n",
       "      <td>NaN</td>\n",
       "      <td>director,production_manager,miscellaneous</td>\n",
       "      <td>tt1592569</td>\n",
       "      <td>Paano na kaya</td>\n",
       "      <td>Paano na kaya</td>\n",
       "      <td>2010</td>\n",
       "      <td>110.0</td>\n",
       "      <td>Drama,Romance</td>\n",
       "      <td>6.4</td>\n",
       "      <td>77</td>\n",
       "    </tr>\n",
       "    <tr>\n",
       "      <th>1</th>\n",
       "      <td>nm0062879</td>\n",
       "      <td>Ruel S. Bayani</td>\n",
       "      <td>NaN</td>\n",
       "      <td>NaN</td>\n",
       "      <td>director,production_manager,miscellaneous</td>\n",
       "      <td>tt1592569</td>\n",
       "      <td>Paano na kaya</td>\n",
       "      <td>Paano na kaya</td>\n",
       "      <td>2010</td>\n",
       "      <td>110.0</td>\n",
       "      <td>Drama,Romance</td>\n",
       "      <td>6.4</td>\n",
       "      <td>77</td>\n",
       "    </tr>\n",
       "    <tr>\n",
       "      <th>2</th>\n",
       "      <td>nm0062879</td>\n",
       "      <td>Ruel S. Bayani</td>\n",
       "      <td>NaN</td>\n",
       "      <td>NaN</td>\n",
       "      <td>director,production_manager,miscellaneous</td>\n",
       "      <td>tt1592569</td>\n",
       "      <td>Paano na kaya</td>\n",
       "      <td>Paano na kaya</td>\n",
       "      <td>2010</td>\n",
       "      <td>110.0</td>\n",
       "      <td>Drama,Romance</td>\n",
       "      <td>6.4</td>\n",
       "      <td>77</td>\n",
       "    </tr>\n",
       "    <tr>\n",
       "      <th>3</th>\n",
       "      <td>nm0062879</td>\n",
       "      <td>Ruel S. Bayani</td>\n",
       "      <td>NaN</td>\n",
       "      <td>NaN</td>\n",
       "      <td>director,production_manager,miscellaneous</td>\n",
       "      <td>tt1592569</td>\n",
       "      <td>Paano na kaya</td>\n",
       "      <td>Paano na kaya</td>\n",
       "      <td>2010</td>\n",
       "      <td>110.0</td>\n",
       "      <td>Drama,Romance</td>\n",
       "      <td>6.4</td>\n",
       "      <td>77</td>\n",
       "    </tr>\n",
       "    <tr>\n",
       "      <th>4</th>\n",
       "      <td>nm0062879</td>\n",
       "      <td>Ruel S. Bayani</td>\n",
       "      <td>NaN</td>\n",
       "      <td>NaN</td>\n",
       "      <td>director,production_manager,miscellaneous</td>\n",
       "      <td>tt2057445</td>\n",
       "      <td>No Other Woman</td>\n",
       "      <td>No Other Woman</td>\n",
       "      <td>2011</td>\n",
       "      <td>101.0</td>\n",
       "      <td>Drama,Romance,Thriller</td>\n",
       "      <td>6.4</td>\n",
       "      <td>256</td>\n",
       "    </tr>\n",
       "  </tbody>\n",
       "</table>\n",
       "</div>"
      ],
      "text/plain": [
       "   person_id    primary_name  birth_year  death_year  \\\n",
       "0  nm0062879  Ruel S. Bayani         NaN         NaN   \n",
       "1  nm0062879  Ruel S. Bayani         NaN         NaN   \n",
       "2  nm0062879  Ruel S. Bayani         NaN         NaN   \n",
       "3  nm0062879  Ruel S. Bayani         NaN         NaN   \n",
       "4  nm0062879  Ruel S. Bayani         NaN         NaN   \n",
       "\n",
       "                          primary_profession   movie_id   primary_title  \\\n",
       "0  director,production_manager,miscellaneous  tt1592569   Paano na kaya   \n",
       "1  director,production_manager,miscellaneous  tt1592569   Paano na kaya   \n",
       "2  director,production_manager,miscellaneous  tt1592569   Paano na kaya   \n",
       "3  director,production_manager,miscellaneous  tt1592569   Paano na kaya   \n",
       "4  director,production_manager,miscellaneous  tt2057445  No Other Woman   \n",
       "\n",
       "   original_title  start_year  runtime_minutes                  genres  \\\n",
       "0   Paano na kaya        2010            110.0           Drama,Romance   \n",
       "1   Paano na kaya        2010            110.0           Drama,Romance   \n",
       "2   Paano na kaya        2010            110.0           Drama,Romance   \n",
       "3   Paano na kaya        2010            110.0           Drama,Romance   \n",
       "4  No Other Woman        2011            101.0  Drama,Romance,Thriller   \n",
       "\n",
       "   averagerating  numvotes  \n",
       "0            6.4        77  \n",
       "1            6.4        77  \n",
       "2            6.4        77  \n",
       "3            6.4        77  \n",
       "4            6.4       256  "
      ]
     },
     "execution_count": 116,
     "metadata": {},
     "output_type": "execute_result"
    }
   ],
   "source": [
    "query = \"\"\"\n",
    "    SELECT *\n",
    "    FROM (\n",
    "        SELECT *\n",
    "        FROM persons\n",
    "        JOIN directors USING (person_id)\n",
    "        JOIN movie_basics USING (movie_id)\n",
    "        JOIN movie_ratings USING (movie_id)\n",
    "    ) AS subquery;\n",
    "\"\"\"\n",
    "imdb_df = pd.read_sql(query, conn)\n",
    "imdb_df.head()"
   ]
  },
  {
   "cell_type": "code",
   "execution_count": 117,
   "id": "8fafe006",
   "metadata": {},
   "outputs": [
    {
     "data": {
      "text/html": [
       "<div>\n",
       "<style scoped>\n",
       "    .dataframe tbody tr th:only-of-type {\n",
       "        vertical-align: middle;\n",
       "    }\n",
       "\n",
       "    .dataframe tbody tr th {\n",
       "        vertical-align: top;\n",
       "    }\n",
       "\n",
       "    .dataframe thead th {\n",
       "        text-align: right;\n",
       "    }\n",
       "</style>\n",
       "<table border=\"1\" class=\"dataframe\">\n",
       "  <thead>\n",
       "    <tr style=\"text-align: right;\">\n",
       "      <th></th>\n",
       "      <th>person_id</th>\n",
       "      <th>primary_name</th>\n",
       "      <th>movie_id</th>\n",
       "      <th>runtime_minutes</th>\n",
       "      <th>genres</th>\n",
       "      <th>averagerating</th>\n",
       "    </tr>\n",
       "  </thead>\n",
       "  <tbody>\n",
       "    <tr>\n",
       "      <th>0</th>\n",
       "      <td>nm0062879</td>\n",
       "      <td>Ruel S. Bayani</td>\n",
       "      <td>tt1592569</td>\n",
       "      <td>110.0</td>\n",
       "      <td>Drama,Romance</td>\n",
       "      <td>6.4</td>\n",
       "    </tr>\n",
       "    <tr>\n",
       "      <th>1</th>\n",
       "      <td>nm0062879</td>\n",
       "      <td>Ruel S. Bayani</td>\n",
       "      <td>tt1592569</td>\n",
       "      <td>110.0</td>\n",
       "      <td>Drama,Romance</td>\n",
       "      <td>6.4</td>\n",
       "    </tr>\n",
       "    <tr>\n",
       "      <th>2</th>\n",
       "      <td>nm0062879</td>\n",
       "      <td>Ruel S. Bayani</td>\n",
       "      <td>tt1592569</td>\n",
       "      <td>110.0</td>\n",
       "      <td>Drama,Romance</td>\n",
       "      <td>6.4</td>\n",
       "    </tr>\n",
       "    <tr>\n",
       "      <th>3</th>\n",
       "      <td>nm0062879</td>\n",
       "      <td>Ruel S. Bayani</td>\n",
       "      <td>tt1592569</td>\n",
       "      <td>110.0</td>\n",
       "      <td>Drama,Romance</td>\n",
       "      <td>6.4</td>\n",
       "    </tr>\n",
       "    <tr>\n",
       "      <th>4</th>\n",
       "      <td>nm0062879</td>\n",
       "      <td>Ruel S. Bayani</td>\n",
       "      <td>tt2057445</td>\n",
       "      <td>101.0</td>\n",
       "      <td>Drama,Romance,Thriller</td>\n",
       "      <td>6.4</td>\n",
       "    </tr>\n",
       "  </tbody>\n",
       "</table>\n",
       "</div>"
      ],
      "text/plain": [
       "   person_id    primary_name   movie_id  runtime_minutes  \\\n",
       "0  nm0062879  Ruel S. Bayani  tt1592569            110.0   \n",
       "1  nm0062879  Ruel S. Bayani  tt1592569            110.0   \n",
       "2  nm0062879  Ruel S. Bayani  tt1592569            110.0   \n",
       "3  nm0062879  Ruel S. Bayani  tt1592569            110.0   \n",
       "4  nm0062879  Ruel S. Bayani  tt2057445            101.0   \n",
       "\n",
       "                   genres  averagerating  \n",
       "0           Drama,Romance            6.4  \n",
       "1           Drama,Romance            6.4  \n",
       "2           Drama,Romance            6.4  \n",
       "3           Drama,Romance            6.4  \n",
       "4  Drama,Romance,Thriller            6.4  "
      ]
     },
     "execution_count": 117,
     "metadata": {},
     "output_type": "execute_result"
    }
   ],
   "source": [
    "imdb_df = imdb_df.drop(['birth_year', 'death_year', 'primary_profession', 'start_year', 'numvotes', 'primary_title', 'original_title'], axis=1)\n",
    "imdb_df.head()"
   ]
  },
  {
   "cell_type": "code",
   "execution_count": 118,
   "id": "5c83d6a0",
   "metadata": {},
   "outputs": [
    {
     "name": "stdout",
     "output_type": "stream",
     "text": [
      "<class 'pandas.core.frame.DataFrame'>\n",
      "RangeIndex: 181387 entries, 0 to 181386\n",
      "Data columns (total 6 columns):\n",
      " #   Column           Non-Null Count   Dtype  \n",
      "---  ------           --------------   -----  \n",
      " 0   person_id        181387 non-null  object \n",
      " 1   primary_name     181387 non-null  object \n",
      " 2   movie_id         181387 non-null  object \n",
      " 3   runtime_minutes  163584 non-null  float64\n",
      " 4   genres           180047 non-null  object \n",
      " 5   averagerating    181387 non-null  float64\n",
      "dtypes: float64(2), object(4)\n",
      "memory usage: 8.3+ MB\n"
     ]
    }
   ],
   "source": [
    "imdb_df.info()"
   ]
  },
  {
   "cell_type": "code",
   "execution_count": 119,
   "id": "76f6a244",
   "metadata": {},
   "outputs": [
    {
     "data": {
      "text/html": [
       "<div>\n",
       "<style scoped>\n",
       "    .dataframe tbody tr th:only-of-type {\n",
       "        vertical-align: middle;\n",
       "    }\n",
       "\n",
       "    .dataframe tbody tr th {\n",
       "        vertical-align: top;\n",
       "    }\n",
       "\n",
       "    .dataframe thead th {\n",
       "        text-align: right;\n",
       "    }\n",
       "</style>\n",
       "<table border=\"1\" class=\"dataframe\">\n",
       "  <thead>\n",
       "    <tr style=\"text-align: right;\">\n",
       "      <th></th>\n",
       "      <th>runtime_minutes</th>\n",
       "      <th>averagerating</th>\n",
       "    </tr>\n",
       "  </thead>\n",
       "  <tbody>\n",
       "    <tr>\n",
       "      <th>count</th>\n",
       "      <td>163584.000000</td>\n",
       "      <td>181387.000000</td>\n",
       "    </tr>\n",
       "    <tr>\n",
       "      <th>mean</th>\n",
       "      <td>97.789484</td>\n",
       "      <td>6.217683</td>\n",
       "    </tr>\n",
       "    <tr>\n",
       "      <th>std</th>\n",
       "      <td>194.434689</td>\n",
       "      <td>1.388026</td>\n",
       "    </tr>\n",
       "    <tr>\n",
       "      <th>min</th>\n",
       "      <td>3.000000</td>\n",
       "      <td>1.000000</td>\n",
       "    </tr>\n",
       "    <tr>\n",
       "      <th>25%</th>\n",
       "      <td>84.000000</td>\n",
       "      <td>5.400000</td>\n",
       "    </tr>\n",
       "    <tr>\n",
       "      <th>50%</th>\n",
       "      <td>94.000000</td>\n",
       "      <td>6.300000</td>\n",
       "    </tr>\n",
       "    <tr>\n",
       "      <th>75%</th>\n",
       "      <td>107.000000</td>\n",
       "      <td>7.200000</td>\n",
       "    </tr>\n",
       "    <tr>\n",
       "      <th>max</th>\n",
       "      <td>51420.000000</td>\n",
       "      <td>10.000000</td>\n",
       "    </tr>\n",
       "  </tbody>\n",
       "</table>\n",
       "</div>"
      ],
      "text/plain": [
       "       runtime_minutes  averagerating\n",
       "count    163584.000000  181387.000000\n",
       "mean         97.789484       6.217683\n",
       "std         194.434689       1.388026\n",
       "min           3.000000       1.000000\n",
       "25%          84.000000       5.400000\n",
       "50%          94.000000       6.300000\n",
       "75%         107.000000       7.200000\n",
       "max       51420.000000      10.000000"
      ]
     },
     "execution_count": 119,
     "metadata": {},
     "output_type": "execute_result"
    }
   ],
   "source": [
    "imdb_df.describe()"
   ]
  },
  {
   "cell_type": "code",
   "execution_count": 120,
   "id": "566dab1b",
   "metadata": {},
   "outputs": [
    {
     "data": {
      "text/plain": [
       "(181387, 6)"
      ]
     },
     "execution_count": 120,
     "metadata": {},
     "output_type": "execute_result"
    }
   ],
   "source": [
    "imdb_df.shape"
   ]
  },
  {
   "cell_type": "code",
   "execution_count": 121,
   "id": "38a24e6a",
   "metadata": {},
   "outputs": [
    {
     "data": {
      "text/plain": [
       "person_id              0\n",
       "primary_name           0\n",
       "movie_id               0\n",
       "runtime_minutes    17803\n",
       "genres              1340\n",
       "averagerating          0\n",
       "dtype: int64"
      ]
     },
     "execution_count": 121,
     "metadata": {},
     "output_type": "execute_result"
    }
   ],
   "source": [
    "imdb_df.isnull().sum()"
   ]
  },
  {
   "cell_type": "code",
   "execution_count": 122,
   "id": "f51a7531",
   "metadata": {},
   "outputs": [],
   "source": [
    "imdb_df.dropna(subset=['runtime_minutes', 'genres'], inplace= True)\n"
   ]
  },
  {
   "cell_type": "code",
   "execution_count": 123,
   "id": "6cb558da",
   "metadata": {},
   "outputs": [],
   "source": [
    "imdb_df['runtime_minutes']= imdb_df['runtime_minutes'].astype('int64')"
   ]
  },
  {
   "cell_type": "code",
   "execution_count": 124,
   "id": "61feaf76",
   "metadata": {},
   "outputs": [],
   "source": [
    "# Verifying the column for runtime_minutes is changed\n",
    "assert imdb_df['runtime_minutes'].dtype == 'int64', \"Conversion to int64 failed\""
   ]
  },
  {
   "cell_type": "markdown",
   "id": "92dbb7c1",
   "metadata": {},
   "source": [
    "##### ~~~~~~~~~~~~~~~~~~~~~~~~~~~~~~~~~~~~~~~~~~~~~~~~~~~~~~~~~~~~~~~~~~~~~~~~~~~~~~~~~~~~~~~~~~~"
   ]
  },
  {
   "cell_type": "markdown",
   "id": "b33a40fd",
   "metadata": {},
   "source": [
    "## **Exploratory Data Analysis**"
   ]
  },
  {
   "cell_type": "markdown",
   "id": "a7179e0b",
   "metadata": {},
   "source": [
    "In this section, we perform Exploratory Data Analysis (EDA) to summarize and visualize the\n",
    "main characteristics of our datasets uhich will be useful for addressing the objectives\n"
   ]
  },
  {
   "cell_type": "markdown",
   "id": "03f4f360",
   "metadata": {},
   "source": [
    "*Objective 1:Evaluating the Relationship Between production Budget and Profitability*"
   ]
  },
  {
   "cell_type": "markdown",
   "id": "c90156f6",
   "metadata": {},
   "source": [
    "**Univariate Analysis**"
   ]
  },
  {
   "cell_type": "markdown",
   "id": "21bf7957",
   "metadata": {},
   "source": [
    "In this section, we examine the distribution of the production budget variable using a combination of a histogram and a Kernel Density Estimate (KDE) plot. This helps visualize how production budgets are spread across different movies, highlighting patterns such as skewness and the presence of extreme values. By understanding this distribution, we can make informed decisions about how to handle the data in later stages of analysis."
   ]
  },
  {
   "cell_type": "code",
   "execution_count": 125,
   "id": "9ad81294",
   "metadata": {},
   "outputs": [
    {
     "data": {
      "image/png": "[encoded data removed]",
      "text/plain": [
       "<Figure size 720x432 with 1 Axes>"
      ]
     },
     "metadata": {
      "needs_background": "light"
     },
     "output_type": "display_data"
    }
   ],
   "source": [
    "import matplotlib.pyplot as plt\n",
    "import seaborn as sns\n",
    "\n",
    "# Plotting Histogram and KDE together\n",
    "plt.figure(figsize=(10, 6))\n",
    "sns.histplot(tn_df['production_budget'], bins=30, color='skyblue', edgecolor='black', stat='density', label='Histogram')\n",
    "sns.kdeplot(tn_df['production_budget'], color='red', linewidth=2, label='KDE')\n",
    "plt.title('Distribution of Production Budget')\n",
    "plt.xlabel('Production Budget')\n",
    "plt.ylabel('Frequency')\n",
    "plt.legend()\n",
    "plt.show()\n"
   ]
  },
  {
   "cell_type": "markdown",
   "id": "ec6e2499",
   "metadata": {},
   "source": [
    "\n",
    "**Distribution of Production Budgets in Relation to Movie Frequency**  \n",
    "- Most films are produced with relatively low budgets, as shown by the concentration of entries on the lower end of the budget range.  \n",
    "- There is a noticeable decline in the number of movies as production budgets rise, indicating that high-budget films are less common."
   ]
  },
  {
   "cell_type": "markdown",
   "id": "c0256585",
   "metadata": {},
   "source": [
    "**Bivariate Analysis**"
   ]
  },
  {
   "cell_type": "markdown",
   "id": "9c95db40",
   "metadata": {},
   "source": [
    " **Relationship Between Production Budgets and Profits for Movies**\n",
    "\n",
    "\n",
    "Bivariate analysis examines the relationship between two variables. It helps you understand how one variable changes in relation to another—whether there's a correlation, trend, or association between them. So we are going to be comparing production budget and profit to see if higher budgets lead to more profit."
   ]
  },
  {
   "cell_type": "code",
   "execution_count": 126,
   "id": "e9af73a1",
   "metadata": {},
   "outputs": [
    {
     "data": {
      "image/png": "[encoded data removed]",
      "text/plain": [
       "<Figure size 720x432 with 1 Axes>"
      ]
     },
     "metadata": {
      "needs_background": "light"
     },
     "output_type": "display_data"
    }
   ],
   "source": [
    "\n",
    "# Calculate the profit column\n",
    "tn_df['profit'] = tn_df['worldwide_gross'] - tn_df['production_budget']\n",
    "\n",
    "# Creating the plot\n",
    "plt.figure(figsize=(10, 6))\n",
    "sns.scatterplot(x='production_budget', y='profit', data = tn_df)\n",
    "plt.xlabel('Production Budget')\n",
    "plt.ylabel('Profit')\n",
    "plt.title('Production versus profit')\n",
    "plt.show();"
   ]
  },
  {
   "cell_type": "markdown",
   "id": "245de9f9",
   "metadata": {},
   "source": [
    "The scatter plot shows that movies with larger production budgets tend to generate higher profits, as indicated by the greater concentration of high-profit points at the upper end of the budget scale."
   ]
  },
  {
   "cell_type": "markdown",
   "id": "a1314a7b",
   "metadata": {},
   "source": [
    "**Multivariate analysis**"
   ]
  },
  {
   "cell_type": "markdown",
   "id": "7321884c",
   "metadata": {},
   "source": [
    "\n",
    "\n",
    "In the Multivariate Analysis section, we explore the relationships among more than two variables at once. This broader perspective allows for a more thorough understanding of the data's complexity, revealing patterns, associations, and key factors essential for developing strong and precise predictive models."
   ]
  },
  {
   "cell_type": "code",
   "execution_count": 127,
   "id": "c6721306",
   "metadata": {},
   "outputs": [
    {
     "data": {
      "image/png": "[encoded data removed]",
      "text/plain": [
       "<Figure size 720x576 with 2 Axes>"
      ]
     },
     "metadata": {
      "needs_background": "light"
     },
     "output_type": "display_data"
    }
   ],
   "source": [
    "# Select the columns to use\n",
    "columns = ['production_budget', 'worldwide_gross', 'profit']\n",
    "# Creating a subset of the DataFrame with the specified columns\n",
    "Heatmap_df = tn_df[columns]\n",
    "# Computing the correlation matrix\n",
    "corr_matrix = Heatmap_df.corr()\n",
    "# Plotting the heatmap\n",
    "plt.figure(figsize=(10, 8))\n",
    "sns.heatmap(corr_matrix, annot=True, fmt=\".2f\", cmap=\"coolwarm\", linewidths=.5, vmin=-1, vmax=1)\n",
    "plt.title('Correlation Heatmap of Production Budget, Worldwide Gross, and Profit')\n",
    "plt.show()"
   ]
  },
  {
   "cell_type": "markdown",
   "id": "eb25ae43",
   "metadata": {},
   "source": [
    "Production Budget versus. Worldwide Gross: There is a strong positive correlation of 0.75 indicating that movies with larger production budgets typically achieve higher worldwide gross revenues.\n",
    "\n",
    "Production Budget versus. Profit: A moderate positive correlation of 0.61 suggests that increasing the production budget often leads to higher profits, though this link is not as strong as with worldwide gross.\n",
    "\n",
    "Worldwide Gross versus Profit: Although the specific correlation value isn't provided, the relationship is expected to be strong, given the positive ties both metrics have with production budget."
   ]
  },
  {
   "cell_type": "markdown",
   "id": "066ca8c5",
   "metadata": {},
   "source": [
    "## **Hypothesis Testing** "
   ]
  },
  {
   "cell_type": "markdown",
   "id": "8031509d",
   "metadata": {},
   "source": [
    "Evaluating the Relationship Between production Budget and Profitability\n",
    "\n",
    "\n",
    "To better understand how financial inputs and outcomes are interconnected in the film industry, we aim to assess whether a movie’s production budget  significantly influence its profitability. This exploration is grounded in the following hypotheses:\n",
    "\n",
    "H₀:There is no significant linear relationship between production budget and  profitability.\n",
    "\n",
    "H₁:There is a significant linear relationship between production budget and profitability.\n",
    "\n"
   ]
  },
  {
   "cell_type": "markdown",
   "id": "382b6190",
   "metadata": {},
   "source": [
    "**The Pearson correlation coefficient was computed to determine the linear association between production budget and profit.**"
   ]
  },
  {
   "cell_type": "code",
   "execution_count": 128,
   "id": "579786d1",
   "metadata": {},
   "outputs": [
    {
     "name": "stdout",
     "output_type": "stream",
     "text": [
      "The P-value is : 0.0\n",
      "The Pearson Correlation Coefficient is: 0.6068652923681527\n",
      "Reject the null hypothesis.There is a significant linear relationship between the profit and production budget\n"
     ]
    }
   ],
   "source": [
    "from scipy.stats import pearsonr\n",
    "\n",
    "# set the alpha to 0.05\n",
    "alpha = 0.05\n",
    "# Calculate both the Pearson correlation coefficient and p-value\n",
    "correlation, p_value = pearsonr(tn_df['production_budget'], tn_df['profit'])\n",
    "print(f\"The P-value is : {p_value}\")\n",
    "print(f\"The Pearson Correlation Coefficient is: {correlation}\")\n",
    "\n",
    "if p_value < alpha:\n",
    "\tprint(\"Reject the null hypothesis.There is a significant linear relationship between the profit and production budget\")\n",
    "else:\n",
    "\tprint(\"Fail to reject the null hypothesis. There is no sufficient evidence to show a linear relationship between the profit and production budget\")\n"
   ]
  },
  {
   "cell_type": "markdown",
   "id": "790a6b83",
   "metadata": {},
   "source": [
    "From the output above we can clearly see that A moderate positive correlation of 0.61 suggests that increasing the production budget often leads to higher profits, though this link is not as strong as with worldwide gross.\n",
    "Moreover from our correlation matrix we can see that there is a strong positive correlation of 0.75 indicating that movies with larger production budgets typically achieve higher worldwide gross revenues.\n",
    " \n",
    " This could further be shown visually as shown in the figure below\n",
    "\n"
   ]
  },
  {
   "cell_type": "code",
   "execution_count": 129,
   "id": "b8fff561",
   "metadata": {},
   "outputs": [
    {
     "data": {
      "image/png": "[encoded data removed]",
      "text/plain": [
       "<Figure size 540x540 with 12 Axes>"
      ]
     },
     "metadata": {
      "needs_background": "light"
     },
     "output_type": "display_data"
    }
   ],
   "source": [
    "# Pairplot for visualization\n",
    "sns.pairplot(tn_df[['production_budget', 'worldwide_gross', 'profit']])\n",
    "plt.suptitle('Pairwise Plots: Budget, Gross, and Profit', y=1.02)\n",
    "plt.show()"
   ]
  },
  {
   "cell_type": "markdown",
   "id": "ca87e6ad",
   "metadata": {},
   "source": [
    "**Conclusions**\n",
    " \n",
    " Increasing the production budget often leads to higher profits\n",
    " Movies with larger production budgets typically achieve higher worldwide gross revenues.\n",
    " "
   ]
  },
  {
   "cell_type": "markdown",
   "id": "87ea040e",
   "metadata": {},
   "source": [
    "**Recommendations**\n",
    "\n",
    "Enhance Profitability Tracking: Implement metrics for profit margin and return on investment (ROI) to better evaluate the success of each project.\n",
    "Refine Budget Allocation Strategies: Invest in production budgets that are high enough to drive profitability, but remain mindful of overspending. Analyze past performance to identify a budget threshold that maximizes returns without crossing into diminishing profit margins."
   ]
  },
  {
   "cell_type": "markdown",
   "id": "b5f65d36",
   "metadata": {},
   "source": [
    "We restrict the imdb_df DataFrame to include only movies with runtimes between 30 and 200 minutes, ensuring the analysis focuses on films with typical and realistic durations."
   ]
  },
  {
   "cell_type": "markdown",
   "id": "51a1633d",
   "metadata": {},
   "source": [
    "*Objective 2:Determine if there is a difference in audience ratings between the shorter and longer films*\n",
    "\n"
   ]
  },
  {
   "cell_type": "code",
   "execution_count": 130,
   "id": "2aa28ef8",
   "metadata": {},
   "outputs": [
    {
     "data": {
      "text/html": [
       "<div>\n",
       "<style scoped>\n",
       "    .dataframe tbody tr th:only-of-type {\n",
       "        vertical-align: middle;\n",
       "    }\n",
       "\n",
       "    .dataframe tbody tr th {\n",
       "        vertical-align: top;\n",
       "    }\n",
       "\n",
       "    .dataframe thead th {\n",
       "        text-align: right;\n",
       "    }\n",
       "</style>\n",
       "<table border=\"1\" class=\"dataframe\">\n",
       "  <thead>\n",
       "    <tr style=\"text-align: right;\">\n",
       "      <th></th>\n",
       "      <th>person_id</th>\n",
       "      <th>primary_name</th>\n",
       "      <th>movie_id</th>\n",
       "      <th>runtime_minutes</th>\n",
       "      <th>genres</th>\n",
       "      <th>averagerating</th>\n",
       "    </tr>\n",
       "  </thead>\n",
       "  <tbody>\n",
       "    <tr>\n",
       "      <th>0</th>\n",
       "      <td>nm0062879</td>\n",
       "      <td>Ruel S. Bayani</td>\n",
       "      <td>tt1592569</td>\n",
       "      <td>110</td>\n",
       "      <td>Drama,Romance</td>\n",
       "      <td>6.4</td>\n",
       "    </tr>\n",
       "    <tr>\n",
       "      <th>1</th>\n",
       "      <td>nm0062879</td>\n",
       "      <td>Ruel S. Bayani</td>\n",
       "      <td>tt1592569</td>\n",
       "      <td>110</td>\n",
       "      <td>Drama,Romance</td>\n",
       "      <td>6.4</td>\n",
       "    </tr>\n",
       "    <tr>\n",
       "      <th>2</th>\n",
       "      <td>nm0062879</td>\n",
       "      <td>Ruel S. Bayani</td>\n",
       "      <td>tt1592569</td>\n",
       "      <td>110</td>\n",
       "      <td>Drama,Romance</td>\n",
       "      <td>6.4</td>\n",
       "    </tr>\n",
       "    <tr>\n",
       "      <th>3</th>\n",
       "      <td>nm0062879</td>\n",
       "      <td>Ruel S. Bayani</td>\n",
       "      <td>tt1592569</td>\n",
       "      <td>110</td>\n",
       "      <td>Drama,Romance</td>\n",
       "      <td>6.4</td>\n",
       "    </tr>\n",
       "    <tr>\n",
       "      <th>4</th>\n",
       "      <td>nm0062879</td>\n",
       "      <td>Ruel S. Bayani</td>\n",
       "      <td>tt2057445</td>\n",
       "      <td>101</td>\n",
       "      <td>Drama,Romance,Thriller</td>\n",
       "      <td>6.4</td>\n",
       "    </tr>\n",
       "  </tbody>\n",
       "</table>\n",
       "</div>"
      ],
      "text/plain": [
       "   person_id    primary_name   movie_id  runtime_minutes  \\\n",
       "0  nm0062879  Ruel S. Bayani  tt1592569              110   \n",
       "1  nm0062879  Ruel S. Bayani  tt1592569              110   \n",
       "2  nm0062879  Ruel S. Bayani  tt1592569              110   \n",
       "3  nm0062879  Ruel S. Bayani  tt1592569              110   \n",
       "4  nm0062879  Ruel S. Bayani  tt2057445              101   \n",
       "\n",
       "                   genres  averagerating  \n",
       "0           Drama,Romance            6.4  \n",
       "1           Drama,Romance            6.4  \n",
       "2           Drama,Romance            6.4  \n",
       "3           Drama,Romance            6.4  \n",
       "4  Drama,Romance,Thriller            6.4  "
      ]
     },
     "execution_count": 130,
     "metadata": {},
     "output_type": "execute_result"
    }
   ],
   "source": [
    "#Filter to keep movies with runtime between 30 and 200 minutes\n",
    "imdb_df = imdb_df[(imdb_df['runtime_minutes'] >= 30) & (imdb_df['runtime_minutes'] <= 200)]\n",
    "imdb_df.head()"
   ]
  },
  {
   "cell_type": "markdown",
   "id": "74348294",
   "metadata": {},
   "source": [
    "**Univariate Analysis**\n",
    "\n",
    "\n",
    "**Distribution of Average rating*\n"
   ]
  },
  {
   "cell_type": "markdown",
   "id": "e46fc013",
   "metadata": {},
   "source": [
    "\n",
    "The distribution of average ratings shows how movies are rated by viewers."
   ]
  },
  {
   "cell_type": "code",
   "execution_count": 131,
   "id": "1e96c589",
   "metadata": {},
   "outputs": [
    {
     "data": {
      "image/png": "[encoded data removed]",
      "text/plain": [
       "<Figure size 432x288 with 1 Axes>"
      ]
     },
     "metadata": {
      "needs_background": "light"
     },
     "output_type": "display_data"
    }
   ],
   "source": [
    "sns.histplot(imdb_df['runtime_minutes'], bins=30, kde=False)\n",
    "plt.title('Distribution of Runtime (in minutes)')\n",
    "plt.xlabel('Runtime')\n",
    "plt.ylabel('Frequency')\n",
    "plt.show()"
   ]
  },
  {
   "cell_type": "markdown",
   "id": "5c6a998c",
   "metadata": {},
   "source": [
    "The distribution of movie runtimes is roughly bell-shaped, resembling a normal distribution, but with a slight right skew.\n",
    "The highest concentration of movies is between 90 and 100 minutes, suggesting that this is the most common length for films in the dataset."
   ]
  },
  {
   "cell_type": "markdown",
   "id": "979895f6",
   "metadata": {},
   "source": [
    "**Plotting the distribution of Average rating**\n",
    "\n",
    "\n",
    "The Distribution of average ratings illustrates how viewers evaluate movies, offering insight into audience perceptions of movie quality within the dataset.  "
   ]
  },
  {
   "cell_type": "code",
   "execution_count": 132,
   "id": "3a50dc15",
   "metadata": {},
   "outputs": [
    {
     "data": {
      "image/png": "[encoded data removed]",
      "text/plain": [
       "<Figure size 720x432 with 1 Axes>"
      ]
     },
     "metadata": {
      "needs_background": "light"
     },
     "output_type": "display_data"
    }
   ],
   "source": [
    "import matplotlib.pyplot as plt\n",
    "import seaborn as sns\n",
    "\n",
    "plt.figure(figsize=(10, 6))\n",
    "sns.histplot(imdb_df['averagerating'], bins=30, color='skyblue', edgecolor='black')\n",
    "plt.title('Distribution of Average Movie Ratings')\n",
    "plt.xlabel('Average Rating')\n",
    "plt.ylabel('Frequency')\n",
    "plt.grid(True)\n",
    "plt.show()"
   ]
  },
  {
   "cell_type": "markdown",
   "id": "c6671ec1",
   "metadata": {},
   "source": [
    "From the above we can see that the highest concentration of the average movie  ratings is between around 5.9 and 7.5"
   ]
  },
  {
   "cell_type": "markdown",
   "id": "a406b99d",
   "metadata": {},
   "source": [
    "**Bivariate Analysis**\n"
   ]
  },
  {
   "cell_type": "markdown",
   "id": "dd9f293e",
   "metadata": {},
   "source": [
    "In this section, we examine the relationship between a movie’s runtime and its average rating.This will help us explore how two continuous variables relate to one another—in this case, whether longer or shorter films tend to receive higher or lower audience ratings. Understanding this relationship can offer valuable insights for content planning and production decisions."
   ]
  },
  {
   "cell_type": "code",
   "execution_count": 133,
   "id": "3bd3d9ae",
   "metadata": {},
   "outputs": [],
   "source": [
    "#create a copy of the imdb\n",
    "filt_imdb = imdb_df.copy()"
   ]
  },
  {
   "cell_type": "code",
   "execution_count": 134,
   "id": "f1751bd0",
   "metadata": {},
   "outputs": [
    {
     "data": {
      "text/plain": [
       "0     Shorter\n",
       "1     Shorter\n",
       "2     Shorter\n",
       "3     Shorter\n",
       "4     Shorter\n",
       "5     Shorter\n",
       "6     Shorter\n",
       "7     Shorter\n",
       "10    Shorter\n",
       "11    Shorter\n",
       "12    Shorter\n",
       "13    Shorter\n",
       "14     Longer\n",
       "15    Shorter\n",
       "16    Shorter\n",
       "17    Shorter\n",
       "18    Shorter\n",
       "19    Shorter\n",
       "24    Shorter\n",
       "25    Shorter\n",
       "Name: runtime_group, dtype: object"
      ]
     },
     "execution_count": 134,
     "metadata": {},
     "output_type": "execute_result"
    }
   ],
   "source": [
    "#Create a new column categorizing movies as 'Shorter' or 'Longer'\n",
    "filt_imdb['runtime_group'] = filt_imdb['runtime_minutes'].apply(\n",
    "    lambda x: 'Longer' if x > 120 else 'Shorter')\n",
    "\n",
    "# Display the first 20 rows of the new column\n",
    "filt_imdb['runtime_group'].head(20)\n"
   ]
  },
  {
   "cell_type": "code",
   "execution_count": 135,
   "id": "af4d1fe8",
   "metadata": {},
   "outputs": [
    {
     "data": {
      "image/png": "[encoded data removed]",
      "text/plain": [
       "<Figure size 576x432 with 1 Axes>"
      ]
     },
     "metadata": {
      "needs_background": "light"
     },
     "output_type": "display_data"
    }
   ],
   "source": [
    "#Box plot for the runtime_group by movie average rating\n",
    "import seaborn as sns\n",
    "import matplotlib.pyplot as plt\n",
    "\n",
    "plt.figure(figsize=(8, 6))\n",
    "sns.boxplot(x='runtime_group', y='averagerating', data=filt_imdb, palette='Set2')\n",
    "plt.title('Average Rating by Movie Runtime Category')\n",
    "plt.xlabel('Runtime Category')\n",
    "plt.ylabel('Average Rating')\n",
    "plt.show()"
   ]
  },
  {
   "cell_type": "markdown",
   "id": "2db314fe",
   "metadata": {},
   "source": [
    "Overall, the plot suggests that longer movies might generally receive higher average ratings.\n",
    "\n",
    "The box plot compares average ratings of movies based on their runtime categories—'Shorter' (≤120 minutes) and 'Longer' (>120 minutes). It reveals that longer movies tend to have a slightly higher median rating than shorter ones.\n",
    "\n",
    "The rating distribution for longer movies shows greater variability, as indicated by a wider interquartile range."
   ]
  },
  {
   "cell_type": "markdown",
   "id": "cbb234e5",
   "metadata": {},
   "source": [
    "### **Hypothesis Testing**"
   ]
  },
  {
   "cell_type": "markdown",
   "id": "cdb0b144",
   "metadata": {},
   "source": [
    "\n",
    "H₀: There is no  difference in audience ratings between the shorter and the longer films.\n",
    "\n",
    "H₁: There is a  difference in audience ratings between the  shorter and the longer films."
   ]
  },
  {
   "cell_type": "code",
   "execution_count": 136,
   "id": "722f56c8",
   "metadata": {},
   "outputs": [],
   "source": [
    "#Group the data into 'Shorter' and 'Longer' based on the runtime_group column\n",
    "Shorter = filt_imdb[filt_imdb['runtime_group'] == 'Shorter']['averagerating']\n",
    "Longer = filt_imdb[filt_imdb['runtime_group'] == 'Longer']['averagerating']\n"
   ]
  },
  {
   "cell_type": "code",
   "execution_count": 137,
   "id": "a658f9e9",
   "metadata": {},
   "outputs": [
    {
     "name": "stdout",
     "output_type": "stream",
     "text": [
      "The variances are not equal\n"
     ]
    }
   ],
   "source": [
    "#Testing for the equality of variances using the levene's test\n",
    "from scipy.stats import levene\n",
    "\n",
    "stat, p = levene(Shorter, Longer)\n",
    "if p_value <= 0.05:\n",
    "    print(\"The variances are not equal\")\n",
    "else:\n",
    "    print(\"The variances are equal\")\n"
   ]
  },
  {
   "cell_type": "code",
   "execution_count": 138,
   "id": "1814a755",
   "metadata": {},
   "outputs": [
    {
     "name": "stdout",
     "output_type": "stream",
     "text": [
      "t-stat:-18.1935941280581, p_value: 6.874392240583262e-74\n"
     ]
    }
   ],
   "source": [
    "\n",
    "#Perform the t-test\n",
    "from scipy.stats import ttest_ind\n",
    "t_stat, p_value = ttest_ind(Shorter, Longer, equal_var=True)\n",
    "print(f't-stat:{t_stat}, p_value: {p_value}')"
   ]
  },
  {
   "cell_type": "markdown",
   "id": "8b254bee",
   "metadata": {},
   "source": [
    "**Decision**\n",
    "\n",
    "\n",
    "Alpha = 0.05\n",
    "\n",
    "So at 95% level of confidence we reject the null hypothesis and conclude that there is a statistically significant difference in the audience ratings between the shorter and the Longer films "
   ]
  },
  {
   "cell_type": "markdown",
   "id": "f094d26c",
   "metadata": {},
   "source": [
    "**Conclusions**\n",
    "\n",
    "\n",
    "1.There is a difference in the audience ratings between the shorter and the longer films\n",
    "\n",
    "2.Longer films tend to have a slightly higher median rating than shorter ones.\n",
    "\n",
    "\n",
    "3.The rating distribution for longer movies shows greater variability, as indicated by a wider interquartile range.\n"
   ]
  },
  {
   "cell_type": "markdown",
   "id": "fd93420d",
   "metadata": {},
   "source": [
    "**Recommendations**"
   ]
  },
  {
   "cell_type": "markdown",
   "id": "54a98dc2",
   "metadata": {},
   "source": [
    "1.Consider Investing in Longer-Format Films\n",
    "\n",
    "\n",
    "Since longer films tend to receive slightly higher audience ratings, allocating more resources to developing or acquiring quality longer-format content could enhance audience satisfaction and brand reputation.\n",
    "\n",
    "2.Focus on Quality Storytelling for Long Films\n",
    "\n",
    "\n",
    "The wider variability in ratings for long movies suggests they can either perform very well or poorly. Focus on strong scripts, editing, and pacing to ensure that longer runtimes deliver consistent viewer engagement."
   ]
  },
  {
   "cell_type": "markdown",
   "id": "9af19648",
   "metadata": {},
   "source": [
    "## Identify the Best Directors to Work With"
   ]
  },
  {
   "cell_type": "markdown",
   "id": "56ad8c38",
   "metadata": {},
   "source": [
    "To find the best directors to work with, we simply check for movie ratings then check the name of the associated director. The directors most associated with high ratings are our target"
   ]
  },
  {
   "cell_type": "code",
   "execution_count": 139,
   "id": "d5e7a094",
   "metadata": {},
   "outputs": [
    {
     "data": {
      "text/html": [
       "<div>\n",
       "<style scoped>\n",
       "    .dataframe tbody tr th:only-of-type {\n",
       "        vertical-align: middle;\n",
       "    }\n",
       "\n",
       "    .dataframe tbody tr th {\n",
       "        vertical-align: top;\n",
       "    }\n",
       "\n",
       "    .dataframe thead th {\n",
       "        text-align: right;\n",
       "    }\n",
       "</style>\n",
       "<table border=\"1\" class=\"dataframe\">\n",
       "  <thead>\n",
       "    <tr style=\"text-align: right;\">\n",
       "      <th></th>\n",
       "      <th>primary_name</th>\n",
       "      <th>averagerating</th>\n",
       "    </tr>\n",
       "  </thead>\n",
       "  <tbody>\n",
       "    <tr>\n",
       "      <th>0</th>\n",
       "      <td>Ruel S. Bayani</td>\n",
       "      <td>6.4</td>\n",
       "    </tr>\n",
       "    <tr>\n",
       "      <th>1</th>\n",
       "      <td>Ruel S. Bayani</td>\n",
       "      <td>6.4</td>\n",
       "    </tr>\n",
       "    <tr>\n",
       "      <th>2</th>\n",
       "      <td>Ruel S. Bayani</td>\n",
       "      <td>6.4</td>\n",
       "    </tr>\n",
       "    <tr>\n",
       "      <th>3</th>\n",
       "      <td>Ruel S. Bayani</td>\n",
       "      <td>6.4</td>\n",
       "    </tr>\n",
       "    <tr>\n",
       "      <th>4</th>\n",
       "      <td>Ruel S. Bayani</td>\n",
       "      <td>6.4</td>\n",
       "    </tr>\n",
       "    <tr>\n",
       "      <th>...</th>\n",
       "      <td>...</td>\n",
       "      <td>...</td>\n",
       "    </tr>\n",
       "    <tr>\n",
       "      <th>181381</th>\n",
       "      <td>Benjamin Ovesen</td>\n",
       "      <td>7.4</td>\n",
       "    </tr>\n",
       "    <tr>\n",
       "      <th>181382</th>\n",
       "      <td>Frank W Chen</td>\n",
       "      <td>5.8</td>\n",
       "    </tr>\n",
       "    <tr>\n",
       "      <th>181383</th>\n",
       "      <td>Frank W Chen</td>\n",
       "      <td>5.8</td>\n",
       "    </tr>\n",
       "    <tr>\n",
       "      <th>181384</th>\n",
       "      <td>Prasobh Vijayan</td>\n",
       "      <td>5.7</td>\n",
       "    </tr>\n",
       "    <tr>\n",
       "      <th>181385</th>\n",
       "      <td>Grzegorz Jankowski</td>\n",
       "      <td>5.2</td>\n",
       "    </tr>\n",
       "  </tbody>\n",
       "</table>\n",
       "<p>162071 rows × 2 columns</p>\n",
       "</div>"
      ],
      "text/plain": [
       "              primary_name  averagerating\n",
       "0           Ruel S. Bayani            6.4\n",
       "1           Ruel S. Bayani            6.4\n",
       "2           Ruel S. Bayani            6.4\n",
       "3           Ruel S. Bayani            6.4\n",
       "4           Ruel S. Bayani            6.4\n",
       "...                    ...            ...\n",
       "181381     Benjamin Ovesen            7.4\n",
       "181382        Frank W Chen            5.8\n",
       "181383        Frank W Chen            5.8\n",
       "181384     Prasobh Vijayan            5.7\n",
       "181385  Grzegorz Jankowski            5.2\n",
       "\n",
       "[162071 rows x 2 columns]"
      ]
     },
     "execution_count": 139,
     "metadata": {},
     "output_type": "execute_result"
    }
   ],
   "source": [
    "# Take the director name and the ratings of their movies from the imdb dataframe\n",
    "directors_df = imdb_df[['primary_name', 'averagerating']]\n",
    "directors_df"
   ]
  },
  {
   "cell_type": "code",
   "execution_count": 140,
   "id": "23b120e8",
   "metadata": {},
   "outputs": [
    {
     "data": {
      "text/html": [
       "<div>\n",
       "<style scoped>\n",
       "    .dataframe tbody tr th:only-of-type {\n",
       "        vertical-align: middle;\n",
       "    }\n",
       "\n",
       "    .dataframe tbody tr th {\n",
       "        vertical-align: top;\n",
       "    }\n",
       "\n",
       "    .dataframe thead th {\n",
       "        text-align: right;\n",
       "    }\n",
       "</style>\n",
       "<table border=\"1\" class=\"dataframe\">\n",
       "  <thead>\n",
       "    <tr style=\"text-align: right;\">\n",
       "      <th></th>\n",
       "      <th>primary_name</th>\n",
       "      <th>Average_Rating</th>\n",
       "      <th>Movie_Count</th>\n",
       "    </tr>\n",
       "  </thead>\n",
       "  <tbody>\n",
       "    <tr>\n",
       "      <th>0</th>\n",
       "      <td>A Normale Jef</td>\n",
       "      <td>7.20</td>\n",
       "      <td>46</td>\n",
       "    </tr>\n",
       "    <tr>\n",
       "      <th>1</th>\n",
       "      <td>A'Ali de Sousa</td>\n",
       "      <td>4.20</td>\n",
       "      <td>1</td>\n",
       "    </tr>\n",
       "    <tr>\n",
       "      <th>2</th>\n",
       "      <td>A. Blaine Miller</td>\n",
       "      <td>7.00</td>\n",
       "      <td>1</td>\n",
       "    </tr>\n",
       "    <tr>\n",
       "      <th>3</th>\n",
       "      <td>A. Cengiz Mert</td>\n",
       "      <td>3.20</td>\n",
       "      <td>1</td>\n",
       "    </tr>\n",
       "    <tr>\n",
       "      <th>4</th>\n",
       "      <td>A. Fishman</td>\n",
       "      <td>7.80</td>\n",
       "      <td>1</td>\n",
       "    </tr>\n",
       "    <tr>\n",
       "      <th>...</th>\n",
       "      <td>...</td>\n",
       "      <td>...</td>\n",
       "      <td>...</td>\n",
       "    </tr>\n",
       "    <tr>\n",
       "      <th>51343</th>\n",
       "      <td>Ümit Kivanç</td>\n",
       "      <td>7.90</td>\n",
       "      <td>2</td>\n",
       "    </tr>\n",
       "    <tr>\n",
       "      <th>51344</th>\n",
       "      <td>Ümit Köreken</td>\n",
       "      <td>6.40</td>\n",
       "      <td>3</td>\n",
       "    </tr>\n",
       "    <tr>\n",
       "      <th>51345</th>\n",
       "      <td>Ümit Uludag</td>\n",
       "      <td>9.20</td>\n",
       "      <td>1</td>\n",
       "    </tr>\n",
       "    <tr>\n",
       "      <th>51346</th>\n",
       "      <td>Ümit Ünal</td>\n",
       "      <td>5.95</td>\n",
       "      <td>4</td>\n",
       "    </tr>\n",
       "    <tr>\n",
       "      <th>51347</th>\n",
       "      <td>Þórdur Bragi Jónsson</td>\n",
       "      <td>6.30</td>\n",
       "      <td>1</td>\n",
       "    </tr>\n",
       "  </tbody>\n",
       "</table>\n",
       "<p>51348 rows × 3 columns</p>\n",
       "</div>"
      ],
      "text/plain": [
       "               primary_name  Average_Rating  Movie_Count\n",
       "0             A Normale Jef            7.20           46\n",
       "1            A'Ali de Sousa            4.20            1\n",
       "2          A. Blaine Miller            7.00            1\n",
       "3            A. Cengiz Mert            3.20            1\n",
       "4                A. Fishman            7.80            1\n",
       "...                     ...             ...          ...\n",
       "51343           Ümit Kivanç            7.90            2\n",
       "51344          Ümit Köreken            6.40            3\n",
       "51345           Ümit Uludag            9.20            1\n",
       "51346             Ümit Ünal            5.95            4\n",
       "51347  Þórdur Bragi Jónsson            6.30            1\n",
       "\n",
       "[51348 rows x 3 columns]"
      ]
     },
     "execution_count": 140,
     "metadata": {},
     "output_type": "execute_result"
    }
   ],
   "source": [
    "# Group the directors by their name to calculate the average rating of their movies\n",
    "directors_df = directors_df.groupby('primary_name').agg(\n",
    "    Average_Rating=('averagerating', 'mean'),\n",
    "    Movie_Count=('averagerating', 'count')\n",
    ").reset_index()\n",
    "\n",
    "directors_df"
   ]
  },
  {
   "cell_type": "code",
   "execution_count": 141,
   "id": "1918d7df",
   "metadata": {},
   "outputs": [
    {
     "data": {
      "text/html": [
       "<div>\n",
       "<style scoped>\n",
       "    .dataframe tbody tr th:only-of-type {\n",
       "        vertical-align: middle;\n",
       "    }\n",
       "\n",
       "    .dataframe tbody tr th {\n",
       "        vertical-align: top;\n",
       "    }\n",
       "\n",
       "    .dataframe thead th {\n",
       "        text-align: right;\n",
       "    }\n",
       "</style>\n",
       "<table border=\"1\" class=\"dataframe\">\n",
       "  <thead>\n",
       "    <tr style=\"text-align: right;\">\n",
       "      <th></th>\n",
       "      <th>primary_name</th>\n",
       "      <th>Average_Rating</th>\n",
       "      <th>Movie_Count</th>\n",
       "    </tr>\n",
       "  </thead>\n",
       "  <tbody>\n",
       "    <tr>\n",
       "      <th>28376</th>\n",
       "      <td>Lindsay Thompson</td>\n",
       "      <td>10.0</td>\n",
       "      <td>1</td>\n",
       "    </tr>\n",
       "    <tr>\n",
       "      <th>19601</th>\n",
       "      <td>Ivana Diniz</td>\n",
       "      <td>10.0</td>\n",
       "      <td>2</td>\n",
       "    </tr>\n",
       "    <tr>\n",
       "      <th>14017</th>\n",
       "      <td>Emre Oran</td>\n",
       "      <td>10.0</td>\n",
       "      <td>1</td>\n",
       "    </tr>\n",
       "    <tr>\n",
       "      <th>33339</th>\n",
       "      <td>Michiel Brongers</td>\n",
       "      <td>10.0</td>\n",
       "      <td>1</td>\n",
       "    </tr>\n",
       "    <tr>\n",
       "      <th>31339</th>\n",
       "      <td>Masahiro Hayakawa</td>\n",
       "      <td>10.0</td>\n",
       "      <td>1</td>\n",
       "    </tr>\n",
       "    <tr>\n",
       "      <th>28640</th>\n",
       "      <td>Loreto Di Cesare</td>\n",
       "      <td>10.0</td>\n",
       "      <td>2</td>\n",
       "    </tr>\n",
       "    <tr>\n",
       "      <th>25503</th>\n",
       "      <td>Kalyan Varma</td>\n",
       "      <td>9.9</td>\n",
       "      <td>1</td>\n",
       "    </tr>\n",
       "    <tr>\n",
       "      <th>39430</th>\n",
       "      <td>Raphael Sbarge</td>\n",
       "      <td>9.9</td>\n",
       "      <td>1</td>\n",
       "    </tr>\n",
       "    <tr>\n",
       "      <th>34591</th>\n",
       "      <td>Nagaraja Uppunda</td>\n",
       "      <td>9.9</td>\n",
       "      <td>1</td>\n",
       "    </tr>\n",
       "    <tr>\n",
       "      <th>2915</th>\n",
       "      <td>Andrew Jezard</td>\n",
       "      <td>9.9</td>\n",
       "      <td>1</td>\n",
       "    </tr>\n",
       "    <tr>\n",
       "      <th>2402</th>\n",
       "      <td>Amoghavarsha</td>\n",
       "      <td>9.9</td>\n",
       "      <td>1</td>\n",
       "    </tr>\n",
       "    <tr>\n",
       "      <th>6096</th>\n",
       "      <td>Bonnie Hawthorne</td>\n",
       "      <td>9.8</td>\n",
       "      <td>1</td>\n",
       "    </tr>\n",
       "    <tr>\n",
       "      <th>21113</th>\n",
       "      <td>Javi Larrauri</td>\n",
       "      <td>9.8</td>\n",
       "      <td>1</td>\n",
       "    </tr>\n",
       "    <tr>\n",
       "      <th>47613</th>\n",
       "      <td>Todd Howe</td>\n",
       "      <td>9.8</td>\n",
       "      <td>1</td>\n",
       "    </tr>\n",
       "    <tr>\n",
       "      <th>30304</th>\n",
       "      <td>Maria Bagnat</td>\n",
       "      <td>9.8</td>\n",
       "      <td>1</td>\n",
       "    </tr>\n",
       "    <tr>\n",
       "      <th>11592</th>\n",
       "      <td>David Sipos</td>\n",
       "      <td>9.8</td>\n",
       "      <td>1</td>\n",
       "    </tr>\n",
       "    <tr>\n",
       "      <th>44930</th>\n",
       "      <td>Stacey K. Black</td>\n",
       "      <td>9.8</td>\n",
       "      <td>1</td>\n",
       "    </tr>\n",
       "    <tr>\n",
       "      <th>10775</th>\n",
       "      <td>Dante Tanikie-Montagnani</td>\n",
       "      <td>9.8</td>\n",
       "      <td>1</td>\n",
       "    </tr>\n",
       "    <tr>\n",
       "      <th>19752</th>\n",
       "      <td>J.M. Berrios</td>\n",
       "      <td>9.7</td>\n",
       "      <td>1</td>\n",
       "    </tr>\n",
       "    <tr>\n",
       "      <th>48427</th>\n",
       "      <td>Tyler Chandler</td>\n",
       "      <td>9.7</td>\n",
       "      <td>3</td>\n",
       "    </tr>\n",
       "  </tbody>\n",
       "</table>\n",
       "</div>"
      ],
      "text/plain": [
       "                   primary_name  Average_Rating  Movie_Count\n",
       "28376          Lindsay Thompson            10.0            1\n",
       "19601               Ivana Diniz            10.0            2\n",
       "14017                 Emre Oran            10.0            1\n",
       "33339          Michiel Brongers            10.0            1\n",
       "31339         Masahiro Hayakawa            10.0            1\n",
       "28640          Loreto Di Cesare            10.0            2\n",
       "25503              Kalyan Varma             9.9            1\n",
       "39430            Raphael Sbarge             9.9            1\n",
       "34591          Nagaraja Uppunda             9.9            1\n",
       "2915              Andrew Jezard             9.9            1\n",
       "2402               Amoghavarsha             9.9            1\n",
       "6096           Bonnie Hawthorne             9.8            1\n",
       "21113             Javi Larrauri             9.8            1\n",
       "47613                 Todd Howe             9.8            1\n",
       "30304              Maria Bagnat             9.8            1\n",
       "11592               David Sipos             9.8            1\n",
       "44930           Stacey K. Black             9.8            1\n",
       "10775  Dante Tanikie-Montagnani             9.8            1\n",
       "19752              J.M. Berrios             9.7            1\n",
       "48427            Tyler Chandler             9.7            3"
      ]
     },
     "execution_count": 141,
     "metadata": {},
     "output_type": "execute_result"
    }
   ],
   "source": [
    "# Sort the directors by the average rating of their movies\n",
    "top_rated = directors_df.sort_values(by='Average_Rating', ascending=False).head(20)\n",
    "top_rated"
   ]
  },
  {
   "cell_type": "code",
   "execution_count": 142,
   "id": "98d5b16d",
   "metadata": {},
   "outputs": [
    {
     "data": {
      "image/png": "[encoded data removed]",
      "text/plain": [
       "<Figure size 720x432 with 1 Axes>"
      ]
     },
     "metadata": {
      "needs_background": "light"
     },
     "output_type": "display_data"
    }
   ],
   "source": [
    "# visualize the top rated directors\n",
    "import matplotlib.pyplot as plt\n",
    "\n",
    "plt.figure(figsize=(10, 6))\n",
    "plt.barh(top_rated['primary_name'], top_rated['Average_Rating'], color='skyblue')\n",
    "plt.xlabel('Average Rating')\n",
    "plt.title('Top 20 Directors by Average Audience Rating')\n",
    "plt.gca().invert_yaxis()  # Highest rating at the top\n",
    "plt.tight_layout()\n",
    "plt.show()"
   ]
  },
  {
   "cell_type": "markdown",
   "id": "f12ad1f5",
   "metadata": {},
   "source": [
    "The highest rated directors seem to have worked on very few movies. We need to find the ones with some experience in the industry"
   ]
  },
  {
   "cell_type": "code",
   "execution_count": 143,
   "id": "e4c0edc1",
   "metadata": {},
   "outputs": [
    {
     "data": {
      "text/html": [
       "<div>\n",
       "<style scoped>\n",
       "    .dataframe tbody tr th:only-of-type {\n",
       "        vertical-align: middle;\n",
       "    }\n",
       "\n",
       "    .dataframe tbody tr th {\n",
       "        vertical-align: top;\n",
       "    }\n",
       "\n",
       "    .dataframe thead th {\n",
       "        text-align: right;\n",
       "    }\n",
       "</style>\n",
       "<table border=\"1\" class=\"dataframe\">\n",
       "  <thead>\n",
       "    <tr style=\"text-align: right;\">\n",
       "      <th></th>\n",
       "      <th>primary_name</th>\n",
       "      <th>Average_Rating</th>\n",
       "      <th>Movie_Count</th>\n",
       "    </tr>\n",
       "  </thead>\n",
       "  <tbody>\n",
       "    <tr>\n",
       "      <th>43773</th>\n",
       "      <td>Shane Ryan</td>\n",
       "      <td>5.626452</td>\n",
       "      <td>155</td>\n",
       "    </tr>\n",
       "    <tr>\n",
       "      <th>48068</th>\n",
       "      <td>Tony Newton</td>\n",
       "      <td>4.785385</td>\n",
       "      <td>130</td>\n",
       "    </tr>\n",
       "    <tr>\n",
       "      <th>41473</th>\n",
       "      <td>Ruben Rodriguez</td>\n",
       "      <td>6.079845</td>\n",
       "      <td>129</td>\n",
       "    </tr>\n",
       "    <tr>\n",
       "      <th>9547</th>\n",
       "      <td>Corey Norman</td>\n",
       "      <td>6.017757</td>\n",
       "      <td>107</td>\n",
       "    </tr>\n",
       "    <tr>\n",
       "      <th>20943</th>\n",
       "      <td>Jason Impey</td>\n",
       "      <td>5.158824</td>\n",
       "      <td>102</td>\n",
       "    </tr>\n",
       "    <tr>\n",
       "      <th>14712</th>\n",
       "      <td>Evan Marlowe</td>\n",
       "      <td>6.403000</td>\n",
       "      <td>100</td>\n",
       "    </tr>\n",
       "    <tr>\n",
       "      <th>20255</th>\n",
       "      <td>James Cullen Bressack</td>\n",
       "      <td>4.601020</td>\n",
       "      <td>98</td>\n",
       "    </tr>\n",
       "    <tr>\n",
       "      <th>37127</th>\n",
       "      <td>Patrick Rea</td>\n",
       "      <td>6.153933</td>\n",
       "      <td>89</td>\n",
       "    </tr>\n",
       "    <tr>\n",
       "      <th>19663</th>\n",
       "      <td>Izzy Lee</td>\n",
       "      <td>5.518293</td>\n",
       "      <td>82</td>\n",
       "    </tr>\n",
       "    <tr>\n",
       "      <th>16330</th>\n",
       "      <td>Gav Chuckie Steel</td>\n",
       "      <td>6.558025</td>\n",
       "      <td>81</td>\n",
       "    </tr>\n",
       "  </tbody>\n",
       "</table>\n",
       "</div>"
      ],
      "text/plain": [
       "                primary_name  Average_Rating  Movie_Count\n",
       "43773             Shane Ryan        5.626452          155\n",
       "48068            Tony Newton        4.785385          130\n",
       "41473        Ruben Rodriguez        6.079845          129\n",
       "9547            Corey Norman        6.017757          107\n",
       "20943            Jason Impey        5.158824          102\n",
       "14712           Evan Marlowe        6.403000          100\n",
       "20255  James Cullen Bressack        4.601020           98\n",
       "37127            Patrick Rea        6.153933           89\n",
       "19663               Izzy Lee        5.518293           82\n",
       "16330      Gav Chuckie Steel        6.558025           81"
      ]
     },
     "execution_count": 143,
     "metadata": {},
     "output_type": "execute_result"
    }
   ],
   "source": [
    "# Sort the directors by the number of movies directed to gauge their experience level\n",
    "experienced_df = directors_df.sort_values(by='Movie_Count', ascending=False).head(10)\n",
    "experienced_df"
   ]
  },
  {
   "cell_type": "code",
   "execution_count": 144,
   "id": "465ed7a5",
   "metadata": {},
   "outputs": [
    {
     "data": {
      "image/png": "[encoded data removed]",
      "text/plain": [
       "<Figure size 1080x504 with 1 Axes>"
      ]
     },
     "metadata": {
      "needs_background": "light"
     },
     "output_type": "display_data"
    }
   ],
   "source": [
    "# visualize the most experienced directors\n",
    "import squarify\n",
    "\n",
    "plt.figure(figsize=(15, 7))\n",
    "squarify.plot(sizes= experienced_df['Movie_Count'], label=experienced_df['primary_name'], alpha=.8)\n",
    "plt.axis('off')\n",
    "plt.title('Treemap of Top 10 Most Experienced Directors')\n",
    "plt.show()\n"
   ]
  },
  {
   "cell_type": "markdown",
   "id": "55d271fb",
   "metadata": {},
   "source": [
    "To find the best directors to recommend, we need to take into account both experience level and ratings. So we have to sort by movie count (experience) then pick the best rated among these"
   ]
  },
  {
   "cell_type": "code",
   "execution_count": 145,
   "id": "85b0dbcc",
   "metadata": {},
   "outputs": [
    {
     "data": {
      "text/html": [
       "<div>\n",
       "<style scoped>\n",
       "    .dataframe tbody tr th:only-of-type {\n",
       "        vertical-align: middle;\n",
       "    }\n",
       "\n",
       "    .dataframe tbody tr th {\n",
       "        vertical-align: top;\n",
       "    }\n",
       "\n",
       "    .dataframe thead th {\n",
       "        text-align: right;\n",
       "    }\n",
       "</style>\n",
       "<table border=\"1\" class=\"dataframe\">\n",
       "  <thead>\n",
       "    <tr style=\"text-align: right;\">\n",
       "      <th></th>\n",
       "      <th>primary_name</th>\n",
       "      <th>Average_Rating</th>\n",
       "      <th>Movie_Count</th>\n",
       "    </tr>\n",
       "  </thead>\n",
       "  <tbody>\n",
       "    <tr>\n",
       "      <th>43773</th>\n",
       "      <td>Shane Ryan</td>\n",
       "      <td>5.626452</td>\n",
       "      <td>155</td>\n",
       "    </tr>\n",
       "    <tr>\n",
       "      <th>48068</th>\n",
       "      <td>Tony Newton</td>\n",
       "      <td>4.785385</td>\n",
       "      <td>130</td>\n",
       "    </tr>\n",
       "    <tr>\n",
       "      <th>41473</th>\n",
       "      <td>Ruben Rodriguez</td>\n",
       "      <td>6.079845</td>\n",
       "      <td>129</td>\n",
       "    </tr>\n",
       "    <tr>\n",
       "      <th>9547</th>\n",
       "      <td>Corey Norman</td>\n",
       "      <td>6.017757</td>\n",
       "      <td>107</td>\n",
       "    </tr>\n",
       "    <tr>\n",
       "      <th>20943</th>\n",
       "      <td>Jason Impey</td>\n",
       "      <td>5.158824</td>\n",
       "      <td>102</td>\n",
       "    </tr>\n",
       "    <tr>\n",
       "      <th>14712</th>\n",
       "      <td>Evan Marlowe</td>\n",
       "      <td>6.403000</td>\n",
       "      <td>100</td>\n",
       "    </tr>\n",
       "    <tr>\n",
       "      <th>20255</th>\n",
       "      <td>James Cullen Bressack</td>\n",
       "      <td>4.601020</td>\n",
       "      <td>98</td>\n",
       "    </tr>\n",
       "    <tr>\n",
       "      <th>37127</th>\n",
       "      <td>Patrick Rea</td>\n",
       "      <td>6.153933</td>\n",
       "      <td>89</td>\n",
       "    </tr>\n",
       "    <tr>\n",
       "      <th>19663</th>\n",
       "      <td>Izzy Lee</td>\n",
       "      <td>5.518293</td>\n",
       "      <td>82</td>\n",
       "    </tr>\n",
       "    <tr>\n",
       "      <th>16330</th>\n",
       "      <td>Gav Chuckie Steel</td>\n",
       "      <td>6.558025</td>\n",
       "      <td>81</td>\n",
       "    </tr>\n",
       "  </tbody>\n",
       "</table>\n",
       "</div>"
      ],
      "text/plain": [
       "                primary_name  Average_Rating  Movie_Count\n",
       "43773             Shane Ryan        5.626452          155\n",
       "48068            Tony Newton        4.785385          130\n",
       "41473        Ruben Rodriguez        6.079845          129\n",
       "9547            Corey Norman        6.017757          107\n",
       "20943            Jason Impey        5.158824          102\n",
       "14712           Evan Marlowe        6.403000          100\n",
       "20255  James Cullen Bressack        4.601020           98\n",
       "37127            Patrick Rea        6.153933           89\n",
       "19663               Izzy Lee        5.518293           82\n",
       "16330      Gav Chuckie Steel        6.558025           81"
      ]
     },
     "execution_count": 145,
     "metadata": {},
     "output_type": "execute_result"
    }
   ],
   "source": [
    "# sort directors by movie count then pick the best rated among these experienced directors\n",
    "best_directors_df = directors_df.sort_values(by='Movie_Count', ascending=False).head(10)\n",
    "best_directors_df"
   ]
  },
  {
   "cell_type": "code",
   "execution_count": 146,
   "id": "0195eeab",
   "metadata": {},
   "outputs": [
    {
     "data": {
      "image/png": "[encoded data removed]",
      "text/plain": [
       "<Figure size 720x432 with 1 Axes>"
      ]
     },
     "metadata": {
      "needs_background": "light"
     },
     "output_type": "display_data"
    }
   ],
   "source": [
    "# visualize the data\n",
    "\n",
    "plt.figure(figsize=(10, 6))\n",
    "bars = plt.barh(best_directors_df['primary_name'],best_directors_df['Movie_Count'], color='skyblue')\n",
    "\n",
    "# Annotate each bar with average rating\n",
    "for bar, rating in zip(bars, best_directors_df['Average_Rating']):\n",
    "    plt.text(bar.get_width() + 0.1, bar.get_y() + bar.get_height()/2,\n",
    "             f'Avg: {rating:.1f}', va='center')\n",
    "\n",
    "plt.xlabel('Movie Count')\n",
    "plt.title('Top Directors by Experience and Average Ratings')\n",
    "plt.tight_layout()\n",
    "plt.show()\n"
   ]
  },
  {
   "cell_type": "markdown",
   "id": "633bc64c",
   "metadata": {},
   "source": [
    "Now we'll plot two axes to show both ratings and number of movies for each director on the same figure"
   ]
  },
  {
   "cell_type": "code",
   "execution_count": 147,
   "id": "076b9630",
   "metadata": {},
   "outputs": [
    {
     "data": {
      "image/png": "[encoded data removed]",
      "text/plain": [
       "<Figure size 1440x720 with 2 Axes>"
      ]
     },
     "metadata": {},
     "output_type": "display_data"
    }
   ],
   "source": [
    "# plot a dual axis bar and line graphs\n",
    "fig, ax1 = plt.subplots(figsize=(20, 10))\n",
    "\n",
    "# Bar plot for movie count\n",
    "ax1.bar(best_directors_df['primary_name'], best_directors_df['Movie_Count'], color='lightcoral')\n",
    "ax1.set_ylabel('Movie Count', color='lightcoral')\n",
    "ax1.tick_params(axis='y', labelcolor='lightcoral')\n",
    "\n",
    "# Line plot for average rating\n",
    "ax2 = ax1.twinx()\n",
    "ax2.plot(best_directors_df['primary_name'], best_directors_df['Average_Rating'], color='steelblue', marker='o')\n",
    "ax2.set_ylabel('Average Rating', color='steelblue')\n",
    "ax2.tick_params(axis='y', labelcolor='steelblue')\n",
    "\n",
    "plt.title('Best Directors: Movie Count (experience) and Average Rating', color = 'white')\n",
    "plt.tight_layout()\n",
    "plt.show()\n"
   ]
  },
  {
   "cell_type": "markdown",
   "id": "574a9300",
   "metadata": {},
   "source": [
    "From the visualization above, the best directors out of these according to their ratings and experience are: \n",
    "1. Sergey A.\n",
    "2. Evan Marlowe\n",
    "3. Patrick Rea\n",
    "4. Ruben Rodriguez\n",
    "5. Corey Norman"
   ]
  },
  {
   "cell_type": "markdown",
   "id": "f7d08d59",
   "metadata": {},
   "source": [
    "# Dropping Duplicates\n",
    "\n",
    "## Step 1: Remove Duplicate Movie Entries\n",
    "This step ensures that each movie is only counted once by removing any duplicate rows from the IMDb dataset.\n",
    "\n"
   ]
  },
  {
   "cell_type": "code",
   "execution_count": 148,
   "id": "3e09416b",
   "metadata": {},
   "outputs": [
    {
     "data": {
      "text/html": [
       "<div>\n",
       "<style scoped>\n",
       "    .dataframe tbody tr th:only-of-type {\n",
       "        vertical-align: middle;\n",
       "    }\n",
       "\n",
       "    .dataframe tbody tr th {\n",
       "        vertical-align: top;\n",
       "    }\n",
       "\n",
       "    .dataframe thead th {\n",
       "        text-align: right;\n",
       "    }\n",
       "</style>\n",
       "<table border=\"1\" class=\"dataframe\">\n",
       "  <thead>\n",
       "    <tr style=\"text-align: right;\">\n",
       "      <th></th>\n",
       "      <th>person_id</th>\n",
       "      <th>primary_name</th>\n",
       "      <th>movie_id</th>\n",
       "      <th>runtime_minutes</th>\n",
       "      <th>genres</th>\n",
       "      <th>averagerating</th>\n",
       "    </tr>\n",
       "  </thead>\n",
       "  <tbody>\n",
       "    <tr>\n",
       "      <th>0</th>\n",
       "      <td>nm0062879</td>\n",
       "      <td>Ruel S. Bayani</td>\n",
       "      <td>tt1592569</td>\n",
       "      <td>110</td>\n",
       "      <td>Drama,Romance</td>\n",
       "      <td>6.4</td>\n",
       "    </tr>\n",
       "    <tr>\n",
       "      <th>4</th>\n",
       "      <td>nm0062879</td>\n",
       "      <td>Ruel S. Bayani</td>\n",
       "      <td>tt2057445</td>\n",
       "      <td>101</td>\n",
       "      <td>Drama,Romance,Thriller</td>\n",
       "      <td>6.4</td>\n",
       "    </tr>\n",
       "    <tr>\n",
       "      <th>7</th>\n",
       "      <td>nm0062879</td>\n",
       "      <td>Ruel S. Bayani</td>\n",
       "      <td>tt2590280</td>\n",
       "      <td>100</td>\n",
       "      <td>Drama</td>\n",
       "      <td>5.8</td>\n",
       "    </tr>\n",
       "    <tr>\n",
       "      <th>10</th>\n",
       "      <td>nm0064023</td>\n",
       "      <td>Bryan Beasley</td>\n",
       "      <td>tt4512140</td>\n",
       "      <td>53</td>\n",
       "      <td>Documentary</td>\n",
       "      <td>8.9</td>\n",
       "    </tr>\n",
       "    <tr>\n",
       "      <th>11</th>\n",
       "      <td>nm0067234</td>\n",
       "      <td>Hans Beimler</td>\n",
       "      <td>tt2098699</td>\n",
       "      <td>90</td>\n",
       "      <td>Drama</td>\n",
       "      <td>5.8</td>\n",
       "    </tr>\n",
       "    <tr>\n",
       "      <th>...</th>\n",
       "      <td>...</td>\n",
       "      <td>...</td>\n",
       "      <td>...</td>\n",
       "      <td>...</td>\n",
       "      <td>...</td>\n",
       "      <td>...</td>\n",
       "    </tr>\n",
       "    <tr>\n",
       "      <th>181380</th>\n",
       "      <td>nm9541799</td>\n",
       "      <td>Hamed Saleh</td>\n",
       "      <td>tt7849092</td>\n",
       "      <td>84</td>\n",
       "      <td>Comedy</td>\n",
       "      <td>6.5</td>\n",
       "    </tr>\n",
       "    <tr>\n",
       "      <th>181381</th>\n",
       "      <td>nm9701687</td>\n",
       "      <td>Benjamin Ovesen</td>\n",
       "      <td>tt8146836</td>\n",
       "      <td>55</td>\n",
       "      <td>Drama</td>\n",
       "      <td>7.4</td>\n",
       "    </tr>\n",
       "    <tr>\n",
       "      <th>181382</th>\n",
       "      <td>nm9748617</td>\n",
       "      <td>Frank W Chen</td>\n",
       "      <td>tt8234502</td>\n",
       "      <td>99</td>\n",
       "      <td>Documentary,Sport</td>\n",
       "      <td>5.8</td>\n",
       "    </tr>\n",
       "    <tr>\n",
       "      <th>181384</th>\n",
       "      <td>nm9769561</td>\n",
       "      <td>Prasobh Vijayan</td>\n",
       "      <td>tt8273258</td>\n",
       "      <td>91</td>\n",
       "      <td>Thriller</td>\n",
       "      <td>5.7</td>\n",
       "    </tr>\n",
       "    <tr>\n",
       "      <th>181385</th>\n",
       "      <td>nm9781362</td>\n",
       "      <td>Grzegorz Jankowski</td>\n",
       "      <td>tt4438688</td>\n",
       "      <td>93</td>\n",
       "      <td>Comedy,Musical</td>\n",
       "      <td>5.2</td>\n",
       "    </tr>\n",
       "  </tbody>\n",
       "</table>\n",
       "<p>76137 rows × 6 columns</p>\n",
       "</div>"
      ],
      "text/plain": [
       "        person_id        primary_name   movie_id  runtime_minutes  \\\n",
       "0       nm0062879      Ruel S. Bayani  tt1592569              110   \n",
       "4       nm0062879      Ruel S. Bayani  tt2057445              101   \n",
       "7       nm0062879      Ruel S. Bayani  tt2590280              100   \n",
       "10      nm0064023       Bryan Beasley  tt4512140               53   \n",
       "11      nm0067234        Hans Beimler  tt2098699               90   \n",
       "...           ...                 ...        ...              ...   \n",
       "181380  nm9541799         Hamed Saleh  tt7849092               84   \n",
       "181381  nm9701687     Benjamin Ovesen  tt8146836               55   \n",
       "181382  nm9748617        Frank W Chen  tt8234502               99   \n",
       "181384  nm9769561     Prasobh Vijayan  tt8273258               91   \n",
       "181385  nm9781362  Grzegorz Jankowski  tt4438688               93   \n",
       "\n",
       "                        genres  averagerating  \n",
       "0                Drama,Romance            6.4  \n",
       "4       Drama,Romance,Thriller            6.4  \n",
       "7                        Drama            5.8  \n",
       "10                 Documentary            8.9  \n",
       "11                       Drama            5.8  \n",
       "...                        ...            ...  \n",
       "181380                  Comedy            6.5  \n",
       "181381                   Drama            7.4  \n",
       "181382       Documentary,Sport            5.8  \n",
       "181384                Thriller            5.7  \n",
       "181385          Comedy,Musical            5.2  \n",
       "\n",
       "[76137 rows x 6 columns]"
      ]
     },
     "execution_count": 148,
     "metadata": {},
     "output_type": "execute_result"
    }
   ],
   "source": [
    "imdb_df = imdb_df.drop_duplicates()\n",
    "imdb_df"
   ]
  },
  {
   "cell_type": "markdown",
   "id": "b4a6b384",
   "metadata": {},
   "source": [
    "# Handling Genre Data\n",
    "## Step 2: Normalize Genre Data into Individual Rows\n",
    "Movies with multiple genres are split so each genre appears in its own row. This structure allows accurate per-genre analysis.\n"
   ]
  },
  {
   "cell_type": "code",
   "execution_count": 149,
   "id": "ddd580cb",
   "metadata": {},
   "outputs": [
    {
     "data": {
      "text/html": [
       "<div>\n",
       "<style scoped>\n",
       "    .dataframe tbody tr th:only-of-type {\n",
       "        vertical-align: middle;\n",
       "    }\n",
       "\n",
       "    .dataframe tbody tr th {\n",
       "        vertical-align: top;\n",
       "    }\n",
       "\n",
       "    .dataframe thead th {\n",
       "        text-align: right;\n",
       "    }\n",
       "</style>\n",
       "<table border=\"1\" class=\"dataframe\">\n",
       "  <thead>\n",
       "    <tr style=\"text-align: right;\">\n",
       "      <th></th>\n",
       "      <th>person_id</th>\n",
       "      <th>primary_name</th>\n",
       "      <th>movie_id</th>\n",
       "      <th>runtime_minutes</th>\n",
       "      <th>genres</th>\n",
       "      <th>averagerating</th>\n",
       "    </tr>\n",
       "  </thead>\n",
       "  <tbody>\n",
       "    <tr>\n",
       "      <th>0</th>\n",
       "      <td>nm0062879</td>\n",
       "      <td>Ruel S. Bayani</td>\n",
       "      <td>tt1592569</td>\n",
       "      <td>110</td>\n",
       "      <td>Drama</td>\n",
       "      <td>6.4</td>\n",
       "    </tr>\n",
       "    <tr>\n",
       "      <th>0</th>\n",
       "      <td>nm0062879</td>\n",
       "      <td>Ruel S. Bayani</td>\n",
       "      <td>tt1592569</td>\n",
       "      <td>110</td>\n",
       "      <td>Romance</td>\n",
       "      <td>6.4</td>\n",
       "    </tr>\n",
       "    <tr>\n",
       "      <th>4</th>\n",
       "      <td>nm0062879</td>\n",
       "      <td>Ruel S. Bayani</td>\n",
       "      <td>tt2057445</td>\n",
       "      <td>101</td>\n",
       "      <td>Drama</td>\n",
       "      <td>6.4</td>\n",
       "    </tr>\n",
       "    <tr>\n",
       "      <th>4</th>\n",
       "      <td>nm0062879</td>\n",
       "      <td>Ruel S. Bayani</td>\n",
       "      <td>tt2057445</td>\n",
       "      <td>101</td>\n",
       "      <td>Romance</td>\n",
       "      <td>6.4</td>\n",
       "    </tr>\n",
       "    <tr>\n",
       "      <th>4</th>\n",
       "      <td>nm0062879</td>\n",
       "      <td>Ruel S. Bayani</td>\n",
       "      <td>tt2057445</td>\n",
       "      <td>101</td>\n",
       "      <td>Thriller</td>\n",
       "      <td>6.4</td>\n",
       "    </tr>\n",
       "    <tr>\n",
       "      <th>...</th>\n",
       "      <td>...</td>\n",
       "      <td>...</td>\n",
       "      <td>...</td>\n",
       "      <td>...</td>\n",
       "      <td>...</td>\n",
       "      <td>...</td>\n",
       "    </tr>\n",
       "    <tr>\n",
       "      <th>181382</th>\n",
       "      <td>nm9748617</td>\n",
       "      <td>Frank W Chen</td>\n",
       "      <td>tt8234502</td>\n",
       "      <td>99</td>\n",
       "      <td>Documentary</td>\n",
       "      <td>5.8</td>\n",
       "    </tr>\n",
       "    <tr>\n",
       "      <th>181382</th>\n",
       "      <td>nm9748617</td>\n",
       "      <td>Frank W Chen</td>\n",
       "      <td>tt8234502</td>\n",
       "      <td>99</td>\n",
       "      <td>Sport</td>\n",
       "      <td>5.8</td>\n",
       "    </tr>\n",
       "    <tr>\n",
       "      <th>181384</th>\n",
       "      <td>nm9769561</td>\n",
       "      <td>Prasobh Vijayan</td>\n",
       "      <td>tt8273258</td>\n",
       "      <td>91</td>\n",
       "      <td>Thriller</td>\n",
       "      <td>5.7</td>\n",
       "    </tr>\n",
       "    <tr>\n",
       "      <th>181385</th>\n",
       "      <td>nm9781362</td>\n",
       "      <td>Grzegorz Jankowski</td>\n",
       "      <td>tt4438688</td>\n",
       "      <td>93</td>\n",
       "      <td>Comedy</td>\n",
       "      <td>5.2</td>\n",
       "    </tr>\n",
       "    <tr>\n",
       "      <th>181385</th>\n",
       "      <td>nm9781362</td>\n",
       "      <td>Grzegorz Jankowski</td>\n",
       "      <td>tt4438688</td>\n",
       "      <td>93</td>\n",
       "      <td>Musical</td>\n",
       "      <td>5.2</td>\n",
       "    </tr>\n",
       "  </tbody>\n",
       "</table>\n",
       "<p>137898 rows × 6 columns</p>\n",
       "</div>"
      ],
      "text/plain": [
       "        person_id        primary_name   movie_id  runtime_minutes  \\\n",
       "0       nm0062879      Ruel S. Bayani  tt1592569              110   \n",
       "0       nm0062879      Ruel S. Bayani  tt1592569              110   \n",
       "4       nm0062879      Ruel S. Bayani  tt2057445              101   \n",
       "4       nm0062879      Ruel S. Bayani  tt2057445              101   \n",
       "4       nm0062879      Ruel S. Bayani  tt2057445              101   \n",
       "...           ...                 ...        ...              ...   \n",
       "181382  nm9748617        Frank W Chen  tt8234502               99   \n",
       "181382  nm9748617        Frank W Chen  tt8234502               99   \n",
       "181384  nm9769561     Prasobh Vijayan  tt8273258               91   \n",
       "181385  nm9781362  Grzegorz Jankowski  tt4438688               93   \n",
       "181385  nm9781362  Grzegorz Jankowski  tt4438688               93   \n",
       "\n",
       "             genres  averagerating  \n",
       "0             Drama            6.4  \n",
       "0           Romance            6.4  \n",
       "4             Drama            6.4  \n",
       "4           Romance            6.4  \n",
       "4          Thriller            6.4  \n",
       "...             ...            ...  \n",
       "181382  Documentary            5.8  \n",
       "181382        Sport            5.8  \n",
       "181384     Thriller            5.7  \n",
       "181385       Comedy            5.2  \n",
       "181385      Musical            5.2  \n",
       "\n",
       "[137898 rows x 6 columns]"
      ]
     },
     "execution_count": 149,
     "metadata": {},
     "output_type": "execute_result"
    }
   ],
   "source": [
    "imdb_df['genres'] = imdb_df['genres'].str.split(',')\n",
    "imdb_df = imdb_df.explode('genres')\n",
    "\n",
    "imdb_df"
   ]
  },
  {
   "cell_type": "markdown",
   "id": "ab77cde6",
   "metadata": {},
   "source": [
    "# Calculating Average Rating by Genre\n",
    "## Step 3: Compute Average Rating for Each Genre\n",
    "The dataset is grouped by genre, and the mean IMDb rating is calculated for each group. Results are sorted from highest to lowest rated genre.\n"
   ]
  },
  {
   "cell_type": "code",
   "execution_count": 150,
   "id": "4900e478",
   "metadata": {},
   "outputs": [
    {
     "data": {
      "text/plain": [
       "genres\n",
       "Game-Show      7.300000\n",
       "Documentary    7.298870\n",
       "News           7.263418\n",
       "Biography      7.147113\n",
       "Music          7.085899\n",
       "History        7.048842\n",
       "Sport          6.995356\n",
       "War            6.595243\n",
       "Musical        6.492254\n",
       "Family         6.405832\n",
       "Drama          6.394353\n",
       "Animation      6.273719\n",
       "Adventure      6.200232\n",
       "Reality-TV     6.163636\n",
       "Romance        6.145869\n",
       "Crime          6.104669\n",
       "Comedy         6.020658\n",
       "Fantasy        5.917955\n",
       "Mystery        5.898125\n",
       "Western        5.831317\n",
       "Action         5.785424\n",
       "Thriller       5.575057\n",
       "Sci-Fi         5.500688\n",
       "Horror         4.969244\n",
       "Adult          3.300000\n",
       "Name: averagerating, dtype: float64"
      ]
     },
     "execution_count": 150,
     "metadata": {},
     "output_type": "execute_result"
    }
   ],
   "source": [
    "genre_ratings = imdb_df.groupby('genres')['averagerating'].mean().sort_values(ascending=False)\n",
    "genre_ratings"
   ]
  }
 ],
 "metadata": {
  "kernelspec": {
   "display_name": "learn-env",
   "language": "python",
   "name": "python3"
  },
  "language_info": {
   "codemirror_mode": {
    "name": "ipython",
    "version": 3
   },
   "file_extension": ".py",
   "mimetype": "text/x-python",
   "name": "python",
   "nbconvert_exporter": "python",
   "pygments_lexer": "ipython3",
   "version": "3.8.5"
  }
 },
 "nbformat": 4,
 "nbformat_minor": 5
}
