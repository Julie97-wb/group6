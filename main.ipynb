{
 "cells": [
  {
   "cell_type": "markdown",
   "id": "dd8ba154",
   "metadata": {},
   "source": [
    "## **DATA CLEANING**"
   ]
  },
  {
   "cell_type": "code",
   "execution_count": 65,
   "id": "7a626c29",
   "metadata": {},
   "outputs": [],
   "source": [
    "# Import the necessary libraries \n",
    "import pandas as pd\n",
    "import sqlite3"
   ]
  },
  {
   "cell_type": "markdown",
   "id": "304c9df5",
   "metadata": {},
   "source": [
    "**1. tn.movie_budgets.csv**"
   ]
  },
  {
   "cell_type": "code",
   "execution_count": 66,
   "id": "e8ceaa04",
   "metadata": {},
   "outputs": [
    {
     "data": {
      "text/html": [
       "<div>\n",
       "<style scoped>\n",
       "    .dataframe tbody tr th:only-of-type {\n",
       "        vertical-align: middle;\n",
       "    }\n",
       "\n",
       "    .dataframe tbody tr th {\n",
       "        vertical-align: top;\n",
       "    }\n",
       "\n",
       "    .dataframe thead th {\n",
       "        text-align: right;\n",
       "    }\n",
       "</style>\n",
       "<table border=\"1\" class=\"dataframe\">\n",
       "  <thead>\n",
       "    <tr style=\"text-align: right;\">\n",
       "      <th></th>\n",
       "      <th>id</th>\n",
       "      <th>release_date</th>\n",
       "      <th>movie</th>\n",
       "      <th>production_budget</th>\n",
       "      <th>domestic_gross</th>\n",
       "      <th>worldwide_gross</th>\n",
       "    </tr>\n",
       "  </thead>\n",
       "  <tbody>\n",
       "    <tr>\n",
       "      <th>0</th>\n",
       "      <td>1</td>\n",
       "      <td>Dec 18, 2009</td>\n",
       "      <td>Avatar</td>\n",
       "      <td>$425,000,000</td>\n",
       "      <td>$760,507,625</td>\n",
       "      <td>$2,776,345,279</td>\n",
       "    </tr>\n",
       "    <tr>\n",
       "      <th>1</th>\n",
       "      <td>2</td>\n",
       "      <td>May 20, 2011</td>\n",
       "      <td>Pirates of the Caribbean: On Stranger Tides</td>\n",
       "      <td>$410,600,000</td>\n",
       "      <td>$241,063,875</td>\n",
       "      <td>$1,045,663,875</td>\n",
       "    </tr>\n",
       "    <tr>\n",
       "      <th>2</th>\n",
       "      <td>3</td>\n",
       "      <td>Jun 7, 2019</td>\n",
       "      <td>Dark Phoenix</td>\n",
       "      <td>$350,000,000</td>\n",
       "      <td>$42,762,350</td>\n",
       "      <td>$149,762,350</td>\n",
       "    </tr>\n",
       "    <tr>\n",
       "      <th>3</th>\n",
       "      <td>4</td>\n",
       "      <td>May 1, 2015</td>\n",
       "      <td>Avengers: Age of Ultron</td>\n",
       "      <td>$330,600,000</td>\n",
       "      <td>$459,005,868</td>\n",
       "      <td>$1,403,013,963</td>\n",
       "    </tr>\n",
       "    <tr>\n",
       "      <th>4</th>\n",
       "      <td>5</td>\n",
       "      <td>Dec 15, 2017</td>\n",
       "      <td>Star Wars Ep. VIII: The Last Jedi</td>\n",
       "      <td>$317,000,000</td>\n",
       "      <td>$620,181,382</td>\n",
       "      <td>$1,316,721,747</td>\n",
       "    </tr>\n",
       "  </tbody>\n",
       "</table>\n",
       "</div>"
      ],
      "text/plain": [
       "   id  release_date                                        movie  \\\n",
       "0   1  Dec 18, 2009                                       Avatar   \n",
       "1   2  May 20, 2011  Pirates of the Caribbean: On Stranger Tides   \n",
       "2   3   Jun 7, 2019                                 Dark Phoenix   \n",
       "3   4   May 1, 2015                      Avengers: Age of Ultron   \n",
       "4   5  Dec 15, 2017            Star Wars Ep. VIII: The Last Jedi   \n",
       "\n",
       "  production_budget domestic_gross worldwide_gross  \n",
       "0      $425,000,000   $760,507,625  $2,776,345,279  \n",
       "1      $410,600,000   $241,063,875  $1,045,663,875  \n",
       "2      $350,000,000    $42,762,350    $149,762,350  \n",
       "3      $330,600,000   $459,005,868  $1,403,013,963  \n",
       "4      $317,000,000   $620,181,382  $1,316,721,747  "
      ]
     },
     "execution_count": 66,
     "metadata": {},
     "output_type": "execute_result"
    }
   ],
   "source": [
    "# Load the dataframe\n",
    "tn_df = pd.read_csv('./zippedData/tn.movie_budgets.csv.gz')\n",
    "tn_df.head()\n",
    "\n"
   ]
  },
  {
   "cell_type": "code",
   "execution_count": 67,
   "id": "efe32c71",
   "metadata": {},
   "outputs": [
    {
     "name": "stdout",
     "output_type": "stream",
     "text": [
      "<class 'pandas.core.frame.DataFrame'>\n",
      "RangeIndex: 5782 entries, 0 to 5781\n",
      "Data columns (total 6 columns):\n",
      " #   Column             Non-Null Count  Dtype \n",
      "---  ------             --------------  ----- \n",
      " 0   id                 5782 non-null   int64 \n",
      " 1   release_date       5782 non-null   object\n",
      " 2   movie              5782 non-null   object\n",
      " 3   production_budget  5782 non-null   object\n",
      " 4   domestic_gross     5782 non-null   object\n",
      " 5   worldwide_gross    5782 non-null   object\n",
      "dtypes: int64(1), object(5)\n",
      "memory usage: 271.2+ KB\n"
     ]
    }
   ],
   "source": [
    "# Gives us a concise summary of our dataframe by giving us basic information of the dataframe\n",
    "tn_df.info()"
   ]
  },
  {
   "cell_type": "markdown",
   "id": "4e1a2e75",
   "metadata": {},
   "source": [
    "From our findings above, we can see that our dataframe has 5782 entries and 36 columns in total. We have 5 columns in the string format and one other column in the integer format(int64). "
   ]
  },
  {
   "cell_type": "code",
   "execution_count": 68,
   "id": "19940949",
   "metadata": {},
   "outputs": [
    {
     "data": {
      "text/html": [
       "<div>\n",
       "<style scoped>\n",
       "    .dataframe tbody tr th:only-of-type {\n",
       "        vertical-align: middle;\n",
       "    }\n",
       "\n",
       "    .dataframe tbody tr th {\n",
       "        vertical-align: top;\n",
       "    }\n",
       "\n",
       "    .dataframe thead th {\n",
       "        text-align: right;\n",
       "    }\n",
       "</style>\n",
       "<table border=\"1\" class=\"dataframe\">\n",
       "  <thead>\n",
       "    <tr style=\"text-align: right;\">\n",
       "      <th></th>\n",
       "      <th>id</th>\n",
       "    </tr>\n",
       "  </thead>\n",
       "  <tbody>\n",
       "    <tr>\n",
       "      <th>count</th>\n",
       "      <td>5782.000000</td>\n",
       "    </tr>\n",
       "    <tr>\n",
       "      <th>mean</th>\n",
       "      <td>50.372363</td>\n",
       "    </tr>\n",
       "    <tr>\n",
       "      <th>std</th>\n",
       "      <td>28.821076</td>\n",
       "    </tr>\n",
       "    <tr>\n",
       "      <th>min</th>\n",
       "      <td>1.000000</td>\n",
       "    </tr>\n",
       "    <tr>\n",
       "      <th>25%</th>\n",
       "      <td>25.000000</td>\n",
       "    </tr>\n",
       "    <tr>\n",
       "      <th>50%</th>\n",
       "      <td>50.000000</td>\n",
       "    </tr>\n",
       "    <tr>\n",
       "      <th>75%</th>\n",
       "      <td>75.000000</td>\n",
       "    </tr>\n",
       "    <tr>\n",
       "      <th>max</th>\n",
       "      <td>100.000000</td>\n",
       "    </tr>\n",
       "  </tbody>\n",
       "</table>\n",
       "</div>"
      ],
      "text/plain": [
       "                id\n",
       "count  5782.000000\n",
       "mean     50.372363\n",
       "std      28.821076\n",
       "min       1.000000\n",
       "25%      25.000000\n",
       "50%      50.000000\n",
       "75%      75.000000\n",
       "max     100.000000"
      ]
     },
     "execution_count": 68,
     "metadata": {},
     "output_type": "execute_result"
    }
   ],
   "source": [
    "# Check the summary statistics of our dataframe\n",
    "tn_df.describe()"
   ]
  },
  {
   "cell_type": "code",
   "execution_count": 69,
   "id": "44e6eef1",
   "metadata": {},
   "outputs": [
    {
     "name": "stdout",
     "output_type": "stream",
     "text": [
      "The dataframe contains: 5782 rows\n",
      "The dataframe contains: 6 columns\n"
     ]
    }
   ],
   "source": [
    "# Shows us the number of rows and columns in our dataframe\n",
    "print('The dataframe contains:', tn_df.shape[0],'rows')\n",
    "print('The dataframe contains:', tn_df.shape[1],'columns')\n"
   ]
  },
  {
   "cell_type": "markdown",
   "id": "b5450dcc",
   "metadata": {},
   "source": [
    "**Handling missing values and duplicate values**"
   ]
  },
  {
   "cell_type": "code",
   "execution_count": 70,
   "id": "7bdee8b1",
   "metadata": {},
   "outputs": [
    {
     "data": {
      "text/plain": [
       "id                   0\n",
       "release_date         0\n",
       "movie                0\n",
       "production_budget    0\n",
       "domestic_gross       0\n",
       "worldwide_gross      0\n",
       "dtype: int64"
      ]
     },
     "execution_count": 70,
     "metadata": {},
     "output_type": "execute_result"
    }
   ],
   "source": [
    "#First check for null values\n",
    "tn_df.isnull().sum()"
   ]
  },
  {
   "cell_type": "markdown",
   "id": "44f21976",
   "metadata": {},
   "source": [
    "There are no missing values in our dataframe."
   ]
  },
  {
   "cell_type": "code",
   "execution_count": 71,
   "id": "5c15fc5c",
   "metadata": {},
   "outputs": [
    {
     "data": {
      "text/plain": [
       "0"
      ]
     },
     "execution_count": 71,
     "metadata": {},
     "output_type": "execute_result"
    }
   ],
   "source": [
    "#Check for duplicates\n",
    "tn_df.duplicated().sum()"
   ]
  },
  {
   "cell_type": "markdown",
   "id": "820e4cd6",
   "metadata": {},
   "source": [
    "We can also see that our dataframe has no duplicates.We also have no need for the release date column in our dataframe so we will drop it. "
   ]
  },
  {
   "cell_type": "code",
   "execution_count": 72,
   "id": "bb5227a1",
   "metadata": {},
   "outputs": [
    {
     "data": {
      "text/html": [
       "<div>\n",
       "<style scoped>\n",
       "    .dataframe tbody tr th:only-of-type {\n",
       "        vertical-align: middle;\n",
       "    }\n",
       "\n",
       "    .dataframe tbody tr th {\n",
       "        vertical-align: top;\n",
       "    }\n",
       "\n",
       "    .dataframe thead th {\n",
       "        text-align: right;\n",
       "    }\n",
       "</style>\n",
       "<table border=\"1\" class=\"dataframe\">\n",
       "  <thead>\n",
       "    <tr style=\"text-align: right;\">\n",
       "      <th></th>\n",
       "      <th>id</th>\n",
       "      <th>movie</th>\n",
       "      <th>production_budget</th>\n",
       "      <th>domestic_gross</th>\n",
       "      <th>worldwide_gross</th>\n",
       "    </tr>\n",
       "  </thead>\n",
       "  <tbody>\n",
       "    <tr>\n",
       "      <th>0</th>\n",
       "      <td>1</td>\n",
       "      <td>Avatar</td>\n",
       "      <td>$425,000,000</td>\n",
       "      <td>$760,507,625</td>\n",
       "      <td>$2,776,345,279</td>\n",
       "    </tr>\n",
       "    <tr>\n",
       "      <th>1</th>\n",
       "      <td>2</td>\n",
       "      <td>Pirates of the Caribbean: On Stranger Tides</td>\n",
       "      <td>$410,600,000</td>\n",
       "      <td>$241,063,875</td>\n",
       "      <td>$1,045,663,875</td>\n",
       "    </tr>\n",
       "    <tr>\n",
       "      <th>2</th>\n",
       "      <td>3</td>\n",
       "      <td>Dark Phoenix</td>\n",
       "      <td>$350,000,000</td>\n",
       "      <td>$42,762,350</td>\n",
       "      <td>$149,762,350</td>\n",
       "    </tr>\n",
       "    <tr>\n",
       "      <th>3</th>\n",
       "      <td>4</td>\n",
       "      <td>Avengers: Age of Ultron</td>\n",
       "      <td>$330,600,000</td>\n",
       "      <td>$459,005,868</td>\n",
       "      <td>$1,403,013,963</td>\n",
       "    </tr>\n",
       "    <tr>\n",
       "      <th>4</th>\n",
       "      <td>5</td>\n",
       "      <td>Star Wars Ep. VIII: The Last Jedi</td>\n",
       "      <td>$317,000,000</td>\n",
       "      <td>$620,181,382</td>\n",
       "      <td>$1,316,721,747</td>\n",
       "    </tr>\n",
       "    <tr>\n",
       "      <th>...</th>\n",
       "      <td>...</td>\n",
       "      <td>...</td>\n",
       "      <td>...</td>\n",
       "      <td>...</td>\n",
       "      <td>...</td>\n",
       "    </tr>\n",
       "    <tr>\n",
       "      <th>5777</th>\n",
       "      <td>78</td>\n",
       "      <td>Red 11</td>\n",
       "      <td>$7,000</td>\n",
       "      <td>$0</td>\n",
       "      <td>$0</td>\n",
       "    </tr>\n",
       "    <tr>\n",
       "      <th>5778</th>\n",
       "      <td>79</td>\n",
       "      <td>Following</td>\n",
       "      <td>$6,000</td>\n",
       "      <td>$48,482</td>\n",
       "      <td>$240,495</td>\n",
       "    </tr>\n",
       "    <tr>\n",
       "      <th>5779</th>\n",
       "      <td>80</td>\n",
       "      <td>Return to the Land of Wonders</td>\n",
       "      <td>$5,000</td>\n",
       "      <td>$1,338</td>\n",
       "      <td>$1,338</td>\n",
       "    </tr>\n",
       "    <tr>\n",
       "      <th>5780</th>\n",
       "      <td>81</td>\n",
       "      <td>A Plague So Pleasant</td>\n",
       "      <td>$1,400</td>\n",
       "      <td>$0</td>\n",
       "      <td>$0</td>\n",
       "    </tr>\n",
       "    <tr>\n",
       "      <th>5781</th>\n",
       "      <td>82</td>\n",
       "      <td>My Date With Drew</td>\n",
       "      <td>$1,100</td>\n",
       "      <td>$181,041</td>\n",
       "      <td>$181,041</td>\n",
       "    </tr>\n",
       "  </tbody>\n",
       "</table>\n",
       "<p>5782 rows × 5 columns</p>\n",
       "</div>"
      ],
      "text/plain": [
       "      id                                        movie production_budget  \\\n",
       "0      1                                       Avatar      $425,000,000   \n",
       "1      2  Pirates of the Caribbean: On Stranger Tides      $410,600,000   \n",
       "2      3                                 Dark Phoenix      $350,000,000   \n",
       "3      4                      Avengers: Age of Ultron      $330,600,000   \n",
       "4      5            Star Wars Ep. VIII: The Last Jedi      $317,000,000   \n",
       "...   ..                                          ...               ...   \n",
       "5777  78                                       Red 11            $7,000   \n",
       "5778  79                                    Following            $6,000   \n",
       "5779  80                Return to the Land of Wonders            $5,000   \n",
       "5780  81                         A Plague So Pleasant            $1,400   \n",
       "5781  82                            My Date With Drew            $1,100   \n",
       "\n",
       "     domestic_gross worldwide_gross  \n",
       "0      $760,507,625  $2,776,345,279  \n",
       "1      $241,063,875  $1,045,663,875  \n",
       "2       $42,762,350    $149,762,350  \n",
       "3      $459,005,868  $1,403,013,963  \n",
       "4      $620,181,382  $1,316,721,747  \n",
       "...             ...             ...  \n",
       "5777             $0              $0  \n",
       "5778        $48,482        $240,495  \n",
       "5779         $1,338          $1,338  \n",
       "5780             $0              $0  \n",
       "5781       $181,041        $181,041  \n",
       "\n",
       "[5782 rows x 5 columns]"
      ]
     },
     "execution_count": 72,
     "metadata": {},
     "output_type": "execute_result"
    }
   ],
   "source": [
    "# Dropping the release_date column\n",
    "tn_df= tn_df.drop('release_date', axis=1)\n",
    "tn_df"
   ]
  },
  {
   "cell_type": "markdown",
   "id": "2d829eab",
   "metadata": {},
   "source": [
    "**Cleaning the production_budget, domestic_gross and worldwide_gross columns**"
   ]
  },
  {
   "cell_type": "code",
   "execution_count": null,
   "id": "079df781",
   "metadata": {},
   "outputs": [
    {
     "data": {
      "text/plain": [
       "id                    int64\n",
       "movie                object\n",
       "production_budget    object\n",
       "domestic_gross       object\n",
       "worldwide_gross      object\n",
       "dtype: object"
      ]
     },
     "execution_count": 34,
     "metadata": {},
     "output_type": "execute_result"
    }
   ],
   "source": [
    "# Checking the datatypes\n",
    "tn_df.dtypes"
   ]
  },
  {
   "cell_type": "markdown",
   "id": "09d838f0",
   "metadata": {},
   "source": [
    "Our columns represent financial information so its important for us to work with them in integer or float form so that we are able to perform mathematical operations on them. Since the three columns have object data types, we will convert them into integers."
   ]
  },
  {
   "cell_type": "code",
   "execution_count": null,
   "id": "d445f38a",
   "metadata": {},
   "outputs": [
    {
     "data": {
      "text/html": [
       "<div>\n",
       "<style scoped>\n",
       "    .dataframe tbody tr th:only-of-type {\n",
       "        vertical-align: middle;\n",
       "    }\n",
       "\n",
       "    .dataframe tbody tr th {\n",
       "        vertical-align: top;\n",
       "    }\n",
       "\n",
       "    .dataframe thead th {\n",
       "        text-align: right;\n",
       "    }\n",
       "</style>\n",
       "<table border=\"1\" class=\"dataframe\">\n",
       "  <thead>\n",
       "    <tr style=\"text-align: right;\">\n",
       "      <th></th>\n",
       "      <th>id</th>\n",
       "      <th>movie</th>\n",
       "      <th>production_budget</th>\n",
       "      <th>domestic_gross</th>\n",
       "      <th>worldwide_gross</th>\n",
       "    </tr>\n",
       "  </thead>\n",
       "  <tbody>\n",
       "    <tr>\n",
       "      <th>0</th>\n",
       "      <td>1</td>\n",
       "      <td>Avatar</td>\n",
       "      <td>425000000</td>\n",
       "      <td>760507625</td>\n",
       "      <td>2776345279</td>\n",
       "    </tr>\n",
       "    <tr>\n",
       "      <th>1</th>\n",
       "      <td>2</td>\n",
       "      <td>Pirates of the Caribbean: On Stranger Tides</td>\n",
       "      <td>410600000</td>\n",
       "      <td>241063875</td>\n",
       "      <td>1045663875</td>\n",
       "    </tr>\n",
       "    <tr>\n",
       "      <th>2</th>\n",
       "      <td>3</td>\n",
       "      <td>Dark Phoenix</td>\n",
       "      <td>350000000</td>\n",
       "      <td>42762350</td>\n",
       "      <td>149762350</td>\n",
       "    </tr>\n",
       "    <tr>\n",
       "      <th>3</th>\n",
       "      <td>4</td>\n",
       "      <td>Avengers: Age of Ultron</td>\n",
       "      <td>330600000</td>\n",
       "      <td>459005868</td>\n",
       "      <td>1403013963</td>\n",
       "    </tr>\n",
       "    <tr>\n",
       "      <th>4</th>\n",
       "      <td>5</td>\n",
       "      <td>Star Wars Ep. VIII: The Last Jedi</td>\n",
       "      <td>317000000</td>\n",
       "      <td>620181382</td>\n",
       "      <td>1316721747</td>\n",
       "    </tr>\n",
       "  </tbody>\n",
       "</table>\n",
       "</div>"
      ],
      "text/plain": [
       "   id                                        movie  production_budget  \\\n",
       "0   1                                       Avatar          425000000   \n",
       "1   2  Pirates of the Caribbean: On Stranger Tides          410600000   \n",
       "2   3                                 Dark Phoenix          350000000   \n",
       "3   4                      Avengers: Age of Ultron          330600000   \n",
       "4   5            Star Wars Ep. VIII: The Last Jedi          317000000   \n",
       "\n",
       "   domestic_gross  worldwide_gross  \n",
       "0       760507625       2776345279  \n",
       "1       241063875       1045663875  \n",
       "2        42762350        149762350  \n",
       "3       459005868       1403013963  \n",
       "4       620181382       1316721747  "
      ]
     },
     "execution_count": 80,
     "metadata": {},
     "output_type": "execute_result"
    }
   ],
   "source": [
    "# Removing the dollar signs and commas from the columns\n",
    "tn_df['worldwide_gross']= tn_df['worldwide_gross'].replace('[\\$,]', '', regex= True)\n",
    "tn_df['production_budget']= tn_df['production_budget'].replace('[\\$,]', '', regex= True)\n",
    "tn_df['domestic_gross']= tn_df['domestic_gross'].replace('[\\$,]', '', regex= True)\n",
    "\n",
    "# Converting the columns into integers\n",
    "tn_df['worldwide_gross']= tn_df['worldwide_gross'].astype('int64')\n",
    "tn_df['production_budget']= tn_df['production_budget'].astype('int64')\n",
    "tn_df['domestic_gross']= tn_df['domestic_gross'].astype('int64')\n",
    "\n",
    "# Previewing the first five results\n",
    "tn_df.head()\n"
   ]
  },
  {
   "cell_type": "code",
   "execution_count": null,
   "id": "d7580c0a",
   "metadata": {},
   "outputs": [
    {
     "data": {
      "text/plain": [
       "367"
      ]
     },
     "execution_count": 36,
     "metadata": {},
     "output_type": "execute_result"
    }
   ],
   "source": [
    "# Checking to see if there are any 0 values in our worldwide_gross column\n",
    "(tn_df['worldwide_gross'] == 0).sum()"
   ]
  },
  {
   "cell_type": "markdown",
   "id": "82863f8c",
   "metadata": {},
   "source": [
    "We have 367 zero values in our column, we will drop these records and retain the rest."
   ]
  },
  {
   "cell_type": "code",
   "execution_count": null,
   "id": "eb401494",
   "metadata": {},
   "outputs": [],
   "source": [
    "# Retaining the rows where the values in the worldwide_gross is greater than zero\n",
    "tn_df = tn_df[tn_df['worldwide_gross'] > 0]\n",
    "\n",
    "# Checking that the zero values have been dropped\n",
    "assert (tn_df['worldwide_gross']== 0).sum() == 0"
   ]
  },
  {
   "cell_type": "markdown",
   "id": "2c1065ef",
   "metadata": {},
   "source": [
    "**Checking for outliers in the production_budget column**"
   ]
  },
  {
   "cell_type": "code",
   "execution_count": null,
   "id": "198df36a",
   "metadata": {},
   "outputs": [
    {
     "data": {
      "image/png": "[encoded data removed]",
      "text/plain": [
       "<Figure size 432x288 with 1 Axes>"
      ]
     },
     "metadata": {
      "needs_background": "light"
     },
     "output_type": "display_data"
    }
   ],
   "source": [
    "import seaborn as sns\n",
    "sns.histplot(tn_df['production_budget'], bins=50);\n"
   ]
  },
  {
   "cell_type": "markdown",
   "id": "000c1386",
   "metadata": {},
   "source": [
    "The  **production budget** is **left-skewed**, which means:\n",
    "- There are **fewer films with very low budgets**, which pull the **tail to the left**.\n",
    "  \n",
    "- Most films in the  dataset had **large budgets**.\n",
    "- Only a few had **unusually small budgets**, making them the outliers on the lower end."
   ]
  },
  {
   "cell_type": "code",
   "execution_count": null,
   "id": "ead51558",
   "metadata": {},
   "outputs": [],
   "source": [
    "# Calculate Q1 (25th percentile) and Q3 (75th percentile)\n",
    "Q1 = tn_df['production_budget'].quantile(0.25)\n",
    "Q3 = tn_df['production_budget'].quantile(0.75)\n",
    "\n",
    "# Calculate IQR\n",
    "IQR = Q3 - Q1\n",
    "\n",
    "# Define lower and upper bounds for outliers\n",
    "lower_bound = Q1 - 1.5 * IQR\n",
    "upper_bound = Q3 + 1.5 * IQR\n",
    "\n",
    "# Find outliers\n",
    "outliers = tn_df[(tn_df['production_budget'] < lower_bound) | (tn_df['production_budget'] > upper_bound)]\n",
    "\n",
    "print(f\"Number of outliers: {len(outliers)}\")\n",
    "print(outliers[['production_budget']])"
   ]
  },
  {
   "cell_type": "markdown",
   "id": "2dacf0c7",
   "metadata": {},
   "source": [
    "We keep the outliers since these are true values. "
   ]
  },
  {
   "cell_type": "markdown",
   "id": "a724d0f1",
   "metadata": {},
   "source": [
    "**Checking for outliers in the worldwide_gross column**"
   ]
  },
  {
   "cell_type": "code",
   "execution_count": null,
   "id": "5348fdee",
   "metadata": {},
   "outputs": [
    {
     "data": {
      "image/png": "[encoded data removed]",
      "text/plain": [
       "<Figure size 432x288 with 1 Axes>"
      ]
     },
     "metadata": {
      "needs_background": "light"
     },
     "output_type": "display_data"
    }
   ],
   "source": [
    "sns.histplot(tn_df['worldwide_gross'], bins=50);"
   ]
  },
  {
   "cell_type": "markdown",
   "id": "15b07059",
   "metadata": {},
   "source": [
    "The tail is longer to the left.Most films in the dataset likely had high gross earnings, while a few had very low earnings that pull the distribution left."
   ]
  },
  {
   "cell_type": "code",
   "execution_count": null,
   "id": "f5c10da4",
   "metadata": {},
   "outputs": [
    {
     "name": "stdout",
     "output_type": "stream",
     "text": [
      "Number of outliers: 564\n",
      "      worldwide_gross\n",
      "0          2776345279\n",
      "1          1045663875\n",
      "3          1403013963\n",
      "4          1316721747\n",
      "5          2053311220\n",
      "...               ...\n",
      "4249        278964806\n",
      "4567        390525192\n",
      "4589        261249383\n",
      "4775        263591415\n",
      "5346        268000000\n",
      "\n",
      "[564 rows x 1 columns]\n"
     ]
    }
   ],
   "source": [
    "# Calculate Q1 (25th percentile) and Q3 (75th percentile)\n",
    "Q1 = tn_df['worldwide_gross'].quantile(0.25)\n",
    "Q3 = tn_df['worldwide_gross'].quantile(0.75)\n",
    "\n",
    "# Calculate IQR\n",
    "IQR = Q3 - Q1\n",
    "\n",
    "# Define lower and upper bounds for outliers\n",
    "lower_bound = Q1 - 1.5 * IQR\n",
    "upper_bound = Q3 + 1.5 * IQR\n",
    "\n",
    "# Find outliers\n",
    "outliers = tn_df[(tn_df['worldwide_gross'] < lower_bound) | (tn_df['worldwide_gross'] > upper_bound)]\n",
    "\n",
    "print(f\"Number of outliers: {len(outliers)}\")\n",
    "print(outliers[['worldwide_gross']])"
   ]
  },
  {
   "cell_type": "markdown",
   "id": "2edd35c4",
   "metadata": {},
   "source": [
    "We also keep the outliers in the worldwide_gross column."
   ]
  },
  {
   "cell_type": "markdown",
   "id": "f37cb335",
   "metadata": {},
   "source": [
    "Now we will create a profit column that will allow us to see the profitability of each movie.\n",
    "\n"
   ]
  },
  {
   "cell_type": "code",
   "execution_count": null,
   "id": "30b56049",
   "metadata": {},
   "outputs": [
    {
     "data": {
      "text/html": [
       "<div>\n",
       "<style scoped>\n",
       "    .dataframe tbody tr th:only-of-type {\n",
       "        vertical-align: middle;\n",
       "    }\n",
       "\n",
       "    .dataframe tbody tr th {\n",
       "        vertical-align: top;\n",
       "    }\n",
       "\n",
       "    .dataframe thead th {\n",
       "        text-align: right;\n",
       "    }\n",
       "</style>\n",
       "<table border=\"1\" class=\"dataframe\">\n",
       "  <thead>\n",
       "    <tr style=\"text-align: right;\">\n",
       "      <th></th>\n",
       "      <th>id</th>\n",
       "      <th>movie</th>\n",
       "      <th>production_budget</th>\n",
       "      <th>domestic_gross</th>\n",
       "      <th>worldwide_gross</th>\n",
       "      <th>profit</th>\n",
       "    </tr>\n",
       "  </thead>\n",
       "  <tbody>\n",
       "    <tr>\n",
       "      <th>0</th>\n",
       "      <td>1</td>\n",
       "      <td>Avatar</td>\n",
       "      <td>425000000</td>\n",
       "      <td>760507625</td>\n",
       "      <td>2776345279</td>\n",
       "      <td>2351345279</td>\n",
       "    </tr>\n",
       "    <tr>\n",
       "      <th>1</th>\n",
       "      <td>2</td>\n",
       "      <td>Pirates of the Caribbean: On Stranger Tides</td>\n",
       "      <td>410600000</td>\n",
       "      <td>241063875</td>\n",
       "      <td>1045663875</td>\n",
       "      <td>635063875</td>\n",
       "    </tr>\n",
       "    <tr>\n",
       "      <th>2</th>\n",
       "      <td>3</td>\n",
       "      <td>Dark Phoenix</td>\n",
       "      <td>350000000</td>\n",
       "      <td>42762350</td>\n",
       "      <td>149762350</td>\n",
       "      <td>-200237650</td>\n",
       "    </tr>\n",
       "    <tr>\n",
       "      <th>3</th>\n",
       "      <td>4</td>\n",
       "      <td>Avengers: Age of Ultron</td>\n",
       "      <td>330600000</td>\n",
       "      <td>459005868</td>\n",
       "      <td>1403013963</td>\n",
       "      <td>1072413963</td>\n",
       "    </tr>\n",
       "    <tr>\n",
       "      <th>4</th>\n",
       "      <td>5</td>\n",
       "      <td>Star Wars Ep. VIII: The Last Jedi</td>\n",
       "      <td>317000000</td>\n",
       "      <td>620181382</td>\n",
       "      <td>1316721747</td>\n",
       "      <td>999721747</td>\n",
       "    </tr>\n",
       "  </tbody>\n",
       "</table>\n",
       "</div>"
      ],
      "text/plain": [
       "   id                                        movie  production_budget  \\\n",
       "0   1                                       Avatar          425000000   \n",
       "1   2  Pirates of the Caribbean: On Stranger Tides          410600000   \n",
       "2   3                                 Dark Phoenix          350000000   \n",
       "3   4                      Avengers: Age of Ultron          330600000   \n",
       "4   5            Star Wars Ep. VIII: The Last Jedi          317000000   \n",
       "\n",
       "   domestic_gross  worldwide_gross      profit  \n",
       "0       760507625       2776345279  2351345279  \n",
       "1       241063875       1045663875   635063875  \n",
       "2        42762350        149762350  -200237650  \n",
       "3       459005868       1403013963  1072413963  \n",
       "4       620181382       1316721747   999721747  "
      ]
     },
     "execution_count": 81,
     "metadata": {},
     "output_type": "execute_result"
    }
   ],
   "source": [
    "# Subtracting the production_budget from the worldwide_gross to calculate profit\n",
    "tn_df['profit'] = tn_df['worldwide_gross'] - tn_df['production_budget']\n",
    "\n",
    "# Previewing the first five rows\n",
    "tn_df.head()\n"
   ]
  },
  {
   "cell_type": "markdown",
   "id": "05cac35e",
   "metadata": {},
   "source": [
    "**2.im.db**"
   ]
  },
  {
   "cell_type": "code",
   "execution_count": 81,
   "id": "df70a48b",
   "metadata": {},
   "outputs": [
    {
     "name": "stdout",
     "output_type": "stream",
     "text": [
      "Tables in the database:\n",
      "            name\n",
      "0   movie_basics\n",
      "1      directors\n",
      "2      known_for\n",
      "3     movie_akas\n",
      "4  movie_ratings\n",
      "5        persons\n",
      "6     principals\n",
      "7        writers\n"
     ]
    }
   ],
   "source": [
    "import zipfile\n",
    "\n",
    "# Extract the database file from the ZIP archive\n",
    "with zipfile.ZipFile('zippedData\\im.db.zip', 'r') as zip_ref:\n",
    "    zip_ref.extractall('zippedData')\n",
    "\n",
    "# Connect to the extracted SQLite database\n",
    "conn = sqlite3.connect('zippedData/im.db')\n",
    "\n",
    "query = \"SELECT name FROM sqlite_master WHERE type='table';\"\n",
    "\n",
    "tables = pd.read_sql_query(query, conn)\n",
    "\n",
    "print(\"Tables in the database:\")\n",
    "print(tables)"
   ]
  },
  {
   "cell_type": "code",
   "execution_count": 87,
   "id": "2ff3aeb4",
   "metadata": {},
   "outputs": [
    {
     "data": {
      "text/html": [
       "<div>\n",
       "<style scoped>\n",
       "    .dataframe tbody tr th:only-of-type {\n",
       "        vertical-align: middle;\n",
       "    }\n",
       "\n",
       "    .dataframe tbody tr th {\n",
       "        vertical-align: top;\n",
       "    }\n",
       "\n",
       "    .dataframe thead th {\n",
       "        text-align: right;\n",
       "    }\n",
       "</style>\n",
       "<table border=\"1\" class=\"dataframe\">\n",
       "  <thead>\n",
       "    <tr style=\"text-align: right;\">\n",
       "      <th></th>\n",
       "      <th>person_id</th>\n",
       "      <th>primary_name</th>\n",
       "      <th>birth_year</th>\n",
       "      <th>death_year</th>\n",
       "      <th>primary_profession</th>\n",
       "      <th>movie_id</th>\n",
       "      <th>primary_title</th>\n",
       "      <th>original_title</th>\n",
       "      <th>start_year</th>\n",
       "      <th>runtime_minutes</th>\n",
       "      <th>genres</th>\n",
       "      <th>averagerating</th>\n",
       "      <th>numvotes</th>\n",
       "    </tr>\n",
       "  </thead>\n",
       "  <tbody>\n",
       "    <tr>\n",
       "      <th>0</th>\n",
       "      <td>nm0062879</td>\n",
       "      <td>Ruel S. Bayani</td>\n",
       "      <td>NaN</td>\n",
       "      <td>NaN</td>\n",
       "      <td>director,production_manager,miscellaneous</td>\n",
       "      <td>tt1592569</td>\n",
       "      <td>Paano na kaya</td>\n",
       "      <td>Paano na kaya</td>\n",
       "      <td>2010</td>\n",
       "      <td>110.0</td>\n",
       "      <td>Drama,Romance</td>\n",
       "      <td>6.4</td>\n",
       "      <td>77</td>\n",
       "    </tr>\n",
       "    <tr>\n",
       "      <th>1</th>\n",
       "      <td>nm0062879</td>\n",
       "      <td>Ruel S. Bayani</td>\n",
       "      <td>NaN</td>\n",
       "      <td>NaN</td>\n",
       "      <td>director,production_manager,miscellaneous</td>\n",
       "      <td>tt1592569</td>\n",
       "      <td>Paano na kaya</td>\n",
       "      <td>Paano na kaya</td>\n",
       "      <td>2010</td>\n",
       "      <td>110.0</td>\n",
       "      <td>Drama,Romance</td>\n",
       "      <td>6.4</td>\n",
       "      <td>77</td>\n",
       "    </tr>\n",
       "    <tr>\n",
       "      <th>2</th>\n",
       "      <td>nm0062879</td>\n",
       "      <td>Ruel S. Bayani</td>\n",
       "      <td>NaN</td>\n",
       "      <td>NaN</td>\n",
       "      <td>director,production_manager,miscellaneous</td>\n",
       "      <td>tt1592569</td>\n",
       "      <td>Paano na kaya</td>\n",
       "      <td>Paano na kaya</td>\n",
       "      <td>2010</td>\n",
       "      <td>110.0</td>\n",
       "      <td>Drama,Romance</td>\n",
       "      <td>6.4</td>\n",
       "      <td>77</td>\n",
       "    </tr>\n",
       "    <tr>\n",
       "      <th>3</th>\n",
       "      <td>nm0062879</td>\n",
       "      <td>Ruel S. Bayani</td>\n",
       "      <td>NaN</td>\n",
       "      <td>NaN</td>\n",
       "      <td>director,production_manager,miscellaneous</td>\n",
       "      <td>tt1592569</td>\n",
       "      <td>Paano na kaya</td>\n",
       "      <td>Paano na kaya</td>\n",
       "      <td>2010</td>\n",
       "      <td>110.0</td>\n",
       "      <td>Drama,Romance</td>\n",
       "      <td>6.4</td>\n",
       "      <td>77</td>\n",
       "    </tr>\n",
       "    <tr>\n",
       "      <th>4</th>\n",
       "      <td>nm0062879</td>\n",
       "      <td>Ruel S. Bayani</td>\n",
       "      <td>NaN</td>\n",
       "      <td>NaN</td>\n",
       "      <td>director,production_manager,miscellaneous</td>\n",
       "      <td>tt2057445</td>\n",
       "      <td>No Other Woman</td>\n",
       "      <td>No Other Woman</td>\n",
       "      <td>2011</td>\n",
       "      <td>101.0</td>\n",
       "      <td>Drama,Romance,Thriller</td>\n",
       "      <td>6.4</td>\n",
       "      <td>256</td>\n",
       "    </tr>\n",
       "  </tbody>\n",
       "</table>\n",
       "</div>"
      ],
      "text/plain": [
       "   person_id    primary_name  birth_year  death_year  \\\n",
       "0  nm0062879  Ruel S. Bayani         NaN         NaN   \n",
       "1  nm0062879  Ruel S. Bayani         NaN         NaN   \n",
       "2  nm0062879  Ruel S. Bayani         NaN         NaN   \n",
       "3  nm0062879  Ruel S. Bayani         NaN         NaN   \n",
       "4  nm0062879  Ruel S. Bayani         NaN         NaN   \n",
       "\n",
       "                          primary_profession   movie_id   primary_title  \\\n",
       "0  director,production_manager,miscellaneous  tt1592569   Paano na kaya   \n",
       "1  director,production_manager,miscellaneous  tt1592569   Paano na kaya   \n",
       "2  director,production_manager,miscellaneous  tt1592569   Paano na kaya   \n",
       "3  director,production_manager,miscellaneous  tt1592569   Paano na kaya   \n",
       "4  director,production_manager,miscellaneous  tt2057445  No Other Woman   \n",
       "\n",
       "   original_title  start_year  runtime_minutes                  genres  \\\n",
       "0   Paano na kaya        2010            110.0           Drama,Romance   \n",
       "1   Paano na kaya        2010            110.0           Drama,Romance   \n",
       "2   Paano na kaya        2010            110.0           Drama,Romance   \n",
       "3   Paano na kaya        2010            110.0           Drama,Romance   \n",
       "4  No Other Woman        2011            101.0  Drama,Romance,Thriller   \n",
       "\n",
       "   averagerating  numvotes  \n",
       "0            6.4        77  \n",
       "1            6.4        77  \n",
       "2            6.4        77  \n",
       "3            6.4        77  \n",
       "4            6.4       256  "
      ]
     },
     "execution_count": 87,
     "metadata": {},
     "output_type": "execute_result"
    }
   ],
   "source": [
    "query = \"\"\"\n",
    "    SELECT *\n",
    "    FROM (\n",
    "        SELECT *\n",
    "        FROM persons\n",
    "        JOIN directors USING (person_id)\n",
    "        JOIN movie_basics USING (movie_id)\n",
    "        JOIN movie_ratings USING (movie_id)\n",
    "    ) AS subquery;\n",
    "\"\"\"\n",
    "imdb_df = pd.read_sql(query, conn)\n",
    "imdb_df.head()"
   ]
  },
  {
   "cell_type": "code",
   "execution_count": 88,
   "id": "8fafe006",
   "metadata": {},
   "outputs": [
    {
     "data": {
      "text/html": [
       "<div>\n",
       "<style scoped>\n",
       "    .dataframe tbody tr th:only-of-type {\n",
       "        vertical-align: middle;\n",
       "    }\n",
       "\n",
       "    .dataframe tbody tr th {\n",
       "        vertical-align: top;\n",
       "    }\n",
       "\n",
       "    .dataframe thead th {\n",
       "        text-align: right;\n",
       "    }\n",
       "</style>\n",
       "<table border=\"1\" class=\"dataframe\">\n",
       "  <thead>\n",
       "    <tr style=\"text-align: right;\">\n",
       "      <th></th>\n",
       "      <th>person_id</th>\n",
       "      <th>primary_name</th>\n",
       "      <th>movie_id</th>\n",
       "      <th>runtime_minutes</th>\n",
       "      <th>genres</th>\n",
       "      <th>averagerating</th>\n",
       "    </tr>\n",
       "  </thead>\n",
       "  <tbody>\n",
       "    <tr>\n",
       "      <th>0</th>\n",
       "      <td>nm0062879</td>\n",
       "      <td>Ruel S. Bayani</td>\n",
       "      <td>tt1592569</td>\n",
       "      <td>110.0</td>\n",
       "      <td>Drama,Romance</td>\n",
       "      <td>6.4</td>\n",
       "    </tr>\n",
       "    <tr>\n",
       "      <th>1</th>\n",
       "      <td>nm0062879</td>\n",
       "      <td>Ruel S. Bayani</td>\n",
       "      <td>tt1592569</td>\n",
       "      <td>110.0</td>\n",
       "      <td>Drama,Romance</td>\n",
       "      <td>6.4</td>\n",
       "    </tr>\n",
       "    <tr>\n",
       "      <th>2</th>\n",
       "      <td>nm0062879</td>\n",
       "      <td>Ruel S. Bayani</td>\n",
       "      <td>tt1592569</td>\n",
       "      <td>110.0</td>\n",
       "      <td>Drama,Romance</td>\n",
       "      <td>6.4</td>\n",
       "    </tr>\n",
       "    <tr>\n",
       "      <th>3</th>\n",
       "      <td>nm0062879</td>\n",
       "      <td>Ruel S. Bayani</td>\n",
       "      <td>tt1592569</td>\n",
       "      <td>110.0</td>\n",
       "      <td>Drama,Romance</td>\n",
       "      <td>6.4</td>\n",
       "    </tr>\n",
       "    <tr>\n",
       "      <th>4</th>\n",
       "      <td>nm0062879</td>\n",
       "      <td>Ruel S. Bayani</td>\n",
       "      <td>tt2057445</td>\n",
       "      <td>101.0</td>\n",
       "      <td>Drama,Romance,Thriller</td>\n",
       "      <td>6.4</td>\n",
       "    </tr>\n",
       "  </tbody>\n",
       "</table>\n",
       "</div>"
      ],
      "text/plain": [
       "   person_id    primary_name   movie_id  runtime_minutes  \\\n",
       "0  nm0062879  Ruel S. Bayani  tt1592569            110.0   \n",
       "1  nm0062879  Ruel S. Bayani  tt1592569            110.0   \n",
       "2  nm0062879  Ruel S. Bayani  tt1592569            110.0   \n",
       "3  nm0062879  Ruel S. Bayani  tt1592569            110.0   \n",
       "4  nm0062879  Ruel S. Bayani  tt2057445            101.0   \n",
       "\n",
       "                   genres  averagerating  \n",
       "0           Drama,Romance            6.4  \n",
       "1           Drama,Romance            6.4  \n",
       "2           Drama,Romance            6.4  \n",
       "3           Drama,Romance            6.4  \n",
       "4  Drama,Romance,Thriller            6.4  "
      ]
     },
     "execution_count": 88,
     "metadata": {},
     "output_type": "execute_result"
    }
   ],
   "source": [
    "imdb_df = imdb_df.drop(['birth_year', 'death_year', 'primary_profession', 'start_year', 'numvotes', 'primary_title', 'original_title'], axis=1)\n",
    "imdb_df.head()"
   ]
  },
  {
   "cell_type": "code",
   "execution_count": 89,
   "id": "5c83d6a0",
   "metadata": {},
   "outputs": [
    {
     "name": "stdout",
     "output_type": "stream",
     "text": [
      "<class 'pandas.core.frame.DataFrame'>\n",
      "RangeIndex: 181387 entries, 0 to 181386\n",
      "Data columns (total 6 columns):\n",
      " #   Column           Non-Null Count   Dtype  \n",
      "---  ------           --------------   -----  \n",
      " 0   person_id        181387 non-null  object \n",
      " 1   primary_name     181387 non-null  object \n",
      " 2   movie_id         181387 non-null  object \n",
      " 3   runtime_minutes  163584 non-null  float64\n",
      " 4   genres           180047 non-null  object \n",
      " 5   averagerating    181387 non-null  float64\n",
      "dtypes: float64(2), object(4)\n",
      "memory usage: 8.3+ MB\n"
     ]
    }
   ],
   "source": [
    "imdb_df.info()"
   ]
  },
  {
   "cell_type": "code",
   "execution_count": 90,
   "id": "76f6a244",
   "metadata": {},
   "outputs": [
    {
     "data": {
      "text/html": [
       "<div>\n",
       "<style scoped>\n",
       "    .dataframe tbody tr th:only-of-type {\n",
       "        vertical-align: middle;\n",
       "    }\n",
       "\n",
       "    .dataframe tbody tr th {\n",
       "        vertical-align: top;\n",
       "    }\n",
       "\n",
       "    .dataframe thead th {\n",
       "        text-align: right;\n",
       "    }\n",
       "</style>\n",
       "<table border=\"1\" class=\"dataframe\">\n",
       "  <thead>\n",
       "    <tr style=\"text-align: right;\">\n",
       "      <th></th>\n",
       "      <th>runtime_minutes</th>\n",
       "      <th>averagerating</th>\n",
       "    </tr>\n",
       "  </thead>\n",
       "  <tbody>\n",
       "    <tr>\n",
       "      <th>count</th>\n",
       "      <td>163584.000000</td>\n",
       "      <td>181387.000000</td>\n",
       "    </tr>\n",
       "    <tr>\n",
       "      <th>mean</th>\n",
       "      <td>97.789484</td>\n",
       "      <td>6.217683</td>\n",
       "    </tr>\n",
       "    <tr>\n",
       "      <th>std</th>\n",
       "      <td>194.434689</td>\n",
       "      <td>1.388026</td>\n",
       "    </tr>\n",
       "    <tr>\n",
       "      <th>min</th>\n",
       "      <td>3.000000</td>\n",
       "      <td>1.000000</td>\n",
       "    </tr>\n",
       "    <tr>\n",
       "      <th>25%</th>\n",
       "      <td>84.000000</td>\n",
       "      <td>5.400000</td>\n",
       "    </tr>\n",
       "    <tr>\n",
       "      <th>50%</th>\n",
       "      <td>94.000000</td>\n",
       "      <td>6.300000</td>\n",
       "    </tr>\n",
       "    <tr>\n",
       "      <th>75%</th>\n",
       "      <td>107.000000</td>\n",
       "      <td>7.200000</td>\n",
       "    </tr>\n",
       "    <tr>\n",
       "      <th>max</th>\n",
       "      <td>51420.000000</td>\n",
       "      <td>10.000000</td>\n",
       "    </tr>\n",
       "  </tbody>\n",
       "</table>\n",
       "</div>"
      ],
      "text/plain": [
       "       runtime_minutes  averagerating\n",
       "count    163584.000000  181387.000000\n",
       "mean         97.789484       6.217683\n",
       "std         194.434689       1.388026\n",
       "min           3.000000       1.000000\n",
       "25%          84.000000       5.400000\n",
       "50%          94.000000       6.300000\n",
       "75%         107.000000       7.200000\n",
       "max       51420.000000      10.000000"
      ]
     },
     "execution_count": 90,
     "metadata": {},
     "output_type": "execute_result"
    }
   ],
   "source": [
    "imdb_df.describe()"
   ]
  },
  {
   "cell_type": "code",
   "execution_count": 91,
   "id": "566dab1b",
   "metadata": {},
   "outputs": [
    {
     "data": {
      "text/plain": [
       "(181387, 6)"
      ]
     },
     "execution_count": 91,
     "metadata": {},
     "output_type": "execute_result"
    }
   ],
   "source": [
    "imdb_df.shape"
   ]
  },
  {
   "cell_type": "code",
   "execution_count": 92,
   "id": "38a24e6a",
   "metadata": {},
   "outputs": [
    {
     "data": {
      "text/plain": [
       "person_id              0\n",
       "primary_name           0\n",
       "movie_id               0\n",
       "runtime_minutes    17803\n",
       "genres              1340\n",
       "averagerating          0\n",
       "dtype: int64"
      ]
     },
     "execution_count": 92,
     "metadata": {},
     "output_type": "execute_result"
    }
   ],
   "source": [
    "imdb_df.isnull().sum()"
   ]
  },
  {
   "cell_type": "code",
   "execution_count": 93,
   "id": "f51a7531",
   "metadata": {},
   "outputs": [],
   "source": [
    "imdb_df.dropna(subset=['runtime_minutes', 'genres'], inplace= True)\n"
   ]
  },
  {
   "cell_type": "code",
   "execution_count": 94,
   "id": "6cb558da",
   "metadata": {},
   "outputs": [],
   "source": [
    "imdb_df['runtime_minutes']= imdb_df['runtime_minutes'].astype('int64')"
   ]
  },
  {
   "cell_type": "code",
   "execution_count": 95,
   "id": "61feaf76",
   "metadata": {},
   "outputs": [],
   "source": [
    "# Verifying the column for runtime_minutes is changed\n",
    "assert imdb_df['runtime_minutes'].dtype == 'int64', \"Conversion to int64 failed\""
   ]
  },
  {
   "cell_type": "markdown",
   "id": "92dbb7c1",
   "metadata": {},
   "source": [
    "##### ~~~~~~~~~~~~~~~~~~~~~~~~~~~~~~~~~~~~~~~~~~~~~~~~~~~~~~~~~~~~~~~~~~~~~~~~~~~~~~~~~~~~~~~~~~~"
   ]
  },
  {
   "cell_type": "markdown",
   "id": "5f6a0a36",
   "metadata": {},
   "source": []
  },
  {
   "cell_type": "markdown",
   "id": "b33a40fd",
   "metadata": {},
   "source": [
    "## **Exploratory Data Analysis**"
   ]
  },
  {
   "cell_type": "markdown",
   "id": "a7179e0b",
   "metadata": {},
   "source": [
    "In this section, we perform Exploratory Data Analysis (EDA) to summarize and visualize the\n",
    "main characteristics of our datasets.\n"
   ]
  },
  {
   "cell_type": "markdown",
   "id": "c90156f6",
   "metadata": {},
   "source": [
    "**Univariate Analysis**"
   ]
  },
  {
   "cell_type": "markdown",
   "id": "21bf7957",
   "metadata": {},
   "source": [
    "In this section, we examine the distribution of the production budget variable using a combination of a histogram and a Kernel Density Estimate (KDE) plot. This helps visualize how production budgets are spread across different movies, highlighting patterns such as skewness and the presence of extreme values. By understanding this distribution, we can make informed decisions about how to handle the data in later stages of analysis."
   ]
  },
  {
   "cell_type": "code",
   "execution_count": null,
   "id": "9ad81294",
   "metadata": {},
   "outputs": [
    {
     "data": {
      "image/png": "[encoded data removed]",
      "text/plain": [
       "<Figure size 720x432 with 1 Axes>"
      ]
     },
     "metadata": {
      "needs_background": "light"
     },
     "output_type": "display_data"
    }
   ],
   "source": [
    "import matplotlib.pyplot as plt\n",
    "import seaborn as sns\n",
    "\n",
    "# Plotting Histogram and KDE together\n",
    "plt.figure(figsize=(10, 6))\n",
    "sns.histplot(tn_df['production_budget'], bins=30, color='skyblue', edgecolor='black', stat='density', label='Histogram')\n",
    "sns.kdeplot(tn_df['production_budget'], color='red', linewidth=2, label='KDE')\n",
    "plt.title('Distribution of Production Budget')\n",
    "plt.xlabel('Production Budget')\n",
    "plt.ylabel('Frequency')\n",
    "plt.legend()\n",
    "plt.show()\n"
   ]
  },
  {
   "cell_type": "markdown",
   "id": "ec6e2499",
   "metadata": {},
   "source": [
    "\n",
    "**Distribution of Production Budgets in Relation to Movie Frequency**  \n",
    "- Most films are produced with relatively low budgets, as shown by the concentration of entries on the lower end of the budget range.  \n",
    "- There is a noticeable decline in the number of movies as production budgets rise, indicating that high-budget films are less common."
   ]
  },
  {
   "cell_type": "markdown",
   "id": "c0256585",
   "metadata": {},
   "source": [
    "**Bivariate Analysis**"
   ]
  },
  {
   "cell_type": "markdown",
   "id": "9c95db40",
   "metadata": {},
   "source": [
    " **Relationship Between Production Budgets and Profits for Movies**\n",
    "Bivariate analysis examines the relationship between two variables. It helps you understand how one variable changes in relation to another—whether there's a correlation, trend, or association between them. So we are going to be comparing production budget and profit to see if higher budgets lead to more profit."
   ]
  },
  {
   "cell_type": "code",
   "execution_count": null,
   "id": "e9af73a1",
   "metadata": {},
   "outputs": [
    {
     "data": {
      "image/png": "[encoded data removed]",
      "text/plain": [
       "<Figure size 720x432 with 1 Axes>"
      ]
     },
     "metadata": {
      "needs_background": "light"
     },
     "output_type": "display_data"
    }
   ],
   "source": [
    "\n",
    "# Calculate the profit column\n",
    "tn_df['profit'] = tn_df['worldwide_gross'] - tn_df['production_budget']\n",
    "\n",
    "# Creating the plot\n",
    "plt.figure(figsize=(10, 6))\n",
    "sns.scatterplot(x='production_budget', y='profit', data = tn_df)\n",
    "plt.xlabel('Production Budget')\n",
    "plt.ylabel('Profit')\n",
    "plt.title('Production versus profit')\n",
    "plt.show()"
   ]
  },
  {
   "cell_type": "markdown",
   "id": "245de9f9",
   "metadata": {},
   "source": [
    "The scatter plot shows that movies with larger production budgets tend to generate higher profits, as indicated by the greater concentration of high-profit points at the upper end of the budget scale."
   ]
  },
  {
   "cell_type": "markdown",
   "id": "a1314a7b",
   "metadata": {},
   "source": [
    "**Multivariate analysis**"
   ]
  },
  {
   "cell_type": "markdown",
   "id": "7321884c",
   "metadata": {},
   "source": [
    "\n",
    "\n",
    "In the Multivariate Analysis section, we explore the relationships among more than two variables at once. This broader perspective allows for a more thorough understanding of the data's complexity, revealing patterns, associations, and key factors essential for developing strong and precise predictive models."
   ]
  },
  {
   "cell_type": "code",
   "execution_count": null,
   "id": "c6721306",
   "metadata": {},
   "outputs": [
    {
     "data": {
      "image/png": "[encoded data removed]",
      "text/plain": [
       "<Figure size 720x576 with 2 Axes>"
      ]
     },
     "metadata": {
      "needs_background": "light"
     },
     "output_type": "display_data"
    }
   ],
   "source": [
    "# Select the columns to use\n",
    "columns = ['production_budget', 'worldwide_gross', 'profit']\n",
    "# Creating a subset of the DataFrame with the specified columns\n",
    "Heatmap_df = tn_df[columns]\n",
    "# Computing the correlation matrix\n",
    "corr_matrix = Heatmap_df.corr()\n",
    "# Plotting the heatmap\n",
    "plt.figure(figsize=(10, 8))\n",
    "sns.heatmap(corr_matrix, annot=True, fmt=\".2f\", cmap=\"coolwarm\", linewidths=.5, vmin=-1, vmax=1)\n",
    "plt.title('Correlation Heatmap of Production Budget, Worldwide Gross, and Profit')\n",
    "plt.show()"
   ]
  },
  {
   "cell_type": "markdown",
   "id": "eb25ae43",
   "metadata": {},
   "source": [
    "Production Budget versus. Worldwide Gross: There is a strong positive correlation of 0.75 indicating that movies with larger production budgets typically achieve higher worldwide gross revenues.\n",
    "\n",
    "Production Budget versus. Profit: A moderate positive correlation of 0.61 suggests that increasing the production budget often leads to higher profits, though this link is not as strong as with worldwide gross.\n",
    "\n",
    "Worldwide Gross versus Profit: Although the specific correlation value isn't provided, the relationship is expected to be strong, given the positive ties both metrics have with production budget."
   ]
  },
  {
   "cell_type": "markdown",
   "id": "066ca8c5",
   "metadata": {},
   "source": [
    "## **Hypothesis Testing** "
   ]
  },
  {
   "cell_type": "markdown",
   "id": "8031509d",
   "metadata": {},
   "source": [
    "Evaluating the Relationship Between production Budget and Profitability\n",
    "To better understand how financial inputs and outcomes are interconnected in the film industry, we aim to assess whether a movie’s production budget  significantly influence its profitability. This exploration is grounded in the following hypotheses:\n",
    "\n",
    "H₀:There is no significant linear relationship between production budget and  profitability.\n",
    "\n",
    "H₁:There is a significant linear relationship between production budget and profitability.\n",
    "\n"
   ]
  },
  {
   "cell_type": "markdown",
   "id": "382b6190",
   "metadata": {},
   "source": [
    "**The Pearson correlation coefficient was computed to determine the linear association between production budget and profit.**"
   ]
  },
  {
   "cell_type": "code",
   "execution_count": null,
   "id": "579786d1",
   "metadata": {},
   "outputs": [
    {
     "name": "stdout",
     "output_type": "stream",
     "text": [
      "The P-value is : 0.0\n",
      "The Pearson Correlation Coefficient is: 0.6087521471718887\n",
      "Reject the null hypothesis.There is a significant linear relationship between the profit and production budget\n"
     ]
    }
   ],
   "source": [
    "from scipy.stats import pearsonr\n",
    "\n",
    "# set the alpha to 0.05\n",
    "alpha = 0.05\n",
    "# Calculate both the Pearson correlation coefficient and p-value\n",
    "correlation, p_value = pearsonr(tn_df['production_budget'], tn_df['profit'])\n",
    "print(f\"The P-value is : {p_value}\")\n",
    "print(f\"The Pearson Correlation Coefficient is: {correlation}\")\n",
    "\n",
    "if p_value < alpha:\n",
    "\tprint(\"Reject the null hypothesis.There is a significant linear relationship between the profit and production budget\")\n",
    "else:\n",
    "\tprint(\"Fail to reject the null hypothesis. There is no sufficient evidence to show a linear relationship between the profit and production budget\")\n"
   ]
  },
  {
   "cell_type": "markdown",
   "id": "790a6b83",
   "metadata": {},
   "source": [
    "From the output above we can clearly see that A moderate positive correlation of 0.61 suggests that increasing the production budget often leads to higher profits, though this link is not as strong as with worldwide gross.\n",
    "Moreover from our correlation matrix we can see that there is a strong positive correlation of 0.75 indicating that movies with larger production budgets typically achieve higher worldwide gross revenues.\n",
    " \n",
    " This could further be shown visually as shown in the figure below\n",
    "\n"
   ]
  },
  {
   "cell_type": "code",
   "execution_count": null,
   "id": "b8fff561",
   "metadata": {},
   "outputs": [
    {
     "data": {
      "image/png": "[encoded data removed]",
      "text/plain": [
       "<Figure size 540x540 with 12 Axes>"
      ]
     },
     "metadata": {
      "needs_background": "light"
     },
     "output_type": "display_data"
    }
   ],
   "source": [
    "# Pairplot for visualization\n",
    "sns.pairplot(tn_df[['production_budget', 'worldwide_gross', 'profit']])\n",
    "plt.suptitle('Pairwise Plots: Budget, Gross, and Profit', y=1.02)\n",
    "plt.show()"
   ]
  },
  {
   "cell_type": "markdown",
   "id": "ca87e6ad",
   "metadata": {},
   "source": [
    "**Conclusions**\n",
    " \n",
    " Increasing the production budget often leads to higher profits\n",
    " Movies with larger production budgets typically achieve higher worldwide gross revenues.\n",
    " "
   ]
  },
  {
   "cell_type": "markdown",
   "id": "87ea040e",
   "metadata": {},
   "source": [
    "**Recommendations**\n",
    "\n",
    "Enhance Profitability Tracking: Implement metrics for profit margin and return on investment (ROI) to better evaluate the success of each project.\n",
    "Refine Budget Allocation Strategies: Invest in production budgets that are high enough to drive profitability, but remain mindful of overspending. Analyze past performance to identify a budget threshold that maximizes returns without crossing into diminishing profit margins."
   ]
  }
 ],
 "metadata": {
  "kernelspec": {
   "display_name": "learn env",
   "language": "python",
   "name": "learn-env"
  },
  "language_info": {
   "codemirror_mode": {
    "name": "ipython",
    "version": 3
   },
   "file_extension": ".py",
   "mimetype": "text/x-python",
   "name": "python",
   "nbconvert_exporter": "python",
   "pygments_lexer": "ipython3",
   "version": "3.8.5"
  }
 },
 "nbformat": 4,
 "nbformat_minor": 5
}
