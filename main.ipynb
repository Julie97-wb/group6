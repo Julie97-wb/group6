{
 "cells": [
  {
   "cell_type": "markdown",
   "id": "e97b8ec6",
   "metadata": {},
   "source": [
    "# **Business Understanding**\n",
    "\n",
    "To support the launch of a new movie studio, this project aims to deliver data-driven insights into what makes films successful by analyzing trends in budgets, profitability, film length, director performance, and genre ratings. Using CRISP-DM methodology, we will gather and clean data from various film databases, address inconsistencies, and apply statistical analysis to uncover patterns that can guide strategic decisions. The findings will help the company select the right genres, directors, and production strategies to produce competitive, high-performing content in a rapidly evolving entertainment industry.The following are our objectives\n",
    " \n",
    " 1:Evaluating the Relationship Between production Budget and Profitability\n",
    "\n",
    " 2.Determine if there is a difference in audience ratings between the shorter and longer films\n",
    "\n",
    " 3.Identify the Best Directors to Work With\n",
    "\n",
    " 4.To identify the genres that are linked to high average rating\n",
    " "
   ]
  },
  {
   "cell_type": "markdown",
   "id": "644c7800",
   "metadata": {},
   "source": [
    "# **Data Understanding**\n",
    "In the data understanding phase, we explored two datasets—The Numbers, which includes financial details like production budgets and box office revenue, and IMDb, which provides movie metadata such as ratings, genres, runtime, and director information. We examined key columns from both datasets and performed essential data quality checks, including identifying missing values (e.g., in runtime_minutes and averagerating), detecting outliers in budget and rating fields, ensuring uniform formatting, and addressing duplicate entries in the IMDb data. We also verified proper merging across tables using unique identifiers like movie_id and person_id to maintain data integrity."
   ]
  },
  {
   "cell_type": "markdown",
   "id": "9f1e786c",
   "metadata": {},
   "source": [
    "# **Data Preparation**\n",
    "\n",
    "In the Data Preparation section, we will outline the steps taken to clean, transform, and organize the datasets from The Numbers and IMDb to ensure they are suitable for analysis. This includes handling missing values, removing duplicates, converting data types, merging datasets, and creating new variables such as movie runtime categories for comparative analysis."
   ]
  },
  {
   "cell_type": "markdown",
   "id": "dd8ba154",
   "metadata": {},
   "source": [
    "## **Data Cleaning**"
   ]
  },
  {
   "cell_type": "code",
   "execution_count": 1,
   "id": "7a626c29",
   "metadata": {},
   "outputs": [],
   "source": [
    "# Import the necessary libraries \n",
    "import pandas as pd\n",
    "pd.options.mode.chained_assignment = None          #prevent unnecessary warnings from pandas so our notebook looks cleaner\n",
    "import sqlite3"
   ]
  },
  {
   "cell_type": "markdown",
   "id": "304c9df5",
   "metadata": {},
   "source": [
    "**1. The Numbers dataset**"
   ]
  },
  {
   "cell_type": "code",
   "execution_count": 2,
   "id": "e8ceaa04",
   "metadata": {},
   "outputs": [
    {
     "data": {
      "text/html": [
       "<div>\n",
       "<style scoped>\n",
       "    .dataframe tbody tr th:only-of-type {\n",
       "        vertical-align: middle;\n",
       "    }\n",
       "\n",
       "    .dataframe tbody tr th {\n",
       "        vertical-align: top;\n",
       "    }\n",
       "\n",
       "    .dataframe thead th {\n",
       "        text-align: right;\n",
       "    }\n",
       "</style>\n",
       "<table border=\"1\" class=\"dataframe\">\n",
       "  <thead>\n",
       "    <tr style=\"text-align: right;\">\n",
       "      <th></th>\n",
       "      <th>id</th>\n",
       "      <th>release_date</th>\n",
       "      <th>movie</th>\n",
       "      <th>production_budget</th>\n",
       "      <th>domestic_gross</th>\n",
       "      <th>worldwide_gross</th>\n",
       "    </tr>\n",
       "  </thead>\n",
       "  <tbody>\n",
       "    <tr>\n",
       "      <th>0</th>\n",
       "      <td>1</td>\n",
       "      <td>Dec 18, 2009</td>\n",
       "      <td>Avatar</td>\n",
       "      <td>$425,000,000</td>\n",
       "      <td>$760,507,625</td>\n",
       "      <td>$2,776,345,279</td>\n",
       "    </tr>\n",
       "    <tr>\n",
       "      <th>1</th>\n",
       "      <td>2</td>\n",
       "      <td>May 20, 2011</td>\n",
       "      <td>Pirates of the Caribbean: On Stranger Tides</td>\n",
       "      <td>$410,600,000</td>\n",
       "      <td>$241,063,875</td>\n",
       "      <td>$1,045,663,875</td>\n",
       "    </tr>\n",
       "    <tr>\n",
       "      <th>2</th>\n",
       "      <td>3</td>\n",
       "      <td>Jun 7, 2019</td>\n",
       "      <td>Dark Phoenix</td>\n",
       "      <td>$350,000,000</td>\n",
       "      <td>$42,762,350</td>\n",
       "      <td>$149,762,350</td>\n",
       "    </tr>\n",
       "    <tr>\n",
       "      <th>3</th>\n",
       "      <td>4</td>\n",
       "      <td>May 1, 2015</td>\n",
       "      <td>Avengers: Age of Ultron</td>\n",
       "      <td>$330,600,000</td>\n",
       "      <td>$459,005,868</td>\n",
       "      <td>$1,403,013,963</td>\n",
       "    </tr>\n",
       "    <tr>\n",
       "      <th>4</th>\n",
       "      <td>5</td>\n",
       "      <td>Dec 15, 2017</td>\n",
       "      <td>Star Wars Ep. VIII: The Last Jedi</td>\n",
       "      <td>$317,000,000</td>\n",
       "      <td>$620,181,382</td>\n",
       "      <td>$1,316,721,747</td>\n",
       "    </tr>\n",
       "  </tbody>\n",
       "</table>\n",
       "</div>"
      ],
      "text/plain": [
       "   id  release_date                                        movie  \\\n",
       "0   1  Dec 18, 2009                                       Avatar   \n",
       "1   2  May 20, 2011  Pirates of the Caribbean: On Stranger Tides   \n",
       "2   3   Jun 7, 2019                                 Dark Phoenix   \n",
       "3   4   May 1, 2015                      Avengers: Age of Ultron   \n",
       "4   5  Dec 15, 2017            Star Wars Ep. VIII: The Last Jedi   \n",
       "\n",
       "  production_budget domestic_gross worldwide_gross  \n",
       "0      $425,000,000   $760,507,625  $2,776,345,279  \n",
       "1      $410,600,000   $241,063,875  $1,045,663,875  \n",
       "2      $350,000,000    $42,762,350    $149,762,350  \n",
       "3      $330,600,000   $459,005,868  $1,403,013,963  \n",
       "4      $317,000,000   $620,181,382  $1,316,721,747  "
      ]
     },
     "execution_count": 2,
     "metadata": {},
     "output_type": "execute_result"
    }
   ],
   "source": [
    "# Load the dataframe\n",
    "tn_df = pd.read_csv('./zippedData/tn.movie_budgets.csv.gz')\n",
    "tn_df.head()\n",
    "\n"
   ]
  },
  {
   "cell_type": "code",
   "execution_count": 3,
   "id": "efe32c71",
   "metadata": {},
   "outputs": [
    {
     "name": "stdout",
     "output_type": "stream",
     "text": [
      "<class 'pandas.core.frame.DataFrame'>\n",
      "RangeIndex: 5782 entries, 0 to 5781\n",
      "Data columns (total 6 columns):\n",
      " #   Column             Non-Null Count  Dtype \n",
      "---  ------             --------------  ----- \n",
      " 0   id                 5782 non-null   int64 \n",
      " 1   release_date       5782 non-null   object\n",
      " 2   movie              5782 non-null   object\n",
      " 3   production_budget  5782 non-null   object\n",
      " 4   domestic_gross     5782 non-null   object\n",
      " 5   worldwide_gross    5782 non-null   object\n",
      "dtypes: int64(1), object(5)\n",
      "memory usage: 271.2+ KB\n"
     ]
    }
   ],
   "source": [
    "# Gives us a concise summary of our dataframe by giving us basic information of the dataframe\n",
    "tn_df.info()"
   ]
  },
  {
   "cell_type": "markdown",
   "id": "4e1a2e75",
   "metadata": {},
   "source": [
    "From our findings above, we can see that our dataframe has 5782 entries and 6 columns in total. We have 5 columns in the string format and one other column in the integer format(int64). "
   ]
  },
  {
   "cell_type": "code",
   "execution_count": 4,
   "id": "19940949",
   "metadata": {},
   "outputs": [
    {
     "data": {
      "text/html": [
       "<div>\n",
       "<style scoped>\n",
       "    .dataframe tbody tr th:only-of-type {\n",
       "        vertical-align: middle;\n",
       "    }\n",
       "\n",
       "    .dataframe tbody tr th {\n",
       "        vertical-align: top;\n",
       "    }\n",
       "\n",
       "    .dataframe thead th {\n",
       "        text-align: right;\n",
       "    }\n",
       "</style>\n",
       "<table border=\"1\" class=\"dataframe\">\n",
       "  <thead>\n",
       "    <tr style=\"text-align: right;\">\n",
       "      <th></th>\n",
       "      <th>id</th>\n",
       "    </tr>\n",
       "  </thead>\n",
       "  <tbody>\n",
       "    <tr>\n",
       "      <th>count</th>\n",
       "      <td>5782.000000</td>\n",
       "    </tr>\n",
       "    <tr>\n",
       "      <th>mean</th>\n",
       "      <td>50.372363</td>\n",
       "    </tr>\n",
       "    <tr>\n",
       "      <th>std</th>\n",
       "      <td>28.821076</td>\n",
       "    </tr>\n",
       "    <tr>\n",
       "      <th>min</th>\n",
       "      <td>1.000000</td>\n",
       "    </tr>\n",
       "    <tr>\n",
       "      <th>25%</th>\n",
       "      <td>25.000000</td>\n",
       "    </tr>\n",
       "    <tr>\n",
       "      <th>50%</th>\n",
       "      <td>50.000000</td>\n",
       "    </tr>\n",
       "    <tr>\n",
       "      <th>75%</th>\n",
       "      <td>75.000000</td>\n",
       "    </tr>\n",
       "    <tr>\n",
       "      <th>max</th>\n",
       "      <td>100.000000</td>\n",
       "    </tr>\n",
       "  </tbody>\n",
       "</table>\n",
       "</div>"
      ],
      "text/plain": [
       "                id\n",
       "count  5782.000000\n",
       "mean     50.372363\n",
       "std      28.821076\n",
       "min       1.000000\n",
       "25%      25.000000\n",
       "50%      50.000000\n",
       "75%      75.000000\n",
       "max     100.000000"
      ]
     },
     "execution_count": 4,
     "metadata": {},
     "output_type": "execute_result"
    }
   ],
   "source": [
    "# Check the summary statistics of our dataframe\n",
    "tn_df.describe()"
   ]
  },
  {
   "cell_type": "code",
   "execution_count": 5,
   "id": "44e6eef1",
   "metadata": {},
   "outputs": [
    {
     "name": "stdout",
     "output_type": "stream",
     "text": [
      "The dataframe contains: 5782 rows\n",
      "The dataframe contains: 6 columns\n"
     ]
    }
   ],
   "source": [
    "# Shows us the number of rows and columns in our dataframe\n",
    "print('The dataframe contains:', tn_df.shape[0],'rows')\n",
    "print('The dataframe contains:', tn_df.shape[1],'columns')\n"
   ]
  },
  {
   "cell_type": "markdown",
   "id": "b5450dcc",
   "metadata": {},
   "source": [
    "**Handling missing values and duplicate values**"
   ]
  },
  {
   "cell_type": "code",
   "execution_count": 6,
   "id": "7bdee8b1",
   "metadata": {},
   "outputs": [
    {
     "data": {
      "text/plain": [
       "id                   0\n",
       "release_date         0\n",
       "movie                0\n",
       "production_budget    0\n",
       "domestic_gross       0\n",
       "worldwide_gross      0\n",
       "dtype: int64"
      ]
     },
     "execution_count": 6,
     "metadata": {},
     "output_type": "execute_result"
    }
   ],
   "source": [
    "#First check for null values\n",
    "tn_df.isnull().sum()"
   ]
  },
  {
   "cell_type": "markdown",
   "id": "44f21976",
   "metadata": {},
   "source": [
    "There are no missing values in our dataframe."
   ]
  },
  {
   "cell_type": "code",
   "execution_count": 7,
   "id": "5c15fc5c",
   "metadata": {},
   "outputs": [
    {
     "data": {
      "text/plain": [
       "0"
      ]
     },
     "execution_count": 7,
     "metadata": {},
     "output_type": "execute_result"
    }
   ],
   "source": [
    "#Check for duplicates\n",
    "tn_df.duplicated().sum()"
   ]
  },
  {
   "cell_type": "markdown",
   "id": "820e4cd6",
   "metadata": {},
   "source": [
    "We can also see that our dataframe has no duplicates.We also have no need for the release date column in our dataframe so we will drop it. "
   ]
  },
  {
   "cell_type": "code",
   "execution_count": 8,
   "id": "bb5227a1",
   "metadata": {},
   "outputs": [
    {
     "data": {
      "text/html": [
       "<div>\n",
       "<style scoped>\n",
       "    .dataframe tbody tr th:only-of-type {\n",
       "        vertical-align: middle;\n",
       "    }\n",
       "\n",
       "    .dataframe tbody tr th {\n",
       "        vertical-align: top;\n",
       "    }\n",
       "\n",
       "    .dataframe thead th {\n",
       "        text-align: right;\n",
       "    }\n",
       "</style>\n",
       "<table border=\"1\" class=\"dataframe\">\n",
       "  <thead>\n",
       "    <tr style=\"text-align: right;\">\n",
       "      <th></th>\n",
       "      <th>id</th>\n",
       "      <th>movie</th>\n",
       "      <th>production_budget</th>\n",
       "      <th>domestic_gross</th>\n",
       "      <th>worldwide_gross</th>\n",
       "    </tr>\n",
       "  </thead>\n",
       "  <tbody>\n",
       "    <tr>\n",
       "      <th>0</th>\n",
       "      <td>1</td>\n",
       "      <td>Avatar</td>\n",
       "      <td>$425,000,000</td>\n",
       "      <td>$760,507,625</td>\n",
       "      <td>$2,776,345,279</td>\n",
       "    </tr>\n",
       "    <tr>\n",
       "      <th>1</th>\n",
       "      <td>2</td>\n",
       "      <td>Pirates of the Caribbean: On Stranger Tides</td>\n",
       "      <td>$410,600,000</td>\n",
       "      <td>$241,063,875</td>\n",
       "      <td>$1,045,663,875</td>\n",
       "    </tr>\n",
       "    <tr>\n",
       "      <th>2</th>\n",
       "      <td>3</td>\n",
       "      <td>Dark Phoenix</td>\n",
       "      <td>$350,000,000</td>\n",
       "      <td>$42,762,350</td>\n",
       "      <td>$149,762,350</td>\n",
       "    </tr>\n",
       "    <tr>\n",
       "      <th>3</th>\n",
       "      <td>4</td>\n",
       "      <td>Avengers: Age of Ultron</td>\n",
       "      <td>$330,600,000</td>\n",
       "      <td>$459,005,868</td>\n",
       "      <td>$1,403,013,963</td>\n",
       "    </tr>\n",
       "    <tr>\n",
       "      <th>4</th>\n",
       "      <td>5</td>\n",
       "      <td>Star Wars Ep. VIII: The Last Jedi</td>\n",
       "      <td>$317,000,000</td>\n",
       "      <td>$620,181,382</td>\n",
       "      <td>$1,316,721,747</td>\n",
       "    </tr>\n",
       "    <tr>\n",
       "      <th>...</th>\n",
       "      <td>...</td>\n",
       "      <td>...</td>\n",
       "      <td>...</td>\n",
       "      <td>...</td>\n",
       "      <td>...</td>\n",
       "    </tr>\n",
       "    <tr>\n",
       "      <th>5777</th>\n",
       "      <td>78</td>\n",
       "      <td>Red 11</td>\n",
       "      <td>$7,000</td>\n",
       "      <td>$0</td>\n",
       "      <td>$0</td>\n",
       "    </tr>\n",
       "    <tr>\n",
       "      <th>5778</th>\n",
       "      <td>79</td>\n",
       "      <td>Following</td>\n",
       "      <td>$6,000</td>\n",
       "      <td>$48,482</td>\n",
       "      <td>$240,495</td>\n",
       "    </tr>\n",
       "    <tr>\n",
       "      <th>5779</th>\n",
       "      <td>80</td>\n",
       "      <td>Return to the Land of Wonders</td>\n",
       "      <td>$5,000</td>\n",
       "      <td>$1,338</td>\n",
       "      <td>$1,338</td>\n",
       "    </tr>\n",
       "    <tr>\n",
       "      <th>5780</th>\n",
       "      <td>81</td>\n",
       "      <td>A Plague So Pleasant</td>\n",
       "      <td>$1,400</td>\n",
       "      <td>$0</td>\n",
       "      <td>$0</td>\n",
       "    </tr>\n",
       "    <tr>\n",
       "      <th>5781</th>\n",
       "      <td>82</td>\n",
       "      <td>My Date With Drew</td>\n",
       "      <td>$1,100</td>\n",
       "      <td>$181,041</td>\n",
       "      <td>$181,041</td>\n",
       "    </tr>\n",
       "  </tbody>\n",
       "</table>\n",
       "<p>5782 rows × 5 columns</p>\n",
       "</div>"
      ],
      "text/plain": [
       "      id                                        movie production_budget  \\\n",
       "0      1                                       Avatar      $425,000,000   \n",
       "1      2  Pirates of the Caribbean: On Stranger Tides      $410,600,000   \n",
       "2      3                                 Dark Phoenix      $350,000,000   \n",
       "3      4                      Avengers: Age of Ultron      $330,600,000   \n",
       "4      5            Star Wars Ep. VIII: The Last Jedi      $317,000,000   \n",
       "...   ..                                          ...               ...   \n",
       "5777  78                                       Red 11            $7,000   \n",
       "5778  79                                    Following            $6,000   \n",
       "5779  80                Return to the Land of Wonders            $5,000   \n",
       "5780  81                         A Plague So Pleasant            $1,400   \n",
       "5781  82                            My Date With Drew            $1,100   \n",
       "\n",
       "     domestic_gross worldwide_gross  \n",
       "0      $760,507,625  $2,776,345,279  \n",
       "1      $241,063,875  $1,045,663,875  \n",
       "2       $42,762,350    $149,762,350  \n",
       "3      $459,005,868  $1,403,013,963  \n",
       "4      $620,181,382  $1,316,721,747  \n",
       "...             ...             ...  \n",
       "5777             $0              $0  \n",
       "5778        $48,482        $240,495  \n",
       "5779         $1,338          $1,338  \n",
       "5780             $0              $0  \n",
       "5781       $181,041        $181,041  \n",
       "\n",
       "[5782 rows x 5 columns]"
      ]
     },
     "execution_count": 8,
     "metadata": {},
     "output_type": "execute_result"
    }
   ],
   "source": [
    "# Dropping the release_date column\n",
    "tn_df= tn_df.drop('release_date', axis=1)\n",
    "tn_df"
   ]
  },
  {
   "cell_type": "markdown",
   "id": "2d829eab",
   "metadata": {},
   "source": [
    "**Cleaning the production_budget, domestic_gross and worldwide_gross columns**"
   ]
  },
  {
   "cell_type": "code",
   "execution_count": 9,
   "id": "079df781",
   "metadata": {},
   "outputs": [
    {
     "data": {
      "text/plain": [
       "id                    int64\n",
       "movie                object\n",
       "production_budget    object\n",
       "domestic_gross       object\n",
       "worldwide_gross      object\n",
       "dtype: object"
      ]
     },
     "execution_count": 9,
     "metadata": {},
     "output_type": "execute_result"
    }
   ],
   "source": [
    "# Checking the datatypes\n",
    "tn_df.dtypes"
   ]
  },
  {
   "cell_type": "markdown",
   "id": "09d838f0",
   "metadata": {},
   "source": [
    "Our columns represent financial information so its important for us to work with them in integer or float form so that we are able to perform mathematical operations on them. Since the three columns have object data types, we will convert them into integers."
   ]
  },
  {
   "cell_type": "code",
   "execution_count": 10,
   "id": "d445f38a",
   "metadata": {},
   "outputs": [
    {
     "data": {
      "text/html": [
       "<div>\n",
       "<style scoped>\n",
       "    .dataframe tbody tr th:only-of-type {\n",
       "        vertical-align: middle;\n",
       "    }\n",
       "\n",
       "    .dataframe tbody tr th {\n",
       "        vertical-align: top;\n",
       "    }\n",
       "\n",
       "    .dataframe thead th {\n",
       "        text-align: right;\n",
       "    }\n",
       "</style>\n",
       "<table border=\"1\" class=\"dataframe\">\n",
       "  <thead>\n",
       "    <tr style=\"text-align: right;\">\n",
       "      <th></th>\n",
       "      <th>id</th>\n",
       "      <th>movie</th>\n",
       "      <th>production_budget</th>\n",
       "      <th>domestic_gross</th>\n",
       "      <th>worldwide_gross</th>\n",
       "    </tr>\n",
       "  </thead>\n",
       "  <tbody>\n",
       "    <tr>\n",
       "      <th>0</th>\n",
       "      <td>1</td>\n",
       "      <td>Avatar</td>\n",
       "      <td>425000000</td>\n",
       "      <td>760507625</td>\n",
       "      <td>2776345279</td>\n",
       "    </tr>\n",
       "    <tr>\n",
       "      <th>1</th>\n",
       "      <td>2</td>\n",
       "      <td>Pirates of the Caribbean: On Stranger Tides</td>\n",
       "      <td>410600000</td>\n",
       "      <td>241063875</td>\n",
       "      <td>1045663875</td>\n",
       "    </tr>\n",
       "    <tr>\n",
       "      <th>2</th>\n",
       "      <td>3</td>\n",
       "      <td>Dark Phoenix</td>\n",
       "      <td>350000000</td>\n",
       "      <td>42762350</td>\n",
       "      <td>149762350</td>\n",
       "    </tr>\n",
       "    <tr>\n",
       "      <th>3</th>\n",
       "      <td>4</td>\n",
       "      <td>Avengers: Age of Ultron</td>\n",
       "      <td>330600000</td>\n",
       "      <td>459005868</td>\n",
       "      <td>1403013963</td>\n",
       "    </tr>\n",
       "    <tr>\n",
       "      <th>4</th>\n",
       "      <td>5</td>\n",
       "      <td>Star Wars Ep. VIII: The Last Jedi</td>\n",
       "      <td>317000000</td>\n",
       "      <td>620181382</td>\n",
       "      <td>1316721747</td>\n",
       "    </tr>\n",
       "  </tbody>\n",
       "</table>\n",
       "</div>"
      ],
      "text/plain": [
       "   id                                        movie  production_budget  \\\n",
       "0   1                                       Avatar          425000000   \n",
       "1   2  Pirates of the Caribbean: On Stranger Tides          410600000   \n",
       "2   3                                 Dark Phoenix          350000000   \n",
       "3   4                      Avengers: Age of Ultron          330600000   \n",
       "4   5            Star Wars Ep. VIII: The Last Jedi          317000000   \n",
       "\n",
       "   domestic_gross  worldwide_gross  \n",
       "0       760507625       2776345279  \n",
       "1       241063875       1045663875  \n",
       "2        42762350        149762350  \n",
       "3       459005868       1403013963  \n",
       "4       620181382       1316721747  "
      ]
     },
     "execution_count": 10,
     "metadata": {},
     "output_type": "execute_result"
    }
   ],
   "source": [
    "# Removing the dollar signs and commas from the columns\n",
    "tn_df['worldwide_gross']= tn_df['worldwide_gross'].replace('[\\$,]', '', regex= True)\n",
    "tn_df['production_budget']= tn_df['production_budget'].replace('[\\$,]', '', regex= True)\n",
    "tn_df['domestic_gross']= tn_df['domestic_gross'].replace('[\\$,]', '', regex= True)\n",
    "\n",
    "# Converting the columns into integers\n",
    "tn_df['worldwide_gross']= tn_df['worldwide_gross'].astype('int64')\n",
    "tn_df['production_budget']= tn_df['production_budget'].astype('int64')\n",
    "tn_df['domestic_gross']= tn_df['domestic_gross'].astype('int64')\n",
    "\n",
    "# Previewing the first five results\n",
    "tn_df.head()\n"
   ]
  },
  {
   "cell_type": "code",
   "execution_count": 11,
   "id": "d7580c0a",
   "metadata": {},
   "outputs": [
    {
     "data": {
      "text/plain": [
       "367"
      ]
     },
     "execution_count": 11,
     "metadata": {},
     "output_type": "execute_result"
    }
   ],
   "source": [
    "# Checking to see if there are any 0 values in our worldwide_gross column\n",
    "(tn_df['worldwide_gross'] == 0).sum()"
   ]
  },
  {
   "cell_type": "markdown",
   "id": "82863f8c",
   "metadata": {},
   "source": [
    "We have 367 zero values in our column, we will drop these records and retain the rest."
   ]
  },
  {
   "cell_type": "code",
   "execution_count": 12,
   "id": "eb401494",
   "metadata": {},
   "outputs": [],
   "source": [
    "# Retaining the rows where the values in the worldwide_gross is greater than zero\n",
    "tn_df = tn_df[tn_df['worldwide_gross'] > 0]\n",
    "\n",
    "# Checking that the zero values have been dropped\n",
    "assert (tn_df['worldwide_gross']== 0).sum() == 0"
   ]
  },
  {
   "cell_type": "markdown",
   "id": "2c1065ef",
   "metadata": {},
   "source": [
    "**Checking for outliers in the production_budget column**"
   ]
  },
  {
   "cell_type": "code",
   "execution_count": 13,
   "id": "ead51558",
   "metadata": {},
   "outputs": [
    {
     "name": "stdout",
     "output_type": "stream",
     "text": [
      "Number of outliers: 411\n",
      "     production_budget\n",
      "0            425000000\n",
      "1            410600000\n",
      "2            350000000\n",
      "3            330600000\n",
      "4            317000000\n",
      "..                 ...\n",
      "407           99000000\n",
      "408           99000000\n",
      "409           98000000\n",
      "410           97000000\n",
      "411           97000000\n",
      "\n",
      "[411 rows x 1 columns]\n"
     ]
    }
   ],
   "source": [
    "# Calculate Q1 (25th percentile) and Q3 (75th percentile)\n",
    "Q1 = tn_df['production_budget'].quantile(0.25)\n",
    "Q3 = tn_df['production_budget'].quantile(0.75)\n",
    "\n",
    "# Calculate IQR\n",
    "IQR = Q3 - Q1\n",
    "\n",
    "# Define lower and upper bounds for outliers\n",
    "lower_bound = Q1 - 1.5 * IQR\n",
    "upper_bound = Q3 + 1.5 * IQR\n",
    "\n",
    "# Find outliers\n",
    "outliers = tn_df[(tn_df['production_budget'] < lower_bound) | (tn_df['production_budget'] > upper_bound)]\n",
    "\n",
    "print(f\"Number of outliers: {len(outliers)}\")\n",
    "print(outliers[['production_budget']])"
   ]
  },
  {
   "cell_type": "markdown",
   "id": "2dacf0c7",
   "metadata": {},
   "source": [
    "We keep the outliers since these are true values. "
   ]
  },
  {
   "cell_type": "markdown",
   "id": "a724d0f1",
   "metadata": {},
   "source": [
    "**Checking for outliers in the worldwide_gross column**"
   ]
  },
  {
   "cell_type": "code",
   "execution_count": 14,
   "id": "f5c10da4",
   "metadata": {},
   "outputs": [
    {
     "name": "stdout",
     "output_type": "stream",
     "text": [
      "Number of outliers: 564\n",
      "      worldwide_gross\n",
      "0          2776345279\n",
      "1          1045663875\n",
      "3          1403013963\n",
      "4          1316721747\n",
      "5          2053311220\n",
      "...               ...\n",
      "4249        278964806\n",
      "4567        390525192\n",
      "4589        261249383\n",
      "4775        263591415\n",
      "5346        268000000\n",
      "\n",
      "[564 rows x 1 columns]\n"
     ]
    }
   ],
   "source": [
    "# Calculate Q1 (25th percentile) and Q3 (75th percentile)\n",
    "Q1 = tn_df['worldwide_gross'].quantile(0.25)\n",
    "Q3 = tn_df['worldwide_gross'].quantile(0.75)\n",
    "\n",
    "# Calculate IQR\n",
    "IQR = Q3 - Q1\n",
    "\n",
    "# Define lower and upper bounds for outliers\n",
    "lower_bound = Q1 - 1.5 * IQR\n",
    "upper_bound = Q3 + 1.5 * IQR\n",
    "\n",
    "# Find outliers\n",
    "outliers = tn_df[(tn_df['worldwide_gross'] < lower_bound) | (tn_df['worldwide_gross'] > upper_bound)]\n",
    "\n",
    "print(f\"Number of outliers: {len(outliers)}\")\n",
    "print(outliers[['worldwide_gross']])"
   ]
  },
  {
   "cell_type": "markdown",
   "id": "2edd35c4",
   "metadata": {},
   "source": [
    "We also keep the outliers in the worldwide_gross column."
   ]
  },
  {
   "cell_type": "markdown",
   "id": "f37cb335",
   "metadata": {},
   "source": [
    "Now we will create a profit column that will allow us to see the profitability of each movie.\n",
    "\n"
   ]
  },
  {
   "cell_type": "code",
   "execution_count": 15,
   "id": "30b56049",
   "metadata": {},
   "outputs": [
    {
     "data": {
      "text/html": [
       "<div>\n",
       "<style scoped>\n",
       "    .dataframe tbody tr th:only-of-type {\n",
       "        vertical-align: middle;\n",
       "    }\n",
       "\n",
       "    .dataframe tbody tr th {\n",
       "        vertical-align: top;\n",
       "    }\n",
       "\n",
       "    .dataframe thead th {\n",
       "        text-align: right;\n",
       "    }\n",
       "</style>\n",
       "<table border=\"1\" class=\"dataframe\">\n",
       "  <thead>\n",
       "    <tr style=\"text-align: right;\">\n",
       "      <th></th>\n",
       "      <th>id</th>\n",
       "      <th>movie</th>\n",
       "      <th>production_budget</th>\n",
       "      <th>domestic_gross</th>\n",
       "      <th>worldwide_gross</th>\n",
       "      <th>profit</th>\n",
       "    </tr>\n",
       "  </thead>\n",
       "  <tbody>\n",
       "    <tr>\n",
       "      <th>0</th>\n",
       "      <td>1</td>\n",
       "      <td>Avatar</td>\n",
       "      <td>425000000</td>\n",
       "      <td>760507625</td>\n",
       "      <td>2776345279</td>\n",
       "      <td>2351345279</td>\n",
       "    </tr>\n",
       "    <tr>\n",
       "      <th>1</th>\n",
       "      <td>2</td>\n",
       "      <td>Pirates of the Caribbean: On Stranger Tides</td>\n",
       "      <td>410600000</td>\n",
       "      <td>241063875</td>\n",
       "      <td>1045663875</td>\n",
       "      <td>635063875</td>\n",
       "    </tr>\n",
       "    <tr>\n",
       "      <th>2</th>\n",
       "      <td>3</td>\n",
       "      <td>Dark Phoenix</td>\n",
       "      <td>350000000</td>\n",
       "      <td>42762350</td>\n",
       "      <td>149762350</td>\n",
       "      <td>-200237650</td>\n",
       "    </tr>\n",
       "    <tr>\n",
       "      <th>3</th>\n",
       "      <td>4</td>\n",
       "      <td>Avengers: Age of Ultron</td>\n",
       "      <td>330600000</td>\n",
       "      <td>459005868</td>\n",
       "      <td>1403013963</td>\n",
       "      <td>1072413963</td>\n",
       "    </tr>\n",
       "    <tr>\n",
       "      <th>4</th>\n",
       "      <td>5</td>\n",
       "      <td>Star Wars Ep. VIII: The Last Jedi</td>\n",
       "      <td>317000000</td>\n",
       "      <td>620181382</td>\n",
       "      <td>1316721747</td>\n",
       "      <td>999721747</td>\n",
       "    </tr>\n",
       "  </tbody>\n",
       "</table>\n",
       "</div>"
      ],
      "text/plain": [
       "   id                                        movie  production_budget  \\\n",
       "0   1                                       Avatar          425000000   \n",
       "1   2  Pirates of the Caribbean: On Stranger Tides          410600000   \n",
       "2   3                                 Dark Phoenix          350000000   \n",
       "3   4                      Avengers: Age of Ultron          330600000   \n",
       "4   5            Star Wars Ep. VIII: The Last Jedi          317000000   \n",
       "\n",
       "   domestic_gross  worldwide_gross      profit  \n",
       "0       760507625       2776345279  2351345279  \n",
       "1       241063875       1045663875   635063875  \n",
       "2        42762350        149762350  -200237650  \n",
       "3       459005868       1403013963  1072413963  \n",
       "4       620181382       1316721747   999721747  "
      ]
     },
     "execution_count": 15,
     "metadata": {},
     "output_type": "execute_result"
    }
   ],
   "source": [
    "# Subtracting the production_budget from the worldwide_gross to calculate profit\n",
    "tn_df['profit'] = tn_df['worldwide_gross'] - tn_df['production_budget']\n",
    "\n",
    "# Previewing the first five rows\n",
    "tn_df.head()\n"
   ]
  },
  {
   "cell_type": "markdown",
   "id": "05cac35e",
   "metadata": {},
   "source": [
    "**2.im.db**"
   ]
  },
  {
   "cell_type": "code",
   "execution_count": 16,
   "id": "df70a48b",
   "metadata": {},
   "outputs": [
    {
     "name": "stdout",
     "output_type": "stream",
     "text": [
      "Tables in the database:\n",
      "            name\n",
      "0   movie_basics\n",
      "1      directors\n",
      "2      known_for\n",
      "3     movie_akas\n",
      "4  movie_ratings\n",
      "5        persons\n",
      "6     principals\n",
      "7        writers\n"
     ]
    }
   ],
   "source": [
    "# Load the data\n",
    "import zipfile\n",
    "\n",
    "# Extract the database file from the ZIP archive\n",
    "with zipfile.ZipFile('zippedData\\im.db.zip', 'r') as zip_ref:\n",
    "    zip_ref.extractall('zippedData')\n",
    "\n",
    "# Connect to the extracted SQLite database\n",
    "conn = sqlite3.connect('zippedData/im.db')\n",
    "\n",
    "query = \"SELECT name FROM sqlite_master WHERE type='table';\"\n",
    "\n",
    "tables = pd.read_sql_query(query, conn)\n",
    "\n",
    "print(\"Tables in the database:\")\n",
    "print(tables)"
   ]
  },
  {
   "cell_type": "markdown",
   "id": "1365c4da",
   "metadata": {},
   "source": [
    "**Join the relevant columns**"
   ]
  },
  {
   "cell_type": "code",
   "execution_count": 17,
   "id": "2ff3aeb4",
   "metadata": {},
   "outputs": [
    {
     "data": {
      "text/html": [
       "<div>\n",
       "<style scoped>\n",
       "    .dataframe tbody tr th:only-of-type {\n",
       "        vertical-align: middle;\n",
       "    }\n",
       "\n",
       "    .dataframe tbody tr th {\n",
       "        vertical-align: top;\n",
       "    }\n",
       "\n",
       "    .dataframe thead th {\n",
       "        text-align: right;\n",
       "    }\n",
       "</style>\n",
       "<table border=\"1\" class=\"dataframe\">\n",
       "  <thead>\n",
       "    <tr style=\"text-align: right;\">\n",
       "      <th></th>\n",
       "      <th>person_id</th>\n",
       "      <th>primary_name</th>\n",
       "      <th>birth_year</th>\n",
       "      <th>death_year</th>\n",
       "      <th>primary_profession</th>\n",
       "      <th>movie_id</th>\n",
       "      <th>primary_title</th>\n",
       "      <th>original_title</th>\n",
       "      <th>start_year</th>\n",
       "      <th>runtime_minutes</th>\n",
       "      <th>genres</th>\n",
       "      <th>averagerating</th>\n",
       "      <th>numvotes</th>\n",
       "    </tr>\n",
       "  </thead>\n",
       "  <tbody>\n",
       "    <tr>\n",
       "      <th>0</th>\n",
       "      <td>nm0062879</td>\n",
       "      <td>Ruel S. Bayani</td>\n",
       "      <td>NaN</td>\n",
       "      <td>NaN</td>\n",
       "      <td>director,production_manager,miscellaneous</td>\n",
       "      <td>tt1592569</td>\n",
       "      <td>Paano na kaya</td>\n",
       "      <td>Paano na kaya</td>\n",
       "      <td>2010</td>\n",
       "      <td>110.0</td>\n",
       "      <td>Drama,Romance</td>\n",
       "      <td>6.4</td>\n",
       "      <td>77</td>\n",
       "    </tr>\n",
       "    <tr>\n",
       "      <th>1</th>\n",
       "      <td>nm0062879</td>\n",
       "      <td>Ruel S. Bayani</td>\n",
       "      <td>NaN</td>\n",
       "      <td>NaN</td>\n",
       "      <td>director,production_manager,miscellaneous</td>\n",
       "      <td>tt1592569</td>\n",
       "      <td>Paano na kaya</td>\n",
       "      <td>Paano na kaya</td>\n",
       "      <td>2010</td>\n",
       "      <td>110.0</td>\n",
       "      <td>Drama,Romance</td>\n",
       "      <td>6.4</td>\n",
       "      <td>77</td>\n",
       "    </tr>\n",
       "    <tr>\n",
       "      <th>2</th>\n",
       "      <td>nm0062879</td>\n",
       "      <td>Ruel S. Bayani</td>\n",
       "      <td>NaN</td>\n",
       "      <td>NaN</td>\n",
       "      <td>director,production_manager,miscellaneous</td>\n",
       "      <td>tt1592569</td>\n",
       "      <td>Paano na kaya</td>\n",
       "      <td>Paano na kaya</td>\n",
       "      <td>2010</td>\n",
       "      <td>110.0</td>\n",
       "      <td>Drama,Romance</td>\n",
       "      <td>6.4</td>\n",
       "      <td>77</td>\n",
       "    </tr>\n",
       "    <tr>\n",
       "      <th>3</th>\n",
       "      <td>nm0062879</td>\n",
       "      <td>Ruel S. Bayani</td>\n",
       "      <td>NaN</td>\n",
       "      <td>NaN</td>\n",
       "      <td>director,production_manager,miscellaneous</td>\n",
       "      <td>tt1592569</td>\n",
       "      <td>Paano na kaya</td>\n",
       "      <td>Paano na kaya</td>\n",
       "      <td>2010</td>\n",
       "      <td>110.0</td>\n",
       "      <td>Drama,Romance</td>\n",
       "      <td>6.4</td>\n",
       "      <td>77</td>\n",
       "    </tr>\n",
       "    <tr>\n",
       "      <th>4</th>\n",
       "      <td>nm0062879</td>\n",
       "      <td>Ruel S. Bayani</td>\n",
       "      <td>NaN</td>\n",
       "      <td>NaN</td>\n",
       "      <td>director,production_manager,miscellaneous</td>\n",
       "      <td>tt2057445</td>\n",
       "      <td>No Other Woman</td>\n",
       "      <td>No Other Woman</td>\n",
       "      <td>2011</td>\n",
       "      <td>101.0</td>\n",
       "      <td>Drama,Romance,Thriller</td>\n",
       "      <td>6.4</td>\n",
       "      <td>256</td>\n",
       "    </tr>\n",
       "  </tbody>\n",
       "</table>\n",
       "</div>"
      ],
      "text/plain": [
       "   person_id    primary_name  birth_year  death_year  \\\n",
       "0  nm0062879  Ruel S. Bayani         NaN         NaN   \n",
       "1  nm0062879  Ruel S. Bayani         NaN         NaN   \n",
       "2  nm0062879  Ruel S. Bayani         NaN         NaN   \n",
       "3  nm0062879  Ruel S. Bayani         NaN         NaN   \n",
       "4  nm0062879  Ruel S. Bayani         NaN         NaN   \n",
       "\n",
       "                          primary_profession   movie_id   primary_title  \\\n",
       "0  director,production_manager,miscellaneous  tt1592569   Paano na kaya   \n",
       "1  director,production_manager,miscellaneous  tt1592569   Paano na kaya   \n",
       "2  director,production_manager,miscellaneous  tt1592569   Paano na kaya   \n",
       "3  director,production_manager,miscellaneous  tt1592569   Paano na kaya   \n",
       "4  director,production_manager,miscellaneous  tt2057445  No Other Woman   \n",
       "\n",
       "   original_title  start_year  runtime_minutes                  genres  \\\n",
       "0   Paano na kaya        2010            110.0           Drama,Romance   \n",
       "1   Paano na kaya        2010            110.0           Drama,Romance   \n",
       "2   Paano na kaya        2010            110.0           Drama,Romance   \n",
       "3   Paano na kaya        2010            110.0           Drama,Romance   \n",
       "4  No Other Woman        2011            101.0  Drama,Romance,Thriller   \n",
       "\n",
       "   averagerating  numvotes  \n",
       "0            6.4        77  \n",
       "1            6.4        77  \n",
       "2            6.4        77  \n",
       "3            6.4        77  \n",
       "4            6.4       256  "
      ]
     },
     "execution_count": 17,
     "metadata": {},
     "output_type": "execute_result"
    }
   ],
   "source": [
    "#Join the persons.directors,movie basics and movie ratings tables\n",
    "query = \"\"\"\n",
    "    SELECT *\n",
    "    FROM (\n",
    "        SELECT *\n",
    "        FROM persons\n",
    "        JOIN directors USING (person_id)\n",
    "        JOIN movie_basics USING (movie_id)\n",
    "        JOIN movie_ratings USING (movie_id)\n",
    "    ) AS subquery;\n",
    "\"\"\"\n",
    "imdb_df = pd.read_sql(query, conn)\n",
    "imdb_df.head()"
   ]
  },
  {
   "cell_type": "code",
   "execution_count": 18,
   "id": "8fafe006",
   "metadata": {},
   "outputs": [
    {
     "data": {
      "text/html": [
       "<div>\n",
       "<style scoped>\n",
       "    .dataframe tbody tr th:only-of-type {\n",
       "        vertical-align: middle;\n",
       "    }\n",
       "\n",
       "    .dataframe tbody tr th {\n",
       "        vertical-align: top;\n",
       "    }\n",
       "\n",
       "    .dataframe thead th {\n",
       "        text-align: right;\n",
       "    }\n",
       "</style>\n",
       "<table border=\"1\" class=\"dataframe\">\n",
       "  <thead>\n",
       "    <tr style=\"text-align: right;\">\n",
       "      <th></th>\n",
       "      <th>person_id</th>\n",
       "      <th>primary_name</th>\n",
       "      <th>movie_id</th>\n",
       "      <th>runtime_minutes</th>\n",
       "      <th>genres</th>\n",
       "      <th>averagerating</th>\n",
       "    </tr>\n",
       "  </thead>\n",
       "  <tbody>\n",
       "    <tr>\n",
       "      <th>0</th>\n",
       "      <td>nm0062879</td>\n",
       "      <td>Ruel S. Bayani</td>\n",
       "      <td>tt1592569</td>\n",
       "      <td>110.0</td>\n",
       "      <td>Drama,Romance</td>\n",
       "      <td>6.4</td>\n",
       "    </tr>\n",
       "    <tr>\n",
       "      <th>1</th>\n",
       "      <td>nm0062879</td>\n",
       "      <td>Ruel S. Bayani</td>\n",
       "      <td>tt1592569</td>\n",
       "      <td>110.0</td>\n",
       "      <td>Drama,Romance</td>\n",
       "      <td>6.4</td>\n",
       "    </tr>\n",
       "    <tr>\n",
       "      <th>2</th>\n",
       "      <td>nm0062879</td>\n",
       "      <td>Ruel S. Bayani</td>\n",
       "      <td>tt1592569</td>\n",
       "      <td>110.0</td>\n",
       "      <td>Drama,Romance</td>\n",
       "      <td>6.4</td>\n",
       "    </tr>\n",
       "    <tr>\n",
       "      <th>3</th>\n",
       "      <td>nm0062879</td>\n",
       "      <td>Ruel S. Bayani</td>\n",
       "      <td>tt1592569</td>\n",
       "      <td>110.0</td>\n",
       "      <td>Drama,Romance</td>\n",
       "      <td>6.4</td>\n",
       "    </tr>\n",
       "    <tr>\n",
       "      <th>4</th>\n",
       "      <td>nm0062879</td>\n",
       "      <td>Ruel S. Bayani</td>\n",
       "      <td>tt2057445</td>\n",
       "      <td>101.0</td>\n",
       "      <td>Drama,Romance,Thriller</td>\n",
       "      <td>6.4</td>\n",
       "    </tr>\n",
       "  </tbody>\n",
       "</table>\n",
       "</div>"
      ],
      "text/plain": [
       "   person_id    primary_name   movie_id  runtime_minutes  \\\n",
       "0  nm0062879  Ruel S. Bayani  tt1592569            110.0   \n",
       "1  nm0062879  Ruel S. Bayani  tt1592569            110.0   \n",
       "2  nm0062879  Ruel S. Bayani  tt1592569            110.0   \n",
       "3  nm0062879  Ruel S. Bayani  tt1592569            110.0   \n",
       "4  nm0062879  Ruel S. Bayani  tt2057445            101.0   \n",
       "\n",
       "                   genres  averagerating  \n",
       "0           Drama,Romance            6.4  \n",
       "1           Drama,Romance            6.4  \n",
       "2           Drama,Romance            6.4  \n",
       "3           Drama,Romance            6.4  \n",
       "4  Drama,Romance,Thriller            6.4  "
      ]
     },
     "execution_count": 18,
     "metadata": {},
     "output_type": "execute_result"
    }
   ],
   "source": [
    "#Drop the irrelevant columns\n",
    "imdb_df = imdb_df.drop(['birth_year', 'death_year', 'primary_profession', 'start_year', 'numvotes', 'primary_title', 'original_title'], axis=1)\n",
    "imdb_df.head()"
   ]
  },
  {
   "cell_type": "code",
   "execution_count": 19,
   "id": "5c83d6a0",
   "metadata": {},
   "outputs": [
    {
     "name": "stdout",
     "output_type": "stream",
     "text": [
      "<class 'pandas.core.frame.DataFrame'>\n",
      "RangeIndex: 181387 entries, 0 to 181386\n",
      "Data columns (total 6 columns):\n",
      " #   Column           Non-Null Count   Dtype  \n",
      "---  ------           --------------   -----  \n",
      " 0   person_id        181387 non-null  object \n",
      " 1   primary_name     181387 non-null  object \n",
      " 2   movie_id         181387 non-null  object \n",
      " 3   runtime_minutes  163584 non-null  float64\n",
      " 4   genres           180047 non-null  object \n",
      " 5   averagerating    181387 non-null  float64\n",
      "dtypes: float64(2), object(4)\n",
      "memory usage: 8.3+ MB\n"
     ]
    }
   ],
   "source": [
    "#Check the information of the  dataframe\n",
    "imdb_df.info()"
   ]
  },
  {
   "cell_type": "code",
   "execution_count": 20,
   "id": "76f6a244",
   "metadata": {},
   "outputs": [
    {
     "data": {
      "text/html": [
       "<div>\n",
       "<style scoped>\n",
       "    .dataframe tbody tr th:only-of-type {\n",
       "        vertical-align: middle;\n",
       "    }\n",
       "\n",
       "    .dataframe tbody tr th {\n",
       "        vertical-align: top;\n",
       "    }\n",
       "\n",
       "    .dataframe thead th {\n",
       "        text-align: right;\n",
       "    }\n",
       "</style>\n",
       "<table border=\"1\" class=\"dataframe\">\n",
       "  <thead>\n",
       "    <tr style=\"text-align: right;\">\n",
       "      <th></th>\n",
       "      <th>runtime_minutes</th>\n",
       "      <th>averagerating</th>\n",
       "    </tr>\n",
       "  </thead>\n",
       "  <tbody>\n",
       "    <tr>\n",
       "      <th>count</th>\n",
       "      <td>163584.000000</td>\n",
       "      <td>181387.000000</td>\n",
       "    </tr>\n",
       "    <tr>\n",
       "      <th>mean</th>\n",
       "      <td>97.789484</td>\n",
       "      <td>6.217683</td>\n",
       "    </tr>\n",
       "    <tr>\n",
       "      <th>std</th>\n",
       "      <td>194.434689</td>\n",
       "      <td>1.388026</td>\n",
       "    </tr>\n",
       "    <tr>\n",
       "      <th>min</th>\n",
       "      <td>3.000000</td>\n",
       "      <td>1.000000</td>\n",
       "    </tr>\n",
       "    <tr>\n",
       "      <th>25%</th>\n",
       "      <td>84.000000</td>\n",
       "      <td>5.400000</td>\n",
       "    </tr>\n",
       "    <tr>\n",
       "      <th>50%</th>\n",
       "      <td>94.000000</td>\n",
       "      <td>6.300000</td>\n",
       "    </tr>\n",
       "    <tr>\n",
       "      <th>75%</th>\n",
       "      <td>107.000000</td>\n",
       "      <td>7.200000</td>\n",
       "    </tr>\n",
       "    <tr>\n",
       "      <th>max</th>\n",
       "      <td>51420.000000</td>\n",
       "      <td>10.000000</td>\n",
       "    </tr>\n",
       "  </tbody>\n",
       "</table>\n",
       "</div>"
      ],
      "text/plain": [
       "       runtime_minutes  averagerating\n",
       "count    163584.000000  181387.000000\n",
       "mean         97.789484       6.217683\n",
       "std         194.434689       1.388026\n",
       "min           3.000000       1.000000\n",
       "25%          84.000000       5.400000\n",
       "50%          94.000000       6.300000\n",
       "75%         107.000000       7.200000\n",
       "max       51420.000000      10.000000"
      ]
     },
     "execution_count": 20,
     "metadata": {},
     "output_type": "execute_result"
    }
   ],
   "source": [
    "# Check the summary statistics \n",
    "imdb_df.describe()"
   ]
  },
  {
   "cell_type": "code",
   "execution_count": 21,
   "id": "566dab1b",
   "metadata": {},
   "outputs": [
    {
     "name": "stdout",
     "output_type": "stream",
     "text": [
      "The dataframe contains: 181387 rows\n",
      "The dataframe contains: 6 columns\n"
     ]
    }
   ],
   "source": [
    "# Display the number of rows and columns im the dataframe\n",
    "print('The dataframe contains:', imdb_df.shape[0],'rows')\n",
    "print('The dataframe contains:', imdb_df.shape[1],'columns')\n"
   ]
  },
  {
   "cell_type": "markdown",
   "id": "d85340ec",
   "metadata": {},
   "source": [
    "**Handling the missing values**"
   ]
  },
  {
   "cell_type": "code",
   "execution_count": 22,
   "id": "38a24e6a",
   "metadata": {},
   "outputs": [
    {
     "data": {
      "text/plain": [
       "person_id              0\n",
       "primary_name           0\n",
       "movie_id               0\n",
       "runtime_minutes    17803\n",
       "genres              1340\n",
       "averagerating          0\n",
       "dtype: int64"
      ]
     },
     "execution_count": 22,
     "metadata": {},
     "output_type": "execute_result"
    }
   ],
   "source": [
    "# Check for the null values in the dataframe\n",
    "imdb_df.isnull().sum()"
   ]
  },
  {
   "cell_type": "code",
   "execution_count": 23,
   "id": "f51a7531",
   "metadata": {},
   "outputs": [],
   "source": [
    "# Drop the records with missing values\n",
    "imdb_df.dropna(subset=['runtime_minutes', 'genres'], inplace= True)\n"
   ]
  },
  {
   "cell_type": "code",
   "execution_count": 24,
   "id": "6cb558da",
   "metadata": {},
   "outputs": [],
   "source": [
    "# Change the runtime_minutes to the integer format\n",
    "imdb_df['runtime_minutes']= imdb_df['runtime_minutes'].astype('int64')"
   ]
  },
  {
   "cell_type": "code",
   "execution_count": 25,
   "id": "61feaf76",
   "metadata": {},
   "outputs": [],
   "source": [
    "# Verifying the column for runtime_minutes is changed\n",
    "assert imdb_df['runtime_minutes'].dtype == 'int64', \"Conversion to int64 failed\""
   ]
  },
  {
   "cell_type": "markdown",
   "id": "b33a40fd",
   "metadata": {},
   "source": [
    "## **Exploratory Data Analysis**"
   ]
  },
  {
   "cell_type": "markdown",
   "id": "a7179e0b",
   "metadata": {},
   "source": [
    "In this section, we perform Exploratory Data Analysis (EDA) to summarize and visualize the\n",
    "main characteristics of our datasets which will be useful for addressing the objectives\n"
   ]
  },
  {
   "cell_type": "markdown",
   "id": "03f4f360",
   "metadata": {},
   "source": [
    "*Objective 1:Evaluating the Relationship Between production Budget and Profitability*"
   ]
  },
  {
   "cell_type": "markdown",
   "id": "c90156f6",
   "metadata": {},
   "source": [
    "**Univariate Analysis**"
   ]
  },
  {
   "cell_type": "markdown",
   "id": "21bf7957",
   "metadata": {},
   "source": [
    "In this section, we examine the distribution of the production budget variable using a combination of a histogram and a Kernel Density Estimate (KDE) plot. This helps visualize how production budgets are spread across different movies, highlighting patterns such as skewness and the presence of extreme values. By understanding this distribution, we can make informed decisions about how to handle the data in later stages of analysis."
   ]
  },
  {
   "cell_type": "code",
   "execution_count": 26,
   "id": "9ad81294",
   "metadata": {},
   "outputs": [
    {
     "data": {
      "image/png": "[encoded data removed]",
      "text/plain": [
       "<Figure size 720x432 with 1 Axes>"
      ]
     },
     "metadata": {
      "needs_background": "light"
     },
     "output_type": "display_data"
    }
   ],
   "source": [
    "import matplotlib.pyplot as plt\n",
    "import seaborn as sns\n",
    "\n",
    "# Plotting Histogram and KDE together\n",
    "plt.figure(figsize=(10, 6))\n",
    "sns.histplot(tn_df['production_budget'], bins=30, color='skyblue', edgecolor='black', stat='density', label='Histogram')\n",
    "sns.kdeplot(tn_df['production_budget'], color='red', linewidth=2, label='KDE')\n",
    "plt.title('Distribution of Production Budget')\n",
    "plt.xlabel('Production Budget')\n",
    "plt.ylabel('Frequency')\n",
    "plt.legend()\n",
    "plt.show()\n"
   ]
  },
  {
   "cell_type": "markdown",
   "id": "ec6e2499",
   "metadata": {},
   "source": [
    "\n",
    "**Distribution of Production Budgets in Relation to Movie Frequency**  \n",
    "- Most films are produced with relatively low budgets, as shown by the concentration of entries on the lower end of the budget range.  \n",
    "- There is a noticeable decline in the number of movies as production budgets rise, indicating that high-budget films are less common."
   ]
  },
  {
   "cell_type": "markdown",
   "id": "c0256585",
   "metadata": {},
   "source": [
    "**Bivariate Analysis**"
   ]
  },
  {
   "cell_type": "markdown",
   "id": "9c95db40",
   "metadata": {},
   "source": [
    " **Relationship Between Production Budgets and Profits for Movies**\n",
    "\n",
    "\n",
    "Bivariate analysis examines the relationship between two variables. It helps you understand how one variable changes in relation to another—whether there's a correlation, trend, or association between them. So we are going to be comparing production budget and profit to see if higher budgets lead to more profit."
   ]
  },
  {
   "cell_type": "code",
   "execution_count": 27,
   "id": "e9af73a1",
   "metadata": {},
   "outputs": [
    {
     "data": {
      "image/png": "[encoded data removed]",
      "text/plain": [
       "<Figure size 720x432 with 1 Axes>"
      ]
     },
     "metadata": {
      "needs_background": "light"
     },
     "output_type": "display_data"
    }
   ],
   "source": [
    "\n",
    "# Calculate the profit column\n",
    "tn_df['profit'] = tn_df['worldwide_gross'] - tn_df['production_budget']\n",
    "\n",
    "# Creating the plot\n",
    "plt.figure(figsize=(10, 6))\n",
    "sns.scatterplot(x='production_budget', y='profit', data = tn_df)\n",
    "plt.xlabel('Production Budget')\n",
    "plt.ylabel('Profit')\n",
    "plt.title('Production versus profit')\n",
    "plt.show();"
   ]
  },
  {
   "cell_type": "markdown",
   "id": "245de9f9",
   "metadata": {},
   "source": [
    "The scatter plot shows that movies with larger production budgets tend to generate higher profits, as indicated by the greater concentration of high-profit points at the upper end of the budget scale."
   ]
  },
  {
   "cell_type": "markdown",
   "id": "a1314a7b",
   "metadata": {},
   "source": [
    "**Multivariate analysis**"
   ]
  },
  {
   "cell_type": "markdown",
   "id": "7321884c",
   "metadata": {},
   "source": [
    "\n",
    "\n",
    "In the Multivariate Analysis section, we explore the relationships among more than two variables at once. This broader perspective allows for a more thorough understanding of the data's complexity, revealing patterns, associations, and key factors essential for developing strong and precise predictive models."
   ]
  },
  {
   "cell_type": "code",
   "execution_count": 28,
   "id": "c6721306",
   "metadata": {},
   "outputs": [
    {
     "data": {
      "image/png": "[encoded data removed]",
      "text/plain": [
       "<Figure size 720x576 with 2 Axes>"
      ]
     },
     "metadata": {
      "needs_background": "light"
     },
     "output_type": "display_data"
    }
   ],
   "source": [
    "# Select the columns to use\n",
    "columns = ['production_budget', 'worldwide_gross', 'profit']\n",
    "# Creating a subset of the DataFrame with the specified columns\n",
    "Heatmap_df = tn_df[columns]\n",
    "# Computing the correlation matrix\n",
    "corr_matrix = Heatmap_df.corr()\n",
    "# Plotting the heatmap\n",
    "plt.figure(figsize=(10, 8))\n",
    "sns.heatmap(corr_matrix, annot=True, fmt=\".2f\", cmap=\"coolwarm\", linewidths=.5, vmin=-1, vmax=1)\n",
    "plt.title('Correlation Heatmap of Production Budget, Worldwide Gross, and Profit')\n",
    "plt.show()"
   ]
  },
  {
   "cell_type": "markdown",
   "id": "eb25ae43",
   "metadata": {},
   "source": [
    "Production Budget versus. Worldwide Gross: There is a strong positive correlation of 0.75 indicating that movies with larger production budgets typically achieve higher worldwide gross revenues.\n",
    "\n",
    "Production Budget versus. Profit: A moderate positive correlation of 0.61 suggests that increasing the production budget often leads to higher profits, though this link is not as strong as with worldwide gross.\n",
    "\n",
    "Worldwide Gross versus Profit: Although the specific correlation value isn't provided, the relationship is expected to be strong, given the positive ties both metrics have with production budget."
   ]
  },
  {
   "cell_type": "markdown",
   "id": "066ca8c5",
   "metadata": {},
   "source": [
    "## **Hypothesis Testing** "
   ]
  },
  {
   "cell_type": "markdown",
   "id": "8031509d",
   "metadata": {},
   "source": [
    "Evaluating the Relationship Between production Budget and Profitability\n",
    "\n",
    "\n",
    "To better understand how financial inputs and outcomes are interconnected in the film industry, we aim to assess whether a movie’s production budget  significantly influence its profitability. This exploration is grounded in the following hypotheses:\n",
    "\n",
    "H₀:There is no significant linear relationship between production budget and  profitability.\n",
    "\n",
    "H₁:There is a significant linear relationship between production budget and profitability.\n",
    "\n"
   ]
  },
  {
   "cell_type": "markdown",
   "id": "382b6190",
   "metadata": {},
   "source": [
    "**The Pearson correlation coefficient was computed to determine the linear association between production budget and profit.**"
   ]
  },
  {
   "cell_type": "code",
   "execution_count": 29,
   "id": "579786d1",
   "metadata": {},
   "outputs": [
    {
     "name": "stdout",
     "output_type": "stream",
     "text": [
      "The P-value is : 0.0\n",
      "The Pearson Correlation Coefficient is: 0.6068652923681527\n",
      "Reject the null hypothesis.There is a significant linear relationship between the profit and production budget\n"
     ]
    }
   ],
   "source": [
    "from scipy.stats import pearsonr\n",
    "\n",
    "# set the alpha to 0.05\n",
    "alpha = 0.05\n",
    "# Calculate both the Pearson correlation coefficient and p-value\n",
    "correlation, p_value = pearsonr(tn_df['production_budget'], tn_df['profit'])\n",
    "print(f\"The P-value is : {p_value}\")\n",
    "print(f\"The Pearson Correlation Coefficient is: {correlation}\")\n",
    "\n",
    "if p_value < alpha:\n",
    "\tprint(\"Reject the null hypothesis.There is a significant linear relationship between the profit and production budget\")\n",
    "else:\n",
    "\tprint(\"Fail to reject the null hypothesis. There is no sufficient evidence to show a linear relationship between the profit and production budget\")\n"
   ]
  },
  {
   "cell_type": "markdown",
   "id": "790a6b83",
   "metadata": {},
   "source": [
    "From the output above we can clearly see that A moderate positive correlation of 0.61 suggests that increasing the production budget often leads to higher profits, though this link is not as strong as with worldwide gross.\n",
    "Moreover from our correlation matrix we can see that there is a strong positive correlation of 0.75 indicating that movies with larger production budgets typically achieve higher worldwide gross revenues.\n",
    " \n",
    " This could further be shown visually as shown in the figure below\n",
    "\n"
   ]
  },
  {
   "cell_type": "code",
   "execution_count": 30,
   "id": "b8fff561",
   "metadata": {},
   "outputs": [
    {
     "data": {
      "image/png": "[encoded data removed]",
      "text/plain": [
       "<Figure size 540x540 with 12 Axes>"
      ]
     },
     "metadata": {
      "needs_background": "light"
     },
     "output_type": "display_data"
    }
   ],
   "source": [
    "# Pairplot for visualization\n",
    "sns.pairplot(tn_df[['production_budget', 'worldwide_gross', 'profit']])\n",
    "plt.suptitle('Pairwise Plots: Budget, Gross, and Profit', y=1.02)\n",
    "plt.show()"
   ]
  },
  {
   "cell_type": "markdown",
   "id": "aef15abd",
   "metadata": {},
   "source": [
    "**Performing a linear regression model based on the production_budget and profitability**"
   ]
  },
  {
   "cell_type": "code",
   "execution_count": 52,
   "id": "7e58e18f",
   "metadata": {},
   "outputs": [
    {
     "name": "stdout",
     "output_type": "stream",
     "text": [
      "The variances are not equal\n"
     ]
    }
   ],
   "source": [
    "#Testing for the equality of variances using the levene's test\n",
    "from scipy.stats import levene\n",
    "\n",
    "stat, p = levene(tn_df['production_budget'], tn_df['profit'])\n",
    "if p <= 0.05:\n",
    "    print(\"The variances are not equal\")\n",
    "else:\n",
    "    print(\"The variances are equal\")"
   ]
  },
  {
   "cell_type": "markdown",
   "id": "ce9555d9",
   "metadata": {},
   "source": [
    "To avoid biased standard errors,Inefficient Estimates and invalid standard errors we transform the data since the data has unequal variances "
   ]
  },
  {
   "cell_type": "code",
   "execution_count": 53,
   "id": "3c214e98",
   "metadata": {},
   "outputs": [],
   "source": [
    "# Ensure the columns 'log_production_budget' and 'log_profit' are created\n",
    "import numpy as np\n",
    "\n",
    "# Apply log transformation to stabilize variance\n",
    "tn_df['log_production_budget'] = np.log1p(tn_df['production_budget'])  # log(1 + x) to handle zero values\n",
    "tn_df['log_profit'] = np.log1p(tn_df['profit'])\n",
    "\n",
    "# Drop the few rows with NaN values in the relevant columns\n",
    "tn_df.dropna(subset=['log_production_budget', 'log_profit'], inplace=True)\n",
    "\n"
   ]
  },
  {
   "cell_type": "code",
   "execution_count": 54,
   "id": "1be4802c",
   "metadata": {},
   "outputs": [],
   "source": [
    "log_production_budget = tn_df['log_production_budget']\n",
    "log_profit = tn_df['log_profit']"
   ]
  },
  {
   "cell_type": "markdown",
   "id": "49b2c1f1",
   "metadata": {},
   "source": [
    "**Model Information**: The target variable is the log_profit and the independent Feature (X)  used for prediction is the  log_production_budget.\n",
    " "
   ]
  },
  {
   "cell_type": "code",
   "execution_count": 55,
   "id": "d1bcfe00",
   "metadata": {},
   "outputs": [],
   "source": [
    "\n",
    "# Import the necessary library\n",
    "import statsmodels.api as sm\n",
    "\n",
    "# Defining the feature and target\n",
    "X = tn_df['log_production_budget'] # feature\n",
    "y = tn_df['log_profit'] # target\n",
    "X = sm.add_constant(X)\n",
    "model = sm.OLS(y, X).fit()\n",
    "predictions = model.predict(X)\n"
   ]
  },
  {
   "cell_type": "code",
   "execution_count": 56,
   "id": "b44129af",
   "metadata": {},
   "outputs": [
    {
     "name": "stdout",
     "output_type": "stream",
     "text": [
      "                            OLS Regression Results                            \n",
      "==============================================================================\n",
      "Dep. Variable:             log_profit   R-squared:                       0.417\n",
      "Model:                            OLS   Adj. R-squared:                  0.417\n",
      "Method:                 Least Squares   F-statistic:                     2612.\n",
      "Date:                Fri, 02 May 2025   Prob (F-statistic):               0.00\n",
      "Time:                        19:33:57   Log-Likelihood:                -6449.2\n",
      "No. Observations:                3657   AIC:                         1.290e+04\n",
      "Df Residuals:                    3655   BIC:                         1.291e+04\n",
      "Df Model:                           1                                         \n",
      "Covariance Type:            nonrobust                                         \n",
      "=========================================================================================\n",
      "                            coef    std err          t      P>|t|      [0.025      0.975]\n",
      "-----------------------------------------------------------------------------------------\n",
      "const                     4.9877      0.241     20.685      0.000       4.515       5.460\n",
      "log_production_budget     0.7383      0.014     51.106      0.000       0.710       0.767\n",
      "==============================================================================\n",
      "Omnibus:                      602.911   Durbin-Watson:                   1.096\n",
      "Prob(Omnibus):                  0.000   Jarque-Bera (JB):             1618.962\n",
      "Skew:                          -0.889   Prob(JB):                         0.00\n",
      "Kurtosis:                       5.732   Cond. No.                         173.\n",
      "==============================================================================\n",
      "\n",
      "Notes:\n",
      "[1] Standard Errors assume that the covariance matrix of the errors is correctly specified.\n"
     ]
    }
   ],
   "source": [
    "# Statistical Modeling: Linear Regression Summary\n",
    "print(model.summary())"
   ]
  },
  {
   "cell_type": "markdown",
   "id": "aaed38ab",
   "metadata": {},
   "source": [
    "**Regression Coefficients:**\n",
    "- The model estimates the relationship between production_budget and\n",
    "profit.\n",
    "\n",
    "**Intercept (Constant):** \n",
    "\n",
    "- Our 95% confidence level for the intercept is about 4.51 and  5.46\n",
    "\n",
    "**R-squared (R²):** \n",
    "\n",
    "- The R-squared value is 0.41 - This indicates that only about 41% of the\n",
    "variation in profit can be explained by production_budget.\n",
    "\n",
    "**F-statistic:** \n",
    "- The F-statistic is 2611.833. It assesses the overall significance of the model.\n",
    "                 \n",
    "- The F-statistic’s p-value (0.0) suggests that the model is statistically significant.\n",
    "\n",
    "\n",
    "**p-values:** \n",
    "- The p-value for ‘runtime_minutes’ is 0.00, indicating its significance. \n",
    "              \n",
    "- The p-value for the intercept is also 0.00 suggesting its importance.\n",
    "\n",
    "**Model Fit:** \n",
    "\n",
    "- The model’s goodness of fit is modest (R-squared = 0.41). \n"
   ]
  },
  {
   "cell_type": "markdown",
   "id": "493aedab",
   "metadata": {},
   "source": [
    "**Evaluating and interpreting the model**\n",
    "\n",
    "H₀:The intercept-only model fits the data just as well as our model\n",
    "\n",
    "H₁:Our model fits the data better than the intercept-only model\n",
    "\n"
   ]
  },
  {
   "cell_type": "code",
   "execution_count": 57,
   "id": "502d62fa",
   "metadata": {},
   "outputs": [
    {
     "data": {
      "text/plain": [
       "(2611.8338209104804, 0.0)"
      ]
     },
     "execution_count": 57,
     "metadata": {},
     "output_type": "execute_result"
    }
   ],
   "source": [
    "model.fvalue,model.f_pvalue"
   ]
  },
  {
   "cell_type": "markdown",
   "id": "33aae561",
   "metadata": {},
   "source": [
    "We choose alpha to be 0.05.\n",
    "\n",
    "So f_pvalue<0.05 so we reject the null hypothesis and conclude that our model fits the data better than the intercept-only model."
   ]
  },
  {
   "cell_type": "code",
   "execution_count": 60,
   "id": "8d17e5a9",
   "metadata": {},
   "outputs": [
    {
     "name": "stdout",
     "output_type": "stream",
     "text": [
      "Mean Squared Error (MSE): 1.9152543708775553\n"
     ]
    },
    {
     "data": {
      "image/png": "[encoded data removed]",
      "text/plain": [
       "<Figure size 720x432 with 1 Axes>"
      ]
     },
     "metadata": {
      "needs_background": "light"
     },
     "output_type": "display_data"
    }
   ],
   "source": [
    "# Split the data into training and testing sets\n",
    "from sklearn.model_selection import train_test_split\n",
    "\n",
    "X_train, X_test, y_train, y_test = train_test_split(\n",
    "\ttn_df[['log_production_budget']], tn_df['log_profit'], test_size=0.2, random_state=42\n",
    ")\n",
    "\n",
    "# Fit the model on the training data\n",
    "from sklearn.linear_model import LinearRegression\n",
    "from sklearn.metrics import mean_squared_error\n",
    "\n",
    "regressor = LinearRegression()\n",
    "# Fit the model on the training data\n",
    "regressor.fit(X_train, y_train)\n",
    "\n",
    "# Calculate Mean Squared Error (MSE) on the test data\n",
    "\n",
    "mse = mean_squared_error(y_test, y_pred)\n",
    "print(f\"Mean Squared Error (MSE): {mse}\")\n",
    "\n",
    "# Make predictions on the test data\n",
    "y_pred = regressor.predict(X_test)\n",
    "\n",
    "# Visualize\n",
    "plt.figure(figsize=(10, 6))\n",
    "plt.scatter(X_test, y_test, color='blue', label='Actual')\n",
    "plt.scatter(X_test['log_production_budget'], y_pred, color='red', label='Predicted')\n",
    "plt.xlabel('Log of Production Budget')\n",
    "plt.ylabel('Log of Profit')\n",
    "plt.title('Actual vs Predicted Log of Profit')\n",
    "plt.legend()\n",
    "plt.show()"
   ]
  },
  {
   "cell_type": "markdown",
   "id": "8532c4a8",
   "metadata": {},
   "source": [
    "The figure above is a scatter plot comparing the **actual** and **predicted log of profit** values for the test dataset. Here's the interpretation:\n",
    "\n",
    "1. **Blue Points (Actual Values):**\n",
    "    - These represent the actual log of profit values from the test dataset.\n",
    "    - They show the true relationship between the log of production budget and log of profit.\n",
    "\n",
    "2. **Red Points (Predicted Values):**\n",
    "    - These represent the predicted log of profit values generated by the linear regression model.\n",
    "    - They indicate how well the model approximates the actual values.\n",
    "    - They closely align with the blue points (actual).\n",
    "\n",
    "3. **Alignment:**\n",
    "    - If the model performs well, the red points (predicted) should closely align with the blue points (actual).\n",
    "    - Any significant deviation between the two indicates areas where the model's predictions are less accurate.\n",
    "\n",
    "4. **Insights:**\n",
    "    - The plot shows that the model captures the general trend of the data, but there may be some variance or error in the predictions.\n",
    "    - The spread of points suggests that while the model is reasonably accurate"
   ]
  },
  {
   "cell_type": "markdown",
   "id": "29894724",
   "metadata": {},
   "source": [
    "The visualization helps assess how well the model predicts the profits from\n",
    "production budgets."
   ]
  },
  {
   "cell_type": "markdown",
   "id": "51a1633d",
   "metadata": {},
   "source": [
    "*Objective 2: Determine if there is a difference in audience ratings between the shorter and longer films*\n",
    "\n"
   ]
  },
  {
   "cell_type": "markdown",
   "id": "4ee41a1c",
   "metadata": {},
   "source": [
    "We restrict the imdb_df DataFrame to include only movies with runtimes between 30 and 200 minutes, ensuring the analysis focuses on films with typical and realistic durations."
   ]
  },
  {
   "cell_type": "code",
   "execution_count": 31,
   "id": "2aa28ef8",
   "metadata": {},
   "outputs": [
    {
     "data": {
      "text/html": [
       "<div>\n",
       "<style scoped>\n",
       "    .dataframe tbody tr th:only-of-type {\n",
       "        vertical-align: middle;\n",
       "    }\n",
       "\n",
       "    .dataframe tbody tr th {\n",
       "        vertical-align: top;\n",
       "    }\n",
       "\n",
       "    .dataframe thead th {\n",
       "        text-align: right;\n",
       "    }\n",
       "</style>\n",
       "<table border=\"1\" class=\"dataframe\">\n",
       "  <thead>\n",
       "    <tr style=\"text-align: right;\">\n",
       "      <th></th>\n",
       "      <th>person_id</th>\n",
       "      <th>primary_name</th>\n",
       "      <th>movie_id</th>\n",
       "      <th>runtime_minutes</th>\n",
       "      <th>genres</th>\n",
       "      <th>averagerating</th>\n",
       "    </tr>\n",
       "  </thead>\n",
       "  <tbody>\n",
       "    <tr>\n",
       "      <th>0</th>\n",
       "      <td>nm0062879</td>\n",
       "      <td>Ruel S. Bayani</td>\n",
       "      <td>tt1592569</td>\n",
       "      <td>110</td>\n",
       "      <td>Drama,Romance</td>\n",
       "      <td>6.4</td>\n",
       "    </tr>\n",
       "    <tr>\n",
       "      <th>1</th>\n",
       "      <td>nm0062879</td>\n",
       "      <td>Ruel S. Bayani</td>\n",
       "      <td>tt1592569</td>\n",
       "      <td>110</td>\n",
       "      <td>Drama,Romance</td>\n",
       "      <td>6.4</td>\n",
       "    </tr>\n",
       "    <tr>\n",
       "      <th>2</th>\n",
       "      <td>nm0062879</td>\n",
       "      <td>Ruel S. Bayani</td>\n",
       "      <td>tt1592569</td>\n",
       "      <td>110</td>\n",
       "      <td>Drama,Romance</td>\n",
       "      <td>6.4</td>\n",
       "    </tr>\n",
       "    <tr>\n",
       "      <th>3</th>\n",
       "      <td>nm0062879</td>\n",
       "      <td>Ruel S. Bayani</td>\n",
       "      <td>tt1592569</td>\n",
       "      <td>110</td>\n",
       "      <td>Drama,Romance</td>\n",
       "      <td>6.4</td>\n",
       "    </tr>\n",
       "    <tr>\n",
       "      <th>4</th>\n",
       "      <td>nm0062879</td>\n",
       "      <td>Ruel S. Bayani</td>\n",
       "      <td>tt2057445</td>\n",
       "      <td>101</td>\n",
       "      <td>Drama,Romance,Thriller</td>\n",
       "      <td>6.4</td>\n",
       "    </tr>\n",
       "  </tbody>\n",
       "</table>\n",
       "</div>"
      ],
      "text/plain": [
       "   person_id    primary_name   movie_id  runtime_minutes  \\\n",
       "0  nm0062879  Ruel S. Bayani  tt1592569              110   \n",
       "1  nm0062879  Ruel S. Bayani  tt1592569              110   \n",
       "2  nm0062879  Ruel S. Bayani  tt1592569              110   \n",
       "3  nm0062879  Ruel S. Bayani  tt1592569              110   \n",
       "4  nm0062879  Ruel S. Bayani  tt2057445              101   \n",
       "\n",
       "                   genres  averagerating  \n",
       "0           Drama,Romance            6.4  \n",
       "1           Drama,Romance            6.4  \n",
       "2           Drama,Romance            6.4  \n",
       "3           Drama,Romance            6.4  \n",
       "4  Drama,Romance,Thriller            6.4  "
      ]
     },
     "execution_count": 31,
     "metadata": {},
     "output_type": "execute_result"
    }
   ],
   "source": [
    "#Filter to keep movies with runtime between 30 and 200 minutes\n",
    "relevant_movies_df = imdb_df[(imdb_df['runtime_minutes'] >= 30) & (imdb_df['runtime_minutes'] <= 200)]\n",
    "relevant_movies_df.head()"
   ]
  },
  {
   "cell_type": "markdown",
   "id": "74348294",
   "metadata": {},
   "source": [
    "**Univariate Analysis**\n",
    "\n",
    "\n",
    "**Distribution of Average rating*\n"
   ]
  },
  {
   "cell_type": "markdown",
   "id": "e46fc013",
   "metadata": {},
   "source": [
    "\n",
    "The distribution of average ratings shows how movies are rated by viewers."
   ]
  },
  {
   "cell_type": "code",
   "execution_count": 32,
   "id": "1e96c589",
   "metadata": {},
   "outputs": [
    {
     "data": {
      "image/png": "[encoded data removed]",
      "text/plain": [
       "<Figure size 432x288 with 1 Axes>"
      ]
     },
     "metadata": {
      "needs_background": "light"
     },
     "output_type": "display_data"
    }
   ],
   "source": [
    "sns.histplot(relevant_movies_df['runtime_minutes'], bins=30, kde=False)\n",
    "plt.title('Distribution of Runtime (in minutes)')\n",
    "plt.xlabel('Runtime')\n",
    "plt.ylabel('Frequency')\n",
    "plt.show()"
   ]
  },
  {
   "cell_type": "markdown",
   "id": "5c6a998c",
   "metadata": {},
   "source": [
    "The distribution of movie runtimes is roughly bell-shaped, resembling a normal distribution, but with a slight right skew.\n",
    "The highest concentration of movies is between 90 and 100 minutes, suggesting that this is the most common length for films in the dataset."
   ]
  },
  {
   "cell_type": "markdown",
   "id": "979895f6",
   "metadata": {},
   "source": [
    "**Plotting the distribution of Average rating**\n",
    "\n",
    "\n",
    "The Distribution of average ratings illustrates how viewers evaluate movies, offering insight into audience perceptions of movie quality within the dataset.  "
   ]
  },
  {
   "cell_type": "code",
   "execution_count": 33,
   "id": "3a50dc15",
   "metadata": {},
   "outputs": [
    {
     "data": {
      "image/png": "[encoded data removed]",
      "text/plain": [
       "<Figure size 720x432 with 1 Axes>"
      ]
     },
     "metadata": {
      "needs_background": "light"
     },
     "output_type": "display_data"
    }
   ],
   "source": [
    "import matplotlib.pyplot as plt\n",
    "import seaborn as sns\n",
    "\n",
    "plt.figure(figsize=(10, 6))\n",
    "sns.histplot(relevant_movies_df['averagerating'], bins=30, color='skyblue', edgecolor='black')\n",
    "plt.title('Distribution of Average Movie Ratings')\n",
    "plt.xlabel('Average Rating')\n",
    "plt.ylabel('Frequency')\n",
    "plt.grid(True)\n",
    "plt.show()"
   ]
  },
  {
   "cell_type": "markdown",
   "id": "c6671ec1",
   "metadata": {},
   "source": [
    "From the above we can see that the highest concentration of the average movie  ratings is between around 5.9 and 7.5"
   ]
  },
  {
   "cell_type": "markdown",
   "id": "a406b99d",
   "metadata": {},
   "source": [
    "**Bivariate Analysis**\n"
   ]
  },
  {
   "cell_type": "markdown",
   "id": "dd9f293e",
   "metadata": {},
   "source": [
    "In this section, we examine the relationship between a movie’s runtime and its average rating.This will help us explore how two continuous variables relate to one another—in this case, whether longer or shorter films tend to receive higher or lower audience ratings. Understanding this relationship can offer valuable insights for content planning and production decisions."
   ]
  },
  {
   "cell_type": "code",
   "execution_count": 34,
   "id": "3bd3d9ae",
   "metadata": {},
   "outputs": [],
   "source": [
    "#create a copy of the imdb\n",
    "filt_imdb = relevant_movies_df.copy()"
   ]
  },
  {
   "cell_type": "code",
   "execution_count": 35,
   "id": "f1751bd0",
   "metadata": {},
   "outputs": [
    {
     "data": {
      "text/plain": [
       "0     Shorter\n",
       "1     Shorter\n",
       "2     Shorter\n",
       "3     Shorter\n",
       "4     Shorter\n",
       "5     Shorter\n",
       "6     Shorter\n",
       "7     Shorter\n",
       "10    Shorter\n",
       "11    Shorter\n",
       "12    Shorter\n",
       "13    Shorter\n",
       "14     Longer\n",
       "15    Shorter\n",
       "16    Shorter\n",
       "17    Shorter\n",
       "18    Shorter\n",
       "19    Shorter\n",
       "24    Shorter\n",
       "25    Shorter\n",
       "Name: runtime_group, dtype: object"
      ]
     },
     "execution_count": 35,
     "metadata": {},
     "output_type": "execute_result"
    }
   ],
   "source": [
    "#Create a new column categorizing movies as 'Shorter' or 'Longer'\n",
    "filt_imdb['runtime_group'] = filt_imdb['runtime_minutes'].apply(\n",
    "    lambda x: 'Longer' if x > 120 else 'Shorter')\n",
    "\n",
    "# Display the first 20 rows of the new column\n",
    "filt_imdb['runtime_group'].head(20)\n"
   ]
  },
  {
   "cell_type": "code",
   "execution_count": 36,
   "id": "af4d1fe8",
   "metadata": {},
   "outputs": [
    {
     "data": {
      "image/png": "[encoded data removed]",
      "text/plain": [
       "<Figure size 576x432 with 1 Axes>"
      ]
     },
     "metadata": {
      "needs_background": "light"
     },
     "output_type": "display_data"
    }
   ],
   "source": [
    "#Box plot for the runtime_group by movie average rating\n",
    "import seaborn as sns\n",
    "import matplotlib.pyplot as plt\n",
    "\n",
    "plt.figure(figsize=(8, 6))\n",
    "sns.boxplot(x='runtime_group', y='averagerating', data=filt_imdb, palette='Set2')\n",
    "plt.title('Average Rating by Movie Runtime Category')\n",
    "plt.xlabel('Runtime Category')\n",
    "plt.ylabel('Average Rating')\n",
    "plt.show()"
   ]
  },
  {
   "cell_type": "markdown",
   "id": "2db314fe",
   "metadata": {},
   "source": [
    "Overall, the plot suggests that longer movies might generally receive higher average ratings.\n",
    "\n",
    "The box plot compares average ratings of movies based on their runtime categories—'Shorter' (≤120 minutes) and 'Longer' (>120 minutes). It reveals that longer movies tend to have a slightly higher median rating than shorter ones.\n",
    "\n",
    "The rating distribution for longer movies shows greater variability, as indicated by a wider interquartile range."
   ]
  },
  {
   "cell_type": "markdown",
   "id": "cbb234e5",
   "metadata": {},
   "source": [
    "### **Hypothesis Testing**"
   ]
  },
  {
   "cell_type": "markdown",
   "id": "cdb0b144",
   "metadata": {},
   "source": [
    "\n",
    "H₀: There is no  difference in audience ratings between the shorter and the longer films.\n",
    "\n",
    "H₁: There is a  difference in audience ratings between the  shorter and the longer films."
   ]
  },
  {
   "cell_type": "code",
   "execution_count": 37,
   "id": "722f56c8",
   "metadata": {},
   "outputs": [],
   "source": [
    "#Group the data into 'Shorter' and 'Longer' based on the runtime_group column\n",
    "Shorter = filt_imdb[filt_imdb['runtime_group'] == 'Shorter']['averagerating']\n",
    "Longer = filt_imdb[filt_imdb['runtime_group'] == 'Longer']['averagerating']\n"
   ]
  },
  {
   "cell_type": "code",
   "execution_count": 38,
   "id": "a658f9e9",
   "metadata": {},
   "outputs": [
    {
     "name": "stdout",
     "output_type": "stream",
     "text": [
      "The variances are not equal\n"
     ]
    }
   ],
   "source": [
    "#Testing for the equality of variances using the levene's test\n",
    "from scipy.stats import levene\n",
    "\n",
    "stat, p = levene(Shorter, Longer)\n",
    "if p_value <= 0.05:\n",
    "    print(\"The variances are not equal\")\n",
    "else:\n",
    "    print(\"The variances are equal\")\n"
   ]
  },
  {
   "cell_type": "code",
   "execution_count": 39,
   "id": "1814a755",
   "metadata": {},
   "outputs": [
    {
     "name": "stdout",
     "output_type": "stream",
     "text": [
      "t-stat:-18.1935941280581, p_value: 6.874392240583262e-74\n"
     ]
    }
   ],
   "source": [
    "\n",
    "#Perform the t-test\n",
    "from scipy.stats import ttest_ind\n",
    "t_stat, p_value = ttest_ind(Shorter, Longer, equal_var=True)\n",
    "print(f't-stat:{t_stat}, p_value: {p_value}')"
   ]
  },
  {
   "cell_type": "markdown",
   "id": "8b254bee",
   "metadata": {},
   "source": [
    "**Decision**\n",
    "\n",
    "\n",
    "Alpha = 0.05\n",
    "\n",
    "So at 95% level of confidence we reject the null hypothesis and conclude that there is a statistically significant difference in the audience ratings between the shorter and the Longer films "
   ]
  },
  {
   "cell_type": "markdown",
   "id": "9af19648",
   "metadata": {},
   "source": [
    "*Objetive 3: Identify the Best Directors to Work With*"
   ]
  },
  {
   "cell_type": "markdown",
   "id": "56ad8c38",
   "metadata": {},
   "source": [
    "To find the best directors to work with, we simply check for movie ratings then check the name of the associated director. The directors most associated with high ratings are our target"
   ]
  },
  {
   "cell_type": "code",
   "execution_count": 40,
   "id": "d5e7a094",
   "metadata": {},
   "outputs": [
    {
     "data": {
      "text/html": [
       "<div>\n",
       "<style scoped>\n",
       "    .dataframe tbody tr th:only-of-type {\n",
       "        vertical-align: middle;\n",
       "    }\n",
       "\n",
       "    .dataframe tbody tr th {\n",
       "        vertical-align: top;\n",
       "    }\n",
       "\n",
       "    .dataframe thead th {\n",
       "        text-align: right;\n",
       "    }\n",
       "</style>\n",
       "<table border=\"1\" class=\"dataframe\">\n",
       "  <thead>\n",
       "    <tr style=\"text-align: right;\">\n",
       "      <th></th>\n",
       "      <th>primary_name</th>\n",
       "      <th>averagerating</th>\n",
       "    </tr>\n",
       "  </thead>\n",
       "  <tbody>\n",
       "    <tr>\n",
       "      <th>0</th>\n",
       "      <td>Ruel S. Bayani</td>\n",
       "      <td>6.4</td>\n",
       "    </tr>\n",
       "    <tr>\n",
       "      <th>1</th>\n",
       "      <td>Ruel S. Bayani</td>\n",
       "      <td>6.4</td>\n",
       "    </tr>\n",
       "    <tr>\n",
       "      <th>2</th>\n",
       "      <td>Ruel S. Bayani</td>\n",
       "      <td>6.4</td>\n",
       "    </tr>\n",
       "    <tr>\n",
       "      <th>3</th>\n",
       "      <td>Ruel S. Bayani</td>\n",
       "      <td>6.4</td>\n",
       "    </tr>\n",
       "    <tr>\n",
       "      <th>4</th>\n",
       "      <td>Ruel S. Bayani</td>\n",
       "      <td>6.4</td>\n",
       "    </tr>\n",
       "    <tr>\n",
       "      <th>...</th>\n",
       "      <td>...</td>\n",
       "      <td>...</td>\n",
       "    </tr>\n",
       "    <tr>\n",
       "      <th>181381</th>\n",
       "      <td>Benjamin Ovesen</td>\n",
       "      <td>7.4</td>\n",
       "    </tr>\n",
       "    <tr>\n",
       "      <th>181382</th>\n",
       "      <td>Frank W Chen</td>\n",
       "      <td>5.8</td>\n",
       "    </tr>\n",
       "    <tr>\n",
       "      <th>181383</th>\n",
       "      <td>Frank W Chen</td>\n",
       "      <td>5.8</td>\n",
       "    </tr>\n",
       "    <tr>\n",
       "      <th>181384</th>\n",
       "      <td>Prasobh Vijayan</td>\n",
       "      <td>5.7</td>\n",
       "    </tr>\n",
       "    <tr>\n",
       "      <th>181385</th>\n",
       "      <td>Grzegorz Jankowski</td>\n",
       "      <td>5.2</td>\n",
       "    </tr>\n",
       "  </tbody>\n",
       "</table>\n",
       "<p>162708 rows × 2 columns</p>\n",
       "</div>"
      ],
      "text/plain": [
       "              primary_name  averagerating\n",
       "0           Ruel S. Bayani            6.4\n",
       "1           Ruel S. Bayani            6.4\n",
       "2           Ruel S. Bayani            6.4\n",
       "3           Ruel S. Bayani            6.4\n",
       "4           Ruel S. Bayani            6.4\n",
       "...                    ...            ...\n",
       "181381     Benjamin Ovesen            7.4\n",
       "181382        Frank W Chen            5.8\n",
       "181383        Frank W Chen            5.8\n",
       "181384     Prasobh Vijayan            5.7\n",
       "181385  Grzegorz Jankowski            5.2\n",
       "\n",
       "[162708 rows x 2 columns]"
      ]
     },
     "execution_count": 40,
     "metadata": {},
     "output_type": "execute_result"
    }
   ],
   "source": [
    "# Take the director name and the ratings of their movies from the imdb dataframe\n",
    "directors_df = imdb_df[['primary_name', 'averagerating']]\n",
    "directors_df"
   ]
  },
  {
   "cell_type": "code",
   "execution_count": 41,
   "id": "23b120e8",
   "metadata": {},
   "outputs": [
    {
     "data": {
      "text/html": [
       "<div>\n",
       "<style scoped>\n",
       "    .dataframe tbody tr th:only-of-type {\n",
       "        vertical-align: middle;\n",
       "    }\n",
       "\n",
       "    .dataframe tbody tr th {\n",
       "        vertical-align: top;\n",
       "    }\n",
       "\n",
       "    .dataframe thead th {\n",
       "        text-align: right;\n",
       "    }\n",
       "</style>\n",
       "<table border=\"1\" class=\"dataframe\">\n",
       "  <thead>\n",
       "    <tr style=\"text-align: right;\">\n",
       "      <th></th>\n",
       "      <th>primary_name</th>\n",
       "      <th>Average_Rating</th>\n",
       "      <th>Movie_Count</th>\n",
       "    </tr>\n",
       "  </thead>\n",
       "  <tbody>\n",
       "    <tr>\n",
       "      <th>0</th>\n",
       "      <td>A Normale Jef</td>\n",
       "      <td>7.20</td>\n",
       "      <td>46</td>\n",
       "    </tr>\n",
       "    <tr>\n",
       "      <th>1</th>\n",
       "      <td>A'Ali de Sousa</td>\n",
       "      <td>4.20</td>\n",
       "      <td>1</td>\n",
       "    </tr>\n",
       "    <tr>\n",
       "      <th>2</th>\n",
       "      <td>A. Blaine Miller</td>\n",
       "      <td>7.00</td>\n",
       "      <td>1</td>\n",
       "    </tr>\n",
       "    <tr>\n",
       "      <th>3</th>\n",
       "      <td>A. Cengiz Mert</td>\n",
       "      <td>3.20</td>\n",
       "      <td>1</td>\n",
       "    </tr>\n",
       "    <tr>\n",
       "      <th>4</th>\n",
       "      <td>A. Fishman</td>\n",
       "      <td>7.80</td>\n",
       "      <td>1</td>\n",
       "    </tr>\n",
       "    <tr>\n",
       "      <th>...</th>\n",
       "      <td>...</td>\n",
       "      <td>...</td>\n",
       "      <td>...</td>\n",
       "    </tr>\n",
       "    <tr>\n",
       "      <th>51618</th>\n",
       "      <td>Ümit Kivanç</td>\n",
       "      <td>7.90</td>\n",
       "      <td>2</td>\n",
       "    </tr>\n",
       "    <tr>\n",
       "      <th>51619</th>\n",
       "      <td>Ümit Köreken</td>\n",
       "      <td>6.40</td>\n",
       "      <td>3</td>\n",
       "    </tr>\n",
       "    <tr>\n",
       "      <th>51620</th>\n",
       "      <td>Ümit Uludag</td>\n",
       "      <td>9.20</td>\n",
       "      <td>1</td>\n",
       "    </tr>\n",
       "    <tr>\n",
       "      <th>51621</th>\n",
       "      <td>Ümit Ünal</td>\n",
       "      <td>5.95</td>\n",
       "      <td>4</td>\n",
       "    </tr>\n",
       "    <tr>\n",
       "      <th>51622</th>\n",
       "      <td>Þórdur Bragi Jónsson</td>\n",
       "      <td>6.30</td>\n",
       "      <td>1</td>\n",
       "    </tr>\n",
       "  </tbody>\n",
       "</table>\n",
       "<p>51623 rows × 3 columns</p>\n",
       "</div>"
      ],
      "text/plain": [
       "               primary_name  Average_Rating  Movie_Count\n",
       "0             A Normale Jef            7.20           46\n",
       "1            A'Ali de Sousa            4.20            1\n",
       "2          A. Blaine Miller            7.00            1\n",
       "3            A. Cengiz Mert            3.20            1\n",
       "4                A. Fishman            7.80            1\n",
       "...                     ...             ...          ...\n",
       "51618           Ümit Kivanç            7.90            2\n",
       "51619          Ümit Köreken            6.40            3\n",
       "51620           Ümit Uludag            9.20            1\n",
       "51621             Ümit Ünal            5.95            4\n",
       "51622  Þórdur Bragi Jónsson            6.30            1\n",
       "\n",
       "[51623 rows x 3 columns]"
      ]
     },
     "execution_count": 41,
     "metadata": {},
     "output_type": "execute_result"
    }
   ],
   "source": [
    "# Group the directors by their name to calculate the average rating of their movies\n",
    "directors_df = directors_df.groupby('primary_name').agg(\n",
    "    Average_Rating=('averagerating', 'mean'),\n",
    "    Movie_Count=('averagerating', 'count')\n",
    ").reset_index()\n",
    "\n",
    "directors_df"
   ]
  },
  {
   "cell_type": "code",
   "execution_count": 42,
   "id": "1918d7df",
   "metadata": {},
   "outputs": [
    {
     "data": {
      "text/html": [
       "<div>\n",
       "<style scoped>\n",
       "    .dataframe tbody tr th:only-of-type {\n",
       "        vertical-align: middle;\n",
       "    }\n",
       "\n",
       "    .dataframe tbody tr th {\n",
       "        vertical-align: top;\n",
       "    }\n",
       "\n",
       "    .dataframe thead th {\n",
       "        text-align: right;\n",
       "    }\n",
       "</style>\n",
       "<table border=\"1\" class=\"dataframe\">\n",
       "  <thead>\n",
       "    <tr style=\"text-align: right;\">\n",
       "      <th></th>\n",
       "      <th>primary_name</th>\n",
       "      <th>Average_Rating</th>\n",
       "      <th>Movie_Count</th>\n",
       "    </tr>\n",
       "  </thead>\n",
       "  <tbody>\n",
       "    <tr>\n",
       "      <th>31509</th>\n",
       "      <td>Masahiro Hayakawa</td>\n",
       "      <td>10.0</td>\n",
       "      <td>1</td>\n",
       "    </tr>\n",
       "    <tr>\n",
       "      <th>28788</th>\n",
       "      <td>Loreto Di Cesare</td>\n",
       "      <td>10.0</td>\n",
       "      <td>2</td>\n",
       "    </tr>\n",
       "    <tr>\n",
       "      <th>14093</th>\n",
       "      <td>Emre Oran</td>\n",
       "      <td>10.0</td>\n",
       "      <td>1</td>\n",
       "    </tr>\n",
       "    <tr>\n",
       "      <th>28524</th>\n",
       "      <td>Lindsay Thompson</td>\n",
       "      <td>10.0</td>\n",
       "      <td>1</td>\n",
       "    </tr>\n",
       "    <tr>\n",
       "      <th>33519</th>\n",
       "      <td>Michiel Brongers</td>\n",
       "      <td>10.0</td>\n",
       "      <td>1</td>\n",
       "    </tr>\n",
       "    <tr>\n",
       "      <th>19699</th>\n",
       "      <td>Ivana Diniz</td>\n",
       "      <td>10.0</td>\n",
       "      <td>2</td>\n",
       "    </tr>\n",
       "    <tr>\n",
       "      <th>34776</th>\n",
       "      <td>Nagaraja Uppunda</td>\n",
       "      <td>9.9</td>\n",
       "      <td>1</td>\n",
       "    </tr>\n",
       "    <tr>\n",
       "      <th>2409</th>\n",
       "      <td>Amoghavarsha</td>\n",
       "      <td>9.9</td>\n",
       "      <td>1</td>\n",
       "    </tr>\n",
       "    <tr>\n",
       "      <th>39635</th>\n",
       "      <td>Raphael Sbarge</td>\n",
       "      <td>9.9</td>\n",
       "      <td>1</td>\n",
       "    </tr>\n",
       "    <tr>\n",
       "      <th>25632</th>\n",
       "      <td>Kalyan Varma</td>\n",
       "      <td>9.9</td>\n",
       "      <td>1</td>\n",
       "    </tr>\n",
       "    <tr>\n",
       "      <th>2924</th>\n",
       "      <td>Andrew Jezard</td>\n",
       "      <td>9.9</td>\n",
       "      <td>1</td>\n",
       "    </tr>\n",
       "    <tr>\n",
       "      <th>10835</th>\n",
       "      <td>Dante Tanikie-Montagnani</td>\n",
       "      <td>9.8</td>\n",
       "      <td>1</td>\n",
       "    </tr>\n",
       "    <tr>\n",
       "      <th>30462</th>\n",
       "      <td>Maria Bagnat</td>\n",
       "      <td>9.8</td>\n",
       "      <td>1</td>\n",
       "    </tr>\n",
       "    <tr>\n",
       "      <th>45164</th>\n",
       "      <td>Stacey K. Black</td>\n",
       "      <td>9.8</td>\n",
       "      <td>1</td>\n",
       "    </tr>\n",
       "    <tr>\n",
       "      <th>47865</th>\n",
       "      <td>Todd Howe</td>\n",
       "      <td>9.8</td>\n",
       "      <td>1</td>\n",
       "    </tr>\n",
       "    <tr>\n",
       "      <th>21219</th>\n",
       "      <td>Javi Larrauri</td>\n",
       "      <td>9.8</td>\n",
       "      <td>1</td>\n",
       "    </tr>\n",
       "    <tr>\n",
       "      <th>11656</th>\n",
       "      <td>David Sipos</td>\n",
       "      <td>9.8</td>\n",
       "      <td>1</td>\n",
       "    </tr>\n",
       "    <tr>\n",
       "      <th>6124</th>\n",
       "      <td>Bonnie Hawthorne</td>\n",
       "      <td>9.8</td>\n",
       "      <td>1</td>\n",
       "    </tr>\n",
       "    <tr>\n",
       "      <th>47807</th>\n",
       "      <td>Tobias Frindt</td>\n",
       "      <td>9.7</td>\n",
       "      <td>1</td>\n",
       "    </tr>\n",
       "    <tr>\n",
       "      <th>45741</th>\n",
       "      <td>Steve Wystrach</td>\n",
       "      <td>9.7</td>\n",
       "      <td>2</td>\n",
       "    </tr>\n",
       "  </tbody>\n",
       "</table>\n",
       "</div>"
      ],
      "text/plain": [
       "                   primary_name  Average_Rating  Movie_Count\n",
       "31509         Masahiro Hayakawa            10.0            1\n",
       "28788          Loreto Di Cesare            10.0            2\n",
       "14093                 Emre Oran            10.0            1\n",
       "28524          Lindsay Thompson            10.0            1\n",
       "33519          Michiel Brongers            10.0            1\n",
       "19699               Ivana Diniz            10.0            2\n",
       "34776          Nagaraja Uppunda             9.9            1\n",
       "2409               Amoghavarsha             9.9            1\n",
       "39635            Raphael Sbarge             9.9            1\n",
       "25632              Kalyan Varma             9.9            1\n",
       "2924              Andrew Jezard             9.9            1\n",
       "10835  Dante Tanikie-Montagnani             9.8            1\n",
       "30462              Maria Bagnat             9.8            1\n",
       "45164           Stacey K. Black             9.8            1\n",
       "47865                 Todd Howe             9.8            1\n",
       "21219             Javi Larrauri             9.8            1\n",
       "11656               David Sipos             9.8            1\n",
       "6124           Bonnie Hawthorne             9.8            1\n",
       "47807             Tobias Frindt             9.7            1\n",
       "45741            Steve Wystrach             9.7            2"
      ]
     },
     "execution_count": 42,
     "metadata": {},
     "output_type": "execute_result"
    }
   ],
   "source": [
    "# Sort the directors by the average rating of their movies\n",
    "top_rated = directors_df.sort_values(by='Average_Rating', ascending=False).head(20)\n",
    "top_rated"
   ]
  },
  {
   "cell_type": "code",
   "execution_count": 43,
   "id": "98d5b16d",
   "metadata": {},
   "outputs": [
    {
     "data": {
      "image/png": "[encoded data removed]",
      "text/plain": [
       "<Figure size 720x432 with 1 Axes>"
      ]
     },
     "metadata": {
      "needs_background": "light"
     },
     "output_type": "display_data"
    }
   ],
   "source": [
    "# visualize the top rated directors\n",
    "import matplotlib.pyplot as plt\n",
    "\n",
    "plt.figure(figsize=(10, 6))\n",
    "plt.barh(top_rated['primary_name'], top_rated['Average_Rating'], color='skyblue')\n",
    "plt.xlabel('Average Rating')\n",
    "plt.title('Top 20 Directors by Average Audience Rating')\n",
    "plt.gca().invert_yaxis()  # Highest rating at the top\n",
    "plt.tight_layout()\n",
    "plt.show()"
   ]
  },
  {
   "cell_type": "markdown",
   "id": "f12ad1f5",
   "metadata": {},
   "source": [
    "The highest rated directors seem to have worked on very few movies. We need to find the ones with some experience in the industry"
   ]
  },
  {
   "cell_type": "code",
   "execution_count": 44,
   "id": "e4c0edc1",
   "metadata": {},
   "outputs": [
    {
     "data": {
      "text/html": [
       "<div>\n",
       "<style scoped>\n",
       "    .dataframe tbody tr th:only-of-type {\n",
       "        vertical-align: middle;\n",
       "    }\n",
       "\n",
       "    .dataframe tbody tr th {\n",
       "        vertical-align: top;\n",
       "    }\n",
       "\n",
       "    .dataframe thead th {\n",
       "        text-align: right;\n",
       "    }\n",
       "</style>\n",
       "<table border=\"1\" class=\"dataframe\">\n",
       "  <thead>\n",
       "    <tr style=\"text-align: right;\">\n",
       "      <th></th>\n",
       "      <th>primary_name</th>\n",
       "      <th>Average_Rating</th>\n",
       "      <th>Movie_Count</th>\n",
       "    </tr>\n",
       "  </thead>\n",
       "  <tbody>\n",
       "    <tr>\n",
       "      <th>43999</th>\n",
       "      <td>Shane Ryan</td>\n",
       "      <td>5.626452</td>\n",
       "      <td>155</td>\n",
       "    </tr>\n",
       "    <tr>\n",
       "      <th>48323</th>\n",
       "      <td>Tony Newton</td>\n",
       "      <td>4.785385</td>\n",
       "      <td>130</td>\n",
       "    </tr>\n",
       "    <tr>\n",
       "      <th>41692</th>\n",
       "      <td>Ruben Rodriguez</td>\n",
       "      <td>6.079845</td>\n",
       "      <td>129</td>\n",
       "    </tr>\n",
       "    <tr>\n",
       "      <th>9600</th>\n",
       "      <td>Corey Norman</td>\n",
       "      <td>6.017757</td>\n",
       "      <td>107</td>\n",
       "    </tr>\n",
       "    <tr>\n",
       "      <th>21049</th>\n",
       "      <td>Jason Impey</td>\n",
       "      <td>5.158824</td>\n",
       "      <td>102</td>\n",
       "    </tr>\n",
       "    <tr>\n",
       "      <th>14792</th>\n",
       "      <td>Evan Marlowe</td>\n",
       "      <td>6.403000</td>\n",
       "      <td>100</td>\n",
       "    </tr>\n",
       "    <tr>\n",
       "      <th>20357</th>\n",
       "      <td>James Cullen Bressack</td>\n",
       "      <td>4.601020</td>\n",
       "      <td>98</td>\n",
       "    </tr>\n",
       "    <tr>\n",
       "      <th>37318</th>\n",
       "      <td>Patrick Rea</td>\n",
       "      <td>6.153933</td>\n",
       "      <td>89</td>\n",
       "    </tr>\n",
       "    <tr>\n",
       "      <th>19761</th>\n",
       "      <td>Izzy Lee</td>\n",
       "      <td>5.518293</td>\n",
       "      <td>82</td>\n",
       "    </tr>\n",
       "    <tr>\n",
       "      <th>16413</th>\n",
       "      <td>Gav Chuckie Steel</td>\n",
       "      <td>6.558025</td>\n",
       "      <td>81</td>\n",
       "    </tr>\n",
       "  </tbody>\n",
       "</table>\n",
       "</div>"
      ],
      "text/plain": [
       "                primary_name  Average_Rating  Movie_Count\n",
       "43999             Shane Ryan        5.626452          155\n",
       "48323            Tony Newton        4.785385          130\n",
       "41692        Ruben Rodriguez        6.079845          129\n",
       "9600            Corey Norman        6.017757          107\n",
       "21049            Jason Impey        5.158824          102\n",
       "14792           Evan Marlowe        6.403000          100\n",
       "20357  James Cullen Bressack        4.601020           98\n",
       "37318            Patrick Rea        6.153933           89\n",
       "19761               Izzy Lee        5.518293           82\n",
       "16413      Gav Chuckie Steel        6.558025           81"
      ]
     },
     "execution_count": 44,
     "metadata": {},
     "output_type": "execute_result"
    }
   ],
   "source": [
    "# Sort the directors by the number of movies directed to gauge their experience level\n",
    "experienced_df = directors_df.sort_values(by='Movie_Count', ascending=False).head(10)\n",
    "experienced_df"
   ]
  },
  {
   "cell_type": "code",
   "execution_count": 45,
   "id": "465ed7a5",
   "metadata": {},
   "outputs": [
    {
     "data": {
      "image/png": "[encoded data removed]",
      "text/plain": [
       "<Figure size 1080x504 with 1 Axes>"
      ]
     },
     "metadata": {
      "needs_background": "light"
     },
     "output_type": "display_data"
    }
   ],
   "source": [
    "# visualize the most experienced directors\n",
    "import squarify\n",
    "\n",
    "plt.figure(figsize=(15, 7))\n",
    "squarify.plot(sizes= experienced_df['Movie_Count'], label=experienced_df['primary_name'], alpha=.8)\n",
    "plt.axis('off')\n",
    "plt.title('Treemap of Top 10 Most Experienced Directors')\n",
    "plt.show()\n"
   ]
  },
  {
   "cell_type": "markdown",
   "id": "55d271fb",
   "metadata": {},
   "source": [
    "To find the best directors to recommend, we need to take into account both experience level and ratings. So we have to sort by movie count (experience) then pick the best rated among these"
   ]
  },
  {
   "cell_type": "code",
   "execution_count": 46,
   "id": "85b0dbcc",
   "metadata": {},
   "outputs": [
    {
     "data": {
      "text/html": [
       "<div>\n",
       "<style scoped>\n",
       "    .dataframe tbody tr th:only-of-type {\n",
       "        vertical-align: middle;\n",
       "    }\n",
       "\n",
       "    .dataframe tbody tr th {\n",
       "        vertical-align: top;\n",
       "    }\n",
       "\n",
       "    .dataframe thead th {\n",
       "        text-align: right;\n",
       "    }\n",
       "</style>\n",
       "<table border=\"1\" class=\"dataframe\">\n",
       "  <thead>\n",
       "    <tr style=\"text-align: right;\">\n",
       "      <th></th>\n",
       "      <th>primary_name</th>\n",
       "      <th>Average_Rating</th>\n",
       "      <th>Movie_Count</th>\n",
       "    </tr>\n",
       "  </thead>\n",
       "  <tbody>\n",
       "    <tr>\n",
       "      <th>43999</th>\n",
       "      <td>Shane Ryan</td>\n",
       "      <td>5.626452</td>\n",
       "      <td>155</td>\n",
       "    </tr>\n",
       "    <tr>\n",
       "      <th>48323</th>\n",
       "      <td>Tony Newton</td>\n",
       "      <td>4.785385</td>\n",
       "      <td>130</td>\n",
       "    </tr>\n",
       "    <tr>\n",
       "      <th>41692</th>\n",
       "      <td>Ruben Rodriguez</td>\n",
       "      <td>6.079845</td>\n",
       "      <td>129</td>\n",
       "    </tr>\n",
       "    <tr>\n",
       "      <th>9600</th>\n",
       "      <td>Corey Norman</td>\n",
       "      <td>6.017757</td>\n",
       "      <td>107</td>\n",
       "    </tr>\n",
       "    <tr>\n",
       "      <th>21049</th>\n",
       "      <td>Jason Impey</td>\n",
       "      <td>5.158824</td>\n",
       "      <td>102</td>\n",
       "    </tr>\n",
       "    <tr>\n",
       "      <th>14792</th>\n",
       "      <td>Evan Marlowe</td>\n",
       "      <td>6.403000</td>\n",
       "      <td>100</td>\n",
       "    </tr>\n",
       "    <tr>\n",
       "      <th>20357</th>\n",
       "      <td>James Cullen Bressack</td>\n",
       "      <td>4.601020</td>\n",
       "      <td>98</td>\n",
       "    </tr>\n",
       "    <tr>\n",
       "      <th>37318</th>\n",
       "      <td>Patrick Rea</td>\n",
       "      <td>6.153933</td>\n",
       "      <td>89</td>\n",
       "    </tr>\n",
       "    <tr>\n",
       "      <th>19761</th>\n",
       "      <td>Izzy Lee</td>\n",
       "      <td>5.518293</td>\n",
       "      <td>82</td>\n",
       "    </tr>\n",
       "    <tr>\n",
       "      <th>16413</th>\n",
       "      <td>Gav Chuckie Steel</td>\n",
       "      <td>6.558025</td>\n",
       "      <td>81</td>\n",
       "    </tr>\n",
       "  </tbody>\n",
       "</table>\n",
       "</div>"
      ],
      "text/plain": [
       "                primary_name  Average_Rating  Movie_Count\n",
       "43999             Shane Ryan        5.626452          155\n",
       "48323            Tony Newton        4.785385          130\n",
       "41692        Ruben Rodriguez        6.079845          129\n",
       "9600            Corey Norman        6.017757          107\n",
       "21049            Jason Impey        5.158824          102\n",
       "14792           Evan Marlowe        6.403000          100\n",
       "20357  James Cullen Bressack        4.601020           98\n",
       "37318            Patrick Rea        6.153933           89\n",
       "19761               Izzy Lee        5.518293           82\n",
       "16413      Gav Chuckie Steel        6.558025           81"
      ]
     },
     "execution_count": 46,
     "metadata": {},
     "output_type": "execute_result"
    }
   ],
   "source": [
    "# sort directors by movie count then pick the best rated among these experienced directors\n",
    "best_directors_df = directors_df.sort_values(by='Movie_Count', ascending=False).head(10)\n",
    "best_directors_df"
   ]
  },
  {
   "cell_type": "code",
   "execution_count": 47,
   "id": "0195eeab",
   "metadata": {},
   "outputs": [
    {
     "data": {
      "image/png": "[encoded data removed]",
      "text/plain": [
       "<Figure size 720x432 with 1 Axes>"
      ]
     },
     "metadata": {
      "needs_background": "light"
     },
     "output_type": "display_data"
    }
   ],
   "source": [
    "# visualize the data\n",
    "\n",
    "plt.figure(figsize=(10, 6))\n",
    "bars = plt.barh(best_directors_df['primary_name'],best_directors_df['Movie_Count'], color='skyblue')\n",
    "\n",
    "# Annotate each bar with average rating\n",
    "for bar, rating in zip(bars, best_directors_df['Average_Rating']):\n",
    "    plt.text(bar.get_width() + 0.1, bar.get_y() + bar.get_height()/2,\n",
    "             f'Avg: {rating:.1f}', va='center')\n",
    "\n",
    "plt.xlabel('Movie Count')\n",
    "plt.title('Top Directors by Experience and Average Ratings')\n",
    "plt.tight_layout()\n",
    "plt.show()\n"
   ]
  },
  {
   "cell_type": "markdown",
   "id": "633bc64c",
   "metadata": {},
   "source": [
    "Now we'll plot two axes to show both ratings and number of movies for each director on the same figure"
   ]
  },
  {
   "cell_type": "code",
   "execution_count": 48,
   "id": "076b9630",
   "metadata": {},
   "outputs": [
    {
     "data": {
      "image/png": "[encoded data removed]",
      "text/plain": [
       "<Figure size 1440x720 with 2 Axes>"
      ]
     },
     "metadata": {},
     "output_type": "display_data"
    }
   ],
   "source": [
    "# plot a dual axis bar and line graphs\n",
    "fig, ax1 = plt.subplots(figsize=(20, 10))\n",
    "\n",
    "# Bar plot for movie count\n",
    "ax1.bar(best_directors_df['primary_name'], best_directors_df['Movie_Count'], color='lightcoral')\n",
    "ax1.set_ylabel('Movie Count', color='lightcoral')\n",
    "ax1.tick_params(axis='y', labelcolor='lightcoral')\n",
    "\n",
    "# Line plot for average rating\n",
    "ax2 = ax1.twinx()\n",
    "ax2.plot(best_directors_df['primary_name'], best_directors_df['Average_Rating'], color='steelblue', marker='o')\n",
    "ax2.set_ylabel('Average Rating', color='steelblue')\n",
    "ax2.tick_params(axis='y', labelcolor='steelblue')\n",
    "\n",
    "plt.title('Best Directors: Movie Count (experience) and Average Rating', color = 'white')\n",
    "plt.tight_layout()\n",
    "plt.show()\n"
   ]
  },
  {
   "cell_type": "markdown",
   "id": "75cf1978",
   "metadata": {},
   "source": [
    "*Objective 4: To identify the genres that are linked to high average rating*"
   ]
  },
  {
   "cell_type": "code",
   "execution_count": 49,
   "id": "3e09416b",
   "metadata": {},
   "outputs": [
    {
     "data": {
      "text/html": [
       "<div>\n",
       "<style scoped>\n",
       "    .dataframe tbody tr th:only-of-type {\n",
       "        vertical-align: middle;\n",
       "    }\n",
       "\n",
       "    .dataframe tbody tr th {\n",
       "        vertical-align: top;\n",
       "    }\n",
       "\n",
       "    .dataframe thead th {\n",
       "        text-align: right;\n",
       "    }\n",
       "</style>\n",
       "<table border=\"1\" class=\"dataframe\">\n",
       "  <thead>\n",
       "    <tr style=\"text-align: right;\">\n",
       "      <th></th>\n",
       "      <th>person_id</th>\n",
       "      <th>primary_name</th>\n",
       "      <th>movie_id</th>\n",
       "      <th>runtime_minutes</th>\n",
       "      <th>genres</th>\n",
       "      <th>averagerating</th>\n",
       "    </tr>\n",
       "  </thead>\n",
       "  <tbody>\n",
       "    <tr>\n",
       "      <th>0</th>\n",
       "      <td>nm0062879</td>\n",
       "      <td>Ruel S. Bayani</td>\n",
       "      <td>tt1592569</td>\n",
       "      <td>110</td>\n",
       "      <td>Drama,Romance</td>\n",
       "      <td>6.4</td>\n",
       "    </tr>\n",
       "    <tr>\n",
       "      <th>4</th>\n",
       "      <td>nm0062879</td>\n",
       "      <td>Ruel S. Bayani</td>\n",
       "      <td>tt2057445</td>\n",
       "      <td>101</td>\n",
       "      <td>Drama,Romance,Thriller</td>\n",
       "      <td>6.4</td>\n",
       "    </tr>\n",
       "    <tr>\n",
       "      <th>7</th>\n",
       "      <td>nm0062879</td>\n",
       "      <td>Ruel S. Bayani</td>\n",
       "      <td>tt2590280</td>\n",
       "      <td>100</td>\n",
       "      <td>Drama</td>\n",
       "      <td>5.8</td>\n",
       "    </tr>\n",
       "    <tr>\n",
       "      <th>10</th>\n",
       "      <td>nm0064023</td>\n",
       "      <td>Bryan Beasley</td>\n",
       "      <td>tt4512140</td>\n",
       "      <td>53</td>\n",
       "      <td>Documentary</td>\n",
       "      <td>8.9</td>\n",
       "    </tr>\n",
       "    <tr>\n",
       "      <th>11</th>\n",
       "      <td>nm0067234</td>\n",
       "      <td>Hans Beimler</td>\n",
       "      <td>tt2098699</td>\n",
       "      <td>90</td>\n",
       "      <td>Drama</td>\n",
       "      <td>5.8</td>\n",
       "    </tr>\n",
       "    <tr>\n",
       "      <th>...</th>\n",
       "      <td>...</td>\n",
       "      <td>...</td>\n",
       "      <td>...</td>\n",
       "      <td>...</td>\n",
       "      <td>...</td>\n",
       "      <td>...</td>\n",
       "    </tr>\n",
       "    <tr>\n",
       "      <th>181380</th>\n",
       "      <td>nm9541799</td>\n",
       "      <td>Hamed Saleh</td>\n",
       "      <td>tt7849092</td>\n",
       "      <td>84</td>\n",
       "      <td>Comedy</td>\n",
       "      <td>6.5</td>\n",
       "    </tr>\n",
       "    <tr>\n",
       "      <th>181381</th>\n",
       "      <td>nm9701687</td>\n",
       "      <td>Benjamin Ovesen</td>\n",
       "      <td>tt8146836</td>\n",
       "      <td>55</td>\n",
       "      <td>Drama</td>\n",
       "      <td>7.4</td>\n",
       "    </tr>\n",
       "    <tr>\n",
       "      <th>181382</th>\n",
       "      <td>nm9748617</td>\n",
       "      <td>Frank W Chen</td>\n",
       "      <td>tt8234502</td>\n",
       "      <td>99</td>\n",
       "      <td>Documentary,Sport</td>\n",
       "      <td>5.8</td>\n",
       "    </tr>\n",
       "    <tr>\n",
       "      <th>181384</th>\n",
       "      <td>nm9769561</td>\n",
       "      <td>Prasobh Vijayan</td>\n",
       "      <td>tt8273258</td>\n",
       "      <td>91</td>\n",
       "      <td>Thriller</td>\n",
       "      <td>5.7</td>\n",
       "    </tr>\n",
       "    <tr>\n",
       "      <th>181385</th>\n",
       "      <td>nm9781362</td>\n",
       "      <td>Grzegorz Jankowski</td>\n",
       "      <td>tt4438688</td>\n",
       "      <td>93</td>\n",
       "      <td>Comedy,Musical</td>\n",
       "      <td>5.2</td>\n",
       "    </tr>\n",
       "  </tbody>\n",
       "</table>\n",
       "<p>76567 rows × 6 columns</p>\n",
       "</div>"
      ],
      "text/plain": [
       "        person_id        primary_name   movie_id  runtime_minutes  \\\n",
       "0       nm0062879      Ruel S. Bayani  tt1592569              110   \n",
       "4       nm0062879      Ruel S. Bayani  tt2057445              101   \n",
       "7       nm0062879      Ruel S. Bayani  tt2590280              100   \n",
       "10      nm0064023       Bryan Beasley  tt4512140               53   \n",
       "11      nm0067234        Hans Beimler  tt2098699               90   \n",
       "...           ...                 ...        ...              ...   \n",
       "181380  nm9541799         Hamed Saleh  tt7849092               84   \n",
       "181381  nm9701687     Benjamin Ovesen  tt8146836               55   \n",
       "181382  nm9748617        Frank W Chen  tt8234502               99   \n",
       "181384  nm9769561     Prasobh Vijayan  tt8273258               91   \n",
       "181385  nm9781362  Grzegorz Jankowski  tt4438688               93   \n",
       "\n",
       "                        genres  averagerating  \n",
       "0                Drama,Romance            6.4  \n",
       "4       Drama,Romance,Thriller            6.4  \n",
       "7                        Drama            5.8  \n",
       "10                 Documentary            8.9  \n",
       "11                       Drama            5.8  \n",
       "...                        ...            ...  \n",
       "181380                  Comedy            6.5  \n",
       "181381                   Drama            7.4  \n",
       "181382       Documentary,Sport            5.8  \n",
       "181384                Thriller            5.7  \n",
       "181385          Comedy,Musical            5.2  \n",
       "\n",
       "[76567 rows x 6 columns]"
      ]
     },
     "execution_count": 49,
     "metadata": {},
     "output_type": "execute_result"
    }
   ],
   "source": [
    "imdb_df = imdb_df.drop_duplicates()\n",
    "imdb_df"
   ]
  },
  {
   "cell_type": "markdown",
   "id": "b4a6b384",
   "metadata": {},
   "source": [
    "**Handling Genre Data**\n",
    "\n",
    "*Normalize Genre Data into Individual Rows*\n",
    "\n",
    "Movies with multiple genres are split so each genre appears in its own row. This structure allows accurate per-genre analysis.\n"
   ]
  },
  {
   "cell_type": "code",
   "execution_count": 50,
   "id": "ddd580cb",
   "metadata": {},
   "outputs": [
    {
     "data": {
      "text/html": [
       "<div>\n",
       "<style scoped>\n",
       "    .dataframe tbody tr th:only-of-type {\n",
       "        vertical-align: middle;\n",
       "    }\n",
       "\n",
       "    .dataframe tbody tr th {\n",
       "        vertical-align: top;\n",
       "    }\n",
       "\n",
       "    .dataframe thead th {\n",
       "        text-align: right;\n",
       "    }\n",
       "</style>\n",
       "<table border=\"1\" class=\"dataframe\">\n",
       "  <thead>\n",
       "    <tr style=\"text-align: right;\">\n",
       "      <th></th>\n",
       "      <th>person_id</th>\n",
       "      <th>primary_name</th>\n",
       "      <th>movie_id</th>\n",
       "      <th>runtime_minutes</th>\n",
       "      <th>genres</th>\n",
       "      <th>averagerating</th>\n",
       "    </tr>\n",
       "  </thead>\n",
       "  <tbody>\n",
       "    <tr>\n",
       "      <th>0</th>\n",
       "      <td>nm0062879</td>\n",
       "      <td>Ruel S. Bayani</td>\n",
       "      <td>tt1592569</td>\n",
       "      <td>110</td>\n",
       "      <td>Drama</td>\n",
       "      <td>6.4</td>\n",
       "    </tr>\n",
       "    <tr>\n",
       "      <th>0</th>\n",
       "      <td>nm0062879</td>\n",
       "      <td>Ruel S. Bayani</td>\n",
       "      <td>tt1592569</td>\n",
       "      <td>110</td>\n",
       "      <td>Romance</td>\n",
       "      <td>6.4</td>\n",
       "    </tr>\n",
       "    <tr>\n",
       "      <th>4</th>\n",
       "      <td>nm0062879</td>\n",
       "      <td>Ruel S. Bayani</td>\n",
       "      <td>tt2057445</td>\n",
       "      <td>101</td>\n",
       "      <td>Drama</td>\n",
       "      <td>6.4</td>\n",
       "    </tr>\n",
       "    <tr>\n",
       "      <th>4</th>\n",
       "      <td>nm0062879</td>\n",
       "      <td>Ruel S. Bayani</td>\n",
       "      <td>tt2057445</td>\n",
       "      <td>101</td>\n",
       "      <td>Romance</td>\n",
       "      <td>6.4</td>\n",
       "    </tr>\n",
       "    <tr>\n",
       "      <th>4</th>\n",
       "      <td>nm0062879</td>\n",
       "      <td>Ruel S. Bayani</td>\n",
       "      <td>tt2057445</td>\n",
       "      <td>101</td>\n",
       "      <td>Thriller</td>\n",
       "      <td>6.4</td>\n",
       "    </tr>\n",
       "    <tr>\n",
       "      <th>...</th>\n",
       "      <td>...</td>\n",
       "      <td>...</td>\n",
       "      <td>...</td>\n",
       "      <td>...</td>\n",
       "      <td>...</td>\n",
       "      <td>...</td>\n",
       "    </tr>\n",
       "    <tr>\n",
       "      <th>181382</th>\n",
       "      <td>nm9748617</td>\n",
       "      <td>Frank W Chen</td>\n",
       "      <td>tt8234502</td>\n",
       "      <td>99</td>\n",
       "      <td>Documentary</td>\n",
       "      <td>5.8</td>\n",
       "    </tr>\n",
       "    <tr>\n",
       "      <th>181382</th>\n",
       "      <td>nm9748617</td>\n",
       "      <td>Frank W Chen</td>\n",
       "      <td>tt8234502</td>\n",
       "      <td>99</td>\n",
       "      <td>Sport</td>\n",
       "      <td>5.8</td>\n",
       "    </tr>\n",
       "    <tr>\n",
       "      <th>181384</th>\n",
       "      <td>nm9769561</td>\n",
       "      <td>Prasobh Vijayan</td>\n",
       "      <td>tt8273258</td>\n",
       "      <td>91</td>\n",
       "      <td>Thriller</td>\n",
       "      <td>5.7</td>\n",
       "    </tr>\n",
       "    <tr>\n",
       "      <th>181385</th>\n",
       "      <td>nm9781362</td>\n",
       "      <td>Grzegorz Jankowski</td>\n",
       "      <td>tt4438688</td>\n",
       "      <td>93</td>\n",
       "      <td>Comedy</td>\n",
       "      <td>5.2</td>\n",
       "    </tr>\n",
       "    <tr>\n",
       "      <th>181385</th>\n",
       "      <td>nm9781362</td>\n",
       "      <td>Grzegorz Jankowski</td>\n",
       "      <td>tt4438688</td>\n",
       "      <td>93</td>\n",
       "      <td>Musical</td>\n",
       "      <td>5.2</td>\n",
       "    </tr>\n",
       "  </tbody>\n",
       "</table>\n",
       "<p>138591 rows × 6 columns</p>\n",
       "</div>"
      ],
      "text/plain": [
       "        person_id        primary_name   movie_id  runtime_minutes  \\\n",
       "0       nm0062879      Ruel S. Bayani  tt1592569              110   \n",
       "0       nm0062879      Ruel S. Bayani  tt1592569              110   \n",
       "4       nm0062879      Ruel S. Bayani  tt2057445              101   \n",
       "4       nm0062879      Ruel S. Bayani  tt2057445              101   \n",
       "4       nm0062879      Ruel S. Bayani  tt2057445              101   \n",
       "...           ...                 ...        ...              ...   \n",
       "181382  nm9748617        Frank W Chen  tt8234502               99   \n",
       "181382  nm9748617        Frank W Chen  tt8234502               99   \n",
       "181384  nm9769561     Prasobh Vijayan  tt8273258               91   \n",
       "181385  nm9781362  Grzegorz Jankowski  tt4438688               93   \n",
       "181385  nm9781362  Grzegorz Jankowski  tt4438688               93   \n",
       "\n",
       "             genres  averagerating  \n",
       "0             Drama            6.4  \n",
       "0           Romance            6.4  \n",
       "4             Drama            6.4  \n",
       "4           Romance            6.4  \n",
       "4          Thriller            6.4  \n",
       "...             ...            ...  \n",
       "181382  Documentary            5.8  \n",
       "181382        Sport            5.8  \n",
       "181384     Thriller            5.7  \n",
       "181385       Comedy            5.2  \n",
       "181385      Musical            5.2  \n",
       "\n",
       "[138591 rows x 6 columns]"
      ]
     },
     "execution_count": 50,
     "metadata": {},
     "output_type": "execute_result"
    }
   ],
   "source": [
    "imdb_df['genres'] = imdb_df['genres'].str.split(',')\n",
    "imdb_df = imdb_df.explode('genres')\n",
    "\n",
    "imdb_df"
   ]
  },
  {
   "cell_type": "markdown",
   "id": "ab77cde6",
   "metadata": {},
   "source": [
    "**Calculating Average Rating by Genre**\n",
    "*Compute Average Rating for Each Genre*\n",
    "The dataset is grouped by genre, and the mean IMDb rating is calculated for each group. Results are sorted from highest to lowest rated genre.\n"
   ]
  },
  {
   "cell_type": "code",
   "execution_count": 51,
   "id": "4900e478",
   "metadata": {},
   "outputs": [
    {
     "data": {
      "text/plain": [
       "genres\n",
       "Short          8.800000\n",
       "Documentary    7.300637\n",
       "Game-Show      7.300000\n",
       "News           7.263077\n",
       "Biography      7.153383\n",
       "Music          7.099956\n",
       "History        7.053920\n",
       "Sport          7.000296\n",
       "War            6.596799\n",
       "Musical        6.504895\n",
       "Family         6.411190\n",
       "Drama          6.397100\n",
       "Animation      6.281203\n",
       "Adventure      6.203876\n",
       "Reality-TV     6.163636\n",
       "Romance        6.146892\n",
       "Crime          6.107764\n",
       "Comedy         6.021834\n",
       "Fantasy        5.921722\n",
       "Mystery        5.900030\n",
       "Western        5.859155\n",
       "Action         5.786338\n",
       "Thriller       5.575051\n",
       "Sci-Fi         5.504845\n",
       "Horror         4.968743\n",
       "Adult          3.300000\n",
       "Name: averagerating, dtype: float64"
      ]
     },
     "execution_count": 51,
     "metadata": {},
     "output_type": "execute_result"
    }
   ],
   "source": [
    "genre_ratings = imdb_df.groupby('genres')['averagerating'].mean().sort_values(ascending=False)\n",
    "genre_ratings"
   ]
  },
  {
   "cell_type": "markdown",
   "id": "e6d6ed8a",
   "metadata": {},
   "source": [
    "**Preparing Genre Ratings DataFrame for Analysis**\n",
    "*Finalize Genre Ratings DataFrame*\n",
    "The average ratings are reformatted into a clean DataFrame with clear column names and sorted values. Top 15 and Top 5 genres are selected for visualization.\n"
   ]
  },
  {
   "cell_type": "code",
   "execution_count": 52,
   "id": "09f0a38c",
   "metadata": {},
   "outputs": [
    {
     "data": {
      "text/html": [
       "<div>\n",
       "<style scoped>\n",
       "    .dataframe tbody tr th:only-of-type {\n",
       "        vertical-align: middle;\n",
       "    }\n",
       "\n",
       "    .dataframe tbody tr th {\n",
       "        vertical-align: top;\n",
       "    }\n",
       "\n",
       "    .dataframe thead th {\n",
       "        text-align: right;\n",
       "    }\n",
       "</style>\n",
       "<table border=\"1\" class=\"dataframe\">\n",
       "  <thead>\n",
       "    <tr style=\"text-align: right;\">\n",
       "      <th></th>\n",
       "      <th>genre</th>\n",
       "      <th>average_rating</th>\n",
       "    </tr>\n",
       "  </thead>\n",
       "  <tbody>\n",
       "    <tr>\n",
       "      <th>0</th>\n",
       "      <td>Short</td>\n",
       "      <td>8.800000</td>\n",
       "    </tr>\n",
       "    <tr>\n",
       "      <th>1</th>\n",
       "      <td>Documentary</td>\n",
       "      <td>7.300637</td>\n",
       "    </tr>\n",
       "    <tr>\n",
       "      <th>2</th>\n",
       "      <td>Game-Show</td>\n",
       "      <td>7.300000</td>\n",
       "    </tr>\n",
       "    <tr>\n",
       "      <th>3</th>\n",
       "      <td>News</td>\n",
       "      <td>7.263077</td>\n",
       "    </tr>\n",
       "    <tr>\n",
       "      <th>4</th>\n",
       "      <td>Biography</td>\n",
       "      <td>7.153383</td>\n",
       "    </tr>\n",
       "    <tr>\n",
       "      <th>5</th>\n",
       "      <td>Music</td>\n",
       "      <td>7.099956</td>\n",
       "    </tr>\n",
       "    <tr>\n",
       "      <th>6</th>\n",
       "      <td>History</td>\n",
       "      <td>7.053920</td>\n",
       "    </tr>\n",
       "    <tr>\n",
       "      <th>7</th>\n",
       "      <td>Sport</td>\n",
       "      <td>7.000296</td>\n",
       "    </tr>\n",
       "    <tr>\n",
       "      <th>8</th>\n",
       "      <td>War</td>\n",
       "      <td>6.596799</td>\n",
       "    </tr>\n",
       "    <tr>\n",
       "      <th>9</th>\n",
       "      <td>Musical</td>\n",
       "      <td>6.504895</td>\n",
       "    </tr>\n",
       "    <tr>\n",
       "      <th>10</th>\n",
       "      <td>Family</td>\n",
       "      <td>6.411190</td>\n",
       "    </tr>\n",
       "    <tr>\n",
       "      <th>11</th>\n",
       "      <td>Drama</td>\n",
       "      <td>6.397100</td>\n",
       "    </tr>\n",
       "    <tr>\n",
       "      <th>12</th>\n",
       "      <td>Animation</td>\n",
       "      <td>6.281203</td>\n",
       "    </tr>\n",
       "    <tr>\n",
       "      <th>13</th>\n",
       "      <td>Adventure</td>\n",
       "      <td>6.203876</td>\n",
       "    </tr>\n",
       "    <tr>\n",
       "      <th>14</th>\n",
       "      <td>Reality-TV</td>\n",
       "      <td>6.163636</td>\n",
       "    </tr>\n",
       "    <tr>\n",
       "      <th>15</th>\n",
       "      <td>Romance</td>\n",
       "      <td>6.146892</td>\n",
       "    </tr>\n",
       "    <tr>\n",
       "      <th>16</th>\n",
       "      <td>Crime</td>\n",
       "      <td>6.107764</td>\n",
       "    </tr>\n",
       "    <tr>\n",
       "      <th>17</th>\n",
       "      <td>Comedy</td>\n",
       "      <td>6.021834</td>\n",
       "    </tr>\n",
       "    <tr>\n",
       "      <th>18</th>\n",
       "      <td>Fantasy</td>\n",
       "      <td>5.921722</td>\n",
       "    </tr>\n",
       "    <tr>\n",
       "      <th>19</th>\n",
       "      <td>Mystery</td>\n",
       "      <td>5.900030</td>\n",
       "    </tr>\n",
       "    <tr>\n",
       "      <th>20</th>\n",
       "      <td>Western</td>\n",
       "      <td>5.859155</td>\n",
       "    </tr>\n",
       "    <tr>\n",
       "      <th>21</th>\n",
       "      <td>Action</td>\n",
       "      <td>5.786338</td>\n",
       "    </tr>\n",
       "    <tr>\n",
       "      <th>22</th>\n",
       "      <td>Thriller</td>\n",
       "      <td>5.575051</td>\n",
       "    </tr>\n",
       "    <tr>\n",
       "      <th>23</th>\n",
       "      <td>Sci-Fi</td>\n",
       "      <td>5.504845</td>\n",
       "    </tr>\n",
       "    <tr>\n",
       "      <th>24</th>\n",
       "      <td>Horror</td>\n",
       "      <td>4.968743</td>\n",
       "    </tr>\n",
       "    <tr>\n",
       "      <th>25</th>\n",
       "      <td>Adult</td>\n",
       "      <td>3.300000</td>\n",
       "    </tr>\n",
       "  </tbody>\n",
       "</table>\n",
       "</div>"
      ],
      "text/plain": [
       "          genre  average_rating\n",
       "0         Short        8.800000\n",
       "1   Documentary        7.300637\n",
       "2     Game-Show        7.300000\n",
       "3          News        7.263077\n",
       "4     Biography        7.153383\n",
       "5         Music        7.099956\n",
       "6       History        7.053920\n",
       "7         Sport        7.000296\n",
       "8           War        6.596799\n",
       "9       Musical        6.504895\n",
       "10       Family        6.411190\n",
       "11        Drama        6.397100\n",
       "12    Animation        6.281203\n",
       "13    Adventure        6.203876\n",
       "14   Reality-TV        6.163636\n",
       "15      Romance        6.146892\n",
       "16        Crime        6.107764\n",
       "17       Comedy        6.021834\n",
       "18      Fantasy        5.921722\n",
       "19      Mystery        5.900030\n",
       "20      Western        5.859155\n",
       "21       Action        5.786338\n",
       "22     Thriller        5.575051\n",
       "23       Sci-Fi        5.504845\n",
       "24       Horror        4.968743\n",
       "25        Adult        3.300000"
      ]
     },
     "execution_count": 52,
     "metadata": {},
     "output_type": "execute_result"
    }
   ],
   "source": [
    "# Group, average, and convert to a DataFrame with named columns\n",
    "genre_ratings = imdb_df.groupby('genres')['averagerating'].mean().reset_index()\n",
    "\n",
    "# Rename the columns for clarity\n",
    "genre_ratings.columns = ['genre', 'average_rating']\n",
    "\n",
    "# Sort the DataFrame by average_rating\n",
    "genre_ratings = genre_ratings.sort_values(by='average_rating', ascending=False)\n",
    "\n",
    "# Reset the index to remove numbers on the left\n",
    "genre_ratings = genre_ratings.reset_index(drop=True)\n",
    "\n",
    "\n",
    "# Create Top 15 and Top 5 DataFrames for plotting\n",
    "top15 = genre_ratings.head(15).copy()\n",
    "top5 = genre_ratings.head(5).copy()\n",
    "\n",
    "# View the result\n",
    "genre_ratings"
   ]
  },
  {
   "cell_type": "markdown",
   "id": "8cb03072",
   "metadata": {},
   "source": [
    "**Visualizing Genre Ratings**\n",
    "*Plot Top 15 IMDb Genres (Horizontal Bar Chart)*\n",
    "Displays the 15 highest-rated genres using a horizontal bar chart for readability. Ratings are shown directly on each bar.\n"
   ]
  },
  {
   "cell_type": "code",
   "execution_count": 53,
   "id": "6a15678b",
   "metadata": {},
   "outputs": [
    {
     "data": {
      "image/png": "[encoded data removed]",
      "text/plain": [
       "<Figure size 1008x576 with 1 Axes>"
      ]
     },
     "metadata": {
      "needs_background": "light"
     },
     "output_type": "display_data"
    }
   ],
   "source": [
    "plt.figure(figsize=(14, 8))\n",
    "bars = plt.barh(top15['genre'], top15['average_rating'],\n",
    "                color='#4682B4', edgecolor='black', linewidth=0.5)\n",
    "\n",
    "plt.gca().invert_yaxis()\n",
    "\n",
    "# Add data labels\n",
    "for bar in bars:\n",
    "    plt.text(bar.get_width() + 0.1, bar.get_y() + bar.get_height() / 2,\n",
    "             f\"{bar.get_width():.2f}\", va='center', fontsize=10)\n",
    "\n",
    "# Style\n",
    "plt.title(' Top 15 IMDb Genres by Average Rating', fontsize=20, fontweight='bold', pad=15)\n",
    "plt.xlabel('Average Rating', fontsize=13)\n",
    "plt.ylabel('Genre', fontsize=13)\n",
    "plt.xlim(0, 10)\n",
    "plt.grid(axis='x', linestyle='--', alpha=0.4)\n",
    "plt.gca().set_facecolor('#f5f5f5')\n",
    "plt.tight_layout()\n",
    "plt.show()"
   ]
  },
  {
   "cell_type": "markdown",
   "id": "cc465011",
   "metadata": {},
   "source": [
    "*Plot Top 5 Genres (Vertical Bar Chart)*\n",
    "Highlights the top 5 genres with the highest average IMDb ratings. Includes annotations for clarity.\n"
   ]
  },
  {
   "cell_type": "code",
   "execution_count": 54,
   "id": "83bc7a33",
   "metadata": {},
   "outputs": [
    {
     "data": {
      "image/png": "[encoded data removed]",
      "text/plain": [
       "<Figure size 720x432 with 1 Axes>"
      ]
     },
     "metadata": {
      "needs_background": "light"
     },
     "output_type": "display_data"
    }
   ],
   "source": [
    "plt.figure(figsize=(10, 6))\n",
    "\n",
    "# Bar plot\n",
    "bars = plt.bar(top5['genre'], top5['average_rating'], color='teal')\n",
    "\n",
    "# Add data labels\n",
    "for bar in bars:\n",
    "    height = bar.get_height()\n",
    "    plt.text(bar.get_x() + bar.get_width()/2, height + 0.1, f\"{height:.2f}\", ha='center')\n",
    "\n",
    "# Titles and labels\n",
    "plt.title('Top 5 IMDb Genres by Average Rating', fontsize=16, fontweight='bold')\n",
    "plt.xlabel('Genre', fontsize=12)\n",
    "plt.ylabel('Average Rating', fontsize=12)\n",
    "plt.ylim(0, 10)\n",
    "plt.grid(axis='y', linestyle='--', alpha=0.7)\n",
    "plt.xticks(rotation=45, ha='right')\n",
    "\n",
    "plt.tight_layout()\n",
    "plt.show()"
   ]
  },
  {
   "cell_type": "markdown",
   "id": "225bad68",
   "metadata": {},
   "source": [
    "*Line Plot of Top 15 Genre Ratings*\n",
    "A line chart is used to show trends in average ratings among the top 15 genres. Data labels are added for clarity.\n"
   ]
  },
  {
   "cell_type": "code",
   "execution_count": 55,
   "id": "3b9908bc",
   "metadata": {},
   "outputs": [
    {
     "data": {
      "image/png": "[encoded data removed]",
      "text/plain": [
       "<Figure size 1008x576 with 1 Axes>"
      ]
     },
     "metadata": {
      "needs_background": "light"
     },
     "output_type": "display_data"
    }
   ],
   "source": [
    "plt.figure(figsize=(14, 8))\n",
    "\n",
    "# Line plot\n",
    "plt.plot(top15['genre'], top15['average_rating'], marker='o', linestyle='-', color='seagreen')\n",
    "\n",
    "# Add data labels\n",
    "for i, (x, y) in enumerate(zip(top15['genre'], top15['average_rating'])):\n",
    "    plt.text(i, y + 0.1, f\"{y:.2f}\", ha='center')\n",
    "\n",
    "# Titles and labels\n",
    "plt.title('Top 15 IMDb Genres by Average Rating (Line Plot)', fontsize=16, fontweight='bold')\n",
    "plt.xlabel('Genre')\n",
    "plt.ylabel('Average Rating')\n",
    "plt.ylim(0, 10)\n",
    "plt.grid(True, linestyle='--', alpha=0.6)\n",
    "plt.xticks(rotation=45, ha='right')\n",
    "\n",
    "plt.tight_layout()\n",
    "plt.show()"
   ]
  },
  {
   "cell_type": "markdown",
   "id": "7d4892d8",
   "metadata": {},
   "source": [
    "*Bar Chart of Bottom 10 Genres by Rating*\n",
    "Plots the 10 lowest-rated genres to highlight underperformers. Annotations provide specific average rating values.\n",
    "\n",
    " "
   ]
  },
  {
   "cell_type": "code",
   "execution_count": 56,
   "id": "8f807501",
   "metadata": {},
   "outputs": [
    {
     "data": {
      "image/png": "[encoded data removed]",
      "text/plain": [
       "<Figure size 864x432 with 1 Axes>"
      ]
     },
     "metadata": {
      "needs_background": "light"
     },
     "output_type": "display_data"
    }
   ],
   "source": [
    "bottom10 = genre_ratings.tail(10).sort_values(by='average_rating')\n",
    "\n",
    "plt.figure(figsize=(12, 6))\n",
    "bars = plt.bar(bottom10['genre'], bottom10['average_rating'], color='indianred', edgecolor='black')\n",
    "plt.xticks(rotation=45, ha='right')\n",
    "plt.ylim(0, 10)\n",
    "\n",
    "# Annotate\n",
    "for bar in bars:\n",
    "    yval = bar.get_height()\n",
    "    plt.text(bar.get_x() + bar.get_width()/2, yval + 0.1, f\"{yval:.2f}\", ha='center', fontsize=9)\n",
    "\n",
    "plt.title('Bottom 10 IMDb Genres by Average Rating', fontsize=16, weight='bold')\n",
    "plt.xlabel('Genre')\n",
    "plt.ylabel('Average Rating')\n",
    "plt.grid(axis='y', linestyle='--', alpha=0.4)\n",
    "plt.tight_layout()\n",
    "plt.show()\n"
   ]
  },
  {
   "cell_type": "markdown",
   "id": "49fa4281",
   "metadata": {},
   "source": [
    "*IMDb Genre Ratings Summary Dashboard*\n",
    "Combines top and bottom genres into one visual summary. Includes:\n",
    "- Top 15 horizontal bar chart\n",
    "- Top 5 vertical chart\n",
    "- Bottom 10 genres\n",
    "- Summary insights (highest/lowest-rated and most/least common genres)\n"
   ]
  },
  {
   "cell_type": "code",
   "execution_count": 57,
   "id": "e5496ba8",
   "metadata": {},
   "outputs": [
    {
     "data": {
      "image/png": "[encoded data removed]",
      "text/plain": [
       "<Figure size 1296x864 with 4 Axes>"
      ]
     },
     "metadata": {},
     "output_type": "display_data"
    }
   ],
   "source": [
    "import matplotlib.cm as cm\n",
    "import numpy as np\n",
    "\n",
    "\n",
    "#  Data Preparation \n",
    "bottom10 = genre_ratings.tail(10).sort_values(by='average_rating')\n",
    "top_genre = genre_ratings.iloc[0]\n",
    "low_genre = genre_ratings.iloc[-1]\n",
    "\n",
    "# Genre frequency for summary\n",
    "genre_counts = imdb_df['genres'].value_counts()\n",
    "most_common_genre = genre_counts.idxmax()\n",
    "least_common_genre = genre_counts.idxmin()\n",
    "\n",
    "# Plotting Layout \n",
    "fig, axs = plt.subplots(2, 2, figsize=(18, 12), gridspec_kw={'height_ratios': [2, 1]})\n",
    "fig.patch.set_facecolor('#fdfdfd')  # Background color\n",
    "\n",
    "# Subplot 1: Horizontal Bar Chart (Top 15) \n",
    "colors = cm.viridis(np.linspace(0.2, 1, len(top15)))\n",
    "axs[0, 0].barh(top15['genre'], top15['average_rating'], color=colors, edgecolor='black')\n",
    "axs[0, 0].invert_yaxis()\n",
    "axs[0, 0].set_title('Top 15 Genres (Horizontal Bar)', fontsize=16, weight='bold')\n",
    "axs[0, 0].set_xlabel('Average Rating')\n",
    "axs[0, 0].set_xlim(0, 10)\n",
    "axs[0, 0].grid(axis='x', linestyle='--', alpha=0.4)\n",
    "for i, rating in enumerate(top15['average_rating']):\n",
    "    axs[0, 0].text(rating + 0.1, i, f\"{rating:.2f}\", va='center', fontsize=10)\n",
    "\n",
    "# Subplot 2: Vertical Bar Chart (Top 5) \n",
    "colors5 = cm.plasma(np.linspace(0.4, 0.9, len(top5)))\n",
    "bars = axs[0, 1].bar(top5['genre'], top5['average_rating'], color=colors5, edgecolor='black')\n",
    "axs[0, 1].set_title('Top 5 Genres (Vertical Bar)', fontsize=16, weight='bold')\n",
    "axs[0, 1].set_ylabel('Average Rating')\n",
    "axs[0, 1].set_ylim(0, 10)\n",
    "axs[0, 1].tick_params(axis='x', rotation=45)\n",
    "axs[0, 1].grid(axis='y', linestyle='--', alpha=0.4)\n",
    "axs[0, 1].annotate(f\"Highest: {top_genre['genre']}\",\n",
    "                   xy=(0, top_genre['average_rating']),\n",
    "                   xytext=(0.5, 9.5),\n",
    "                   arrowprops=dict(facecolor='black', arrowstyle='->'),\n",
    "                   fontsize=12)\n",
    "for bar in bars:\n",
    "    axs[0, 1].text(bar.get_x() + bar.get_width()/2, bar.get_height() + 0.2,\n",
    "                   f\"{bar.get_height():.2f}\", ha='center', fontsize=10)\n",
    "\n",
    "# Subplot 3: Bottom 10 Genres \n",
    "bars = axs[1, 0].bar(bottom10['genre'], bottom10['average_rating'], color='indianred', edgecolor='black')\n",
    "axs[1, 0].set_title('Bottom 10 Genres (Vertical Bar)', fontsize=16, weight='bold')\n",
    "axs[1, 0].set_ylabel('Average Rating')\n",
    "axs[1, 0].set_ylim(0, 10)\n",
    "axs[1, 0].tick_params(axis='x', rotation=45)\n",
    "axs[1, 0].grid(axis='y', linestyle='--', alpha=0.4)\n",
    "for bar in bars:\n",
    "    yval = bar.get_height()\n",
    "    axs[1, 0].text(bar.get_x() + bar.get_width()/2, yval + 0.1, f\"{yval:.2f}\", ha='center', fontsize=9)\n",
    "\n",
    "# Subplot 4: Summary Insights \n",
    "axs[1, 1].axis('off')\n",
    "axs[1, 1].text(0, 1.0, 'Summary Insights:', fontsize=16, weight='bold')\n",
    "axs[1, 1].text(0, 0.85, f\"• Highest-rated genre: {top_genre['genre']} ({top_genre['average_rating']:.2f})\")\n",
    "axs[1, 1].text(0, 0.70, f\"• Lowest-rated genre: {low_genre['genre']} ({low_genre['average_rating']:.2f})\")\n",
    "axs[1, 1].text(0, 0.55, f\"• Most common genre: {most_common_genre} ({genre_counts.max()} titles)\")\n",
    "axs[1, 1].text(0, 0.40, f\"• Least common genre: {least_common_genre} ({genre_counts.min()} titles)\")\n",
    "axs[1, 1].set_xlim(0, 1)\n",
    "axs[1, 1].set_ylim(0, 1.1)\n",
    "\n",
    "# Final Layout \n",
    "plt.suptitle('IMDb Genre Ratings Dashboard (Top & Bottom Genres)', fontsize=22, fontweight='bold', y=1.02)\n",
    "plt.tight_layout()\n",
    "plt.show()\n"
   ]
  },
  {
   "cell_type": "markdown",
   "id": "e92ae316",
   "metadata": {},
   "source": [
    "## **Conclusions**\n",
    " \n",
    "1.Increasing the production budget often leads to higher profits\n",
    " \n",
    "2.Movies with larger production budgets typically achieve higher worldwide gross revenues.\n",
    "\n",
    "3.There is a difference in the audience ratings between the shorter and the longer films\n",
    "\n",
    "4.Longer films tend to have a slightly higher median rating than shorter ones.\n",
    "\n",
    "5.The rating distribution for longer movies shows greater variability, as indicated by a wider interquartile range.\n",
    "\n",
    "6.As shown the genre Short has high ratings but few titles, it indicates potential low competition and high demand\n",
    "\n",
    "\n",
    "\n",
    "\n",
    "\n",
    " "
   ]
  },
  {
   "cell_type": "markdown",
   "id": "91afc138",
   "metadata": {},
   "source": [
    "## **Recommendations**\n",
    "\n",
    "1.Enhance Profitability Tracking: Implement metrics for profit margin and return on investment (ROI) to better evaluate the success of each project.\n",
    "\n",
    "2.Refine Budget Allocation Strategies: Invest in production budgets that are high enough to drive profitability, but remain mindful of overspending.\n",
    "\n",
    "3.Analyze past performance to identify a budget threshold that maximizes returns without crossing into diminishing profit margins.\n",
    " \n",
    "4.Prioritize Top-Rated Genres for Critical Acclaim: Genres like Short, Documentary, Game Show consistently receive the highest average IMDb ratings.\n",
    "\n",
    "5.Consider producing at least one high-quality film in one of the above top-rated genre to build studio credibility and recognition.\n",
    "\n",
    "6.Consider Investing in Longer-Format Films\n",
    "\n",
    "\n",
    "7.Since longer films tend to receive slightly higher audience ratings, allocating more resources to developing or acquiring quality longer-format content could enhance audience satisfaction and brand reputation.\n",
    "\n",
    "8.Focus on Quality Storytelling for Long Films\n",
    "\n",
    "\n",
    "9.The wider variability in ratings for long movies suggests they can either perform very well or poorly. \n",
    "\n",
    "10.Focus on strong scripts, editing, and pacing to ensure that longer runtimes deliver consistent viewer engagement.\n",
    "\n",
    "11.Explore Underserved but High-Rated Genres: Some highly-rated genres may also be among the least common. As shown the genre Short has high ratings but few titles, it indicates potential low competition and high demand.Target these niches for original and impactful storytelling that can stand out and attract good ratings.\n",
    "\n",
    "12.Leverage Popular Genres for Commercial Success:The most common genre, Drama, may not be the highest rated but indicates broad market appeal and a large audience.Add at least one movie in a popular genre like Drama to help draw in more viewers and boost your revenue.\n",
    "\n",
    "13.From the visualizations, the best directors out of these according to their ratings and experience are: Sergey A., Evan MarlowePatrick ,ReaRuben Rodriguez and Corey Norman\n",
    "\n",
    "\n",
    "\n",
    "\n",
    "\n",
    "\n",
    "\n",
    "\n",
    "\n",
    "\n",
    "\n",
    "\n",
    "\n"
   ]
  }
 ],
 "metadata": {
  "kernelspec": {
   "display_name": "learn-env",
   "language": "python",
   "name": "python3"
  },
  "language_info": {
   "codemirror_mode": {
    "name": "ipython",
    "version": 3
   },
   "file_extension": ".py",
   "mimetype": "text/x-python",
   "name": "python",
   "nbconvert_exporter": "python",
   "pygments_lexer": "ipython3",
   "version": "3.8.5"
  }
 },
 "nbformat": 4,
 "nbformat_minor": 5
}
